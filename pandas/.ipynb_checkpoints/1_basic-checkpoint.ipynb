{
 "cells": [
  {
   "cell_type": "markdown",
   "metadata": {},
   "source": [
    "# Chapter 14. Pandas"
   ]
  },
  {
   "cell_type": "code",
   "execution_count": null,
   "metadata": {},
   "outputs": [],
   "source": []
  },
  {
   "cell_type": "code",
   "execution_count": null,
   "metadata": {},
   "outputs": [],
   "source": []
  },
  {
   "cell_type": "code",
   "execution_count": 1,
   "metadata": {},
   "outputs": [],
   "source": [
    "import pandas as pd"
   ]
  },
  {
   "cell_type": "markdown",
   "metadata": {},
   "source": [
    "## Series"
   ]
  },
  {
   "cell_type": "code",
   "execution_count": 4,
   "metadata": {},
   "outputs": [
    {
     "data": {
      "text/plain": [
       "0     5\n",
       "1    -4\n",
       "2     7\n",
       "3     0\n",
       "4    12\n",
       "dtype: int64"
      ]
     },
     "execution_count": 4,
     "metadata": {},
     "output_type": "execute_result"
    }
   ],
   "source": [
    "# ex 14-1\n",
    "\n",
    "obj = pd.Series([5,-4,7,0,12])\n",
    "obj"
   ]
  },
  {
   "cell_type": "code",
   "execution_count": 5,
   "metadata": {},
   "outputs": [
    {
     "data": {
      "text/plain": [
       "array([ 5, -4,  7,  0, 12], dtype=int64)"
      ]
     },
     "execution_count": 5,
     "metadata": {},
     "output_type": "execute_result"
    }
   ],
   "source": [
    "# ex 14-2\n",
    "\n",
    "obj.values"
   ]
  },
  {
   "cell_type": "code",
   "execution_count": 7,
   "metadata": {},
   "outputs": [
    {
     "data": {
      "text/plain": [
       "RangeIndex(start=0, stop=5, step=1)"
      ]
     },
     "execution_count": 7,
     "metadata": {},
     "output_type": "execute_result"
    }
   ],
   "source": [
    "obj.index"
   ]
  },
  {
   "cell_type": "code",
   "execution_count": 8,
   "metadata": {},
   "outputs": [
    {
     "data": {
      "text/plain": [
       "7"
      ]
     },
     "execution_count": 8,
     "metadata": {},
     "output_type": "execute_result"
    }
   ],
   "source": [
    "obj[2]"
   ]
  },
  {
   "cell_type": "code",
   "execution_count": 9,
   "metadata": {},
   "outputs": [
    {
     "data": {
      "text/plain": [
       "a    10\n",
       "b    20\n",
       "c    30\n",
       "d    40\n",
       "e    50\n",
       "dtype: int64"
      ]
     },
     "execution_count": 9,
     "metadata": {},
     "output_type": "execute_result"
    }
   ],
   "source": [
    "#ex 14-3\n",
    "obj = pd.Series([10,20,30,40,50], index=['a', 'b', 'c', 'd', 'e'])\n",
    "obj"
   ]
  },
  {
   "cell_type": "code",
   "execution_count": 10,
   "metadata": {},
   "outputs": [
    {
     "data": {
      "text/plain": [
       "array([10, 20, 30, 40, 50], dtype=int64)"
      ]
     },
     "execution_count": 10,
     "metadata": {},
     "output_type": "execute_result"
    }
   ],
   "source": [
    "obj.values"
   ]
  },
  {
   "cell_type": "code",
   "execution_count": 11,
   "metadata": {},
   "outputs": [
    {
     "data": {
      "text/plain": [
       "Index(['a', 'b', 'c', 'd', 'e'], dtype='object')"
      ]
     },
     "execution_count": 11,
     "metadata": {},
     "output_type": "execute_result"
    }
   ],
   "source": [
    "obj.index"
   ]
  },
  {
   "cell_type": "code",
   "execution_count": 13,
   "metadata": {},
   "outputs": [
    {
     "data": {
      "text/plain": [
       "10"
      ]
     },
     "execution_count": 13,
     "metadata": {},
     "output_type": "execute_result"
    }
   ],
   "source": [
    "obj['a']"
   ]
  },
  {
   "cell_type": "code",
   "execution_count": 19,
   "metadata": {},
   "outputs": [
    {
     "data": {
      "text/plain": [
       "a    10\n",
       "d    40\n",
       "dtype: int64"
      ]
     },
     "execution_count": 19,
     "metadata": {},
     "output_type": "execute_result"
    }
   ],
   "source": [
    "obj[['a', 'd']]"
   ]
  },
  {
   "cell_type": "code",
   "execution_count": 15,
   "metadata": {},
   "outputs": [
    {
     "data": {
      "text/plain": [
       "b    20\n",
       "c    30\n",
       "d    40\n",
       "dtype: int64"
      ]
     },
     "execution_count": 15,
     "metadata": {},
     "output_type": "execute_result"
    }
   ],
   "source": [
    "obj[1:4]"
   ]
  },
  {
   "cell_type": "code",
   "execution_count": 16,
   "metadata": {},
   "outputs": [
    {
     "data": {
      "text/plain": [
       "a    10\n",
       "b    20\n",
       "c    30\n",
       "d    40\n",
       "dtype: int64"
      ]
     },
     "execution_count": 16,
     "metadata": {},
     "output_type": "execute_result"
    }
   ],
   "source": [
    "obj['a':'d']"
   ]
  },
  {
   "cell_type": "code",
   "execution_count": 17,
   "metadata": {},
   "outputs": [
    {
     "data": {
      "text/plain": [
       "a    100\n",
       "b    200\n",
       "c    300\n",
       "d    400\n",
       "e    500\n",
       "dtype: int64"
      ]
     },
     "execution_count": 17,
     "metadata": {},
     "output_type": "execute_result"
    }
   ],
   "source": [
    "# ex 14-4\n",
    "obj * 10"
   ]
  },
  {
   "cell_type": "code",
   "execution_count": 20,
   "metadata": {},
   "outputs": [
    {
     "data": {
      "text/plain": [
       "c    30\n",
       "d    40\n",
       "e    50\n",
       "dtype: int64"
      ]
     },
     "execution_count": 20,
     "metadata": {},
     "output_type": "execute_result"
    }
   ],
   "source": [
    "obj[obj > 25]"
   ]
  },
  {
   "cell_type": "code",
   "execution_count": 22,
   "metadata": {},
   "outputs": [],
   "source": [
    "# ex 14-5\n",
    "\n",
    "pop = pd.Series([9765623, 3441453, 2461769], index=['서울', '부산', '대구'])"
   ]
  },
  {
   "cell_type": "code",
   "execution_count": 24,
   "metadata": {},
   "outputs": [
    {
     "name": "stdout",
     "output_type": "stream",
     "text": [
      "서울 : 9765623\n",
      "부산 : 3441453\n",
      "대구 : 2461769\n"
     ]
    }
   ],
   "source": [
    "for i , v in pop.items():\n",
    "    print('%s : %d'%(i,v))"
   ]
  },
  {
   "cell_type": "code",
   "execution_count": 25,
   "metadata": {},
   "outputs": [
    {
     "name": "stdout",
     "output_type": "stream",
     "text": [
      "9765623\n",
      "3441453\n",
      "2461769\n"
     ]
    }
   ],
   "source": [
    "for item in pop:\n",
    "    print(item)"
   ]
  },
  {
   "cell_type": "code",
   "execution_count": 26,
   "metadata": {},
   "outputs": [
    {
     "name": "stdout",
     "output_type": "stream",
     "text": [
      "서울    9765623.0\n",
      "부산    3441453.0\n",
      "대구    2461769.0\n",
      "광주          NaN\n",
      "대전          NaN\n",
      "dtype: float64\n",
      "광주시 인구 : 149336명\n"
     ]
    }
   ],
   "source": [
    "import pandas as pd\n",
    "\n",
    "pop = pd.Series({'서울': 9765623, '부산': 3441453, '대구':2461769}, \n",
    "                index=['서울', '부산', '대구', '광주', '대전'])\n",
    "print(pop)\n",
    "\n",
    "pop['광주']= 149336\n",
    "\n",
    "print('광주시 인구 : %.0f명'%pop['광주'])"
   ]
  },
  {
   "cell_type": "code",
   "execution_count": 27,
   "metadata": {},
   "outputs": [
    {
     "data": {
      "text/plain": [
       "서울    9765623.0\n",
       "부산    3441453.0\n",
       "대구    2461769.0\n",
       "광주          NaN\n",
       "대전          NaN\n",
       "dtype: float64"
      ]
     },
     "execution_count": 27,
     "metadata": {},
     "output_type": "execute_result"
    }
   ],
   "source": [
    "import pandas as pd\n",
    "\n",
    "pop = pd.Series({'서울': 9765623, '부산': 3441453, '대구':2461769}, \n",
    "                index=['서울', '부산', '대구', '광주', '대전'])\n",
    "pop"
   ]
  },
  {
   "cell_type": "code",
   "execution_count": 28,
   "metadata": {},
   "outputs": [
    {
     "data": {
      "text/plain": [
       "서울    False\n",
       "부산    False\n",
       "대구    False\n",
       "광주     True\n",
       "대전     True\n",
       "dtype: bool"
      ]
     },
     "execution_count": 28,
     "metadata": {},
     "output_type": "execute_result"
    }
   ],
   "source": [
    "## isna() >> nan 값이 있는냐?\n",
    "## fillna()\n",
    "\n",
    "\n",
    "pop.isna()"
   ]
  },
  {
   "cell_type": "code",
   "execution_count": 30,
   "metadata": {},
   "outputs": [
    {
     "data": {
      "text/plain": [
       "서울    9765623.0\n",
       "부산    3441453.0\n",
       "대구    2461769.0\n",
       "광주          NaN\n",
       "대전          NaN\n",
       "dtype: float64"
      ]
     },
     "execution_count": 30,
     "metadata": {},
     "output_type": "execute_result"
    }
   ],
   "source": [
    "pop.fillna(0)\n",
    "pop"
   ]
  },
  {
   "cell_type": "code",
   "execution_count": 34,
   "metadata": {},
   "outputs": [
    {
     "data": {
      "text/html": [
       "<div>\n",
       "<style scoped>\n",
       "    .dataframe tbody tr th:only-of-type {\n",
       "        vertical-align: middle;\n",
       "    }\n",
       "\n",
       "    .dataframe tbody tr th {\n",
       "        vertical-align: top;\n",
       "    }\n",
       "\n",
       "    .dataframe thead th {\n",
       "        text-align: right;\n",
       "    }\n",
       "</style>\n",
       "<table border=\"1\" class=\"dataframe\">\n",
       "  <thead>\n",
       "    <tr style=\"text-align: right;\">\n",
       "      <th></th>\n",
       "      <th>이름</th>\n",
       "      <th>아이디</th>\n",
       "      <th>비밀번호</th>\n",
       "    </tr>\n",
       "  </thead>\n",
       "  <tbody>\n",
       "    <tr>\n",
       "      <th>0</th>\n",
       "      <td>홍지수</td>\n",
       "      <td>jshong</td>\n",
       "      <td>1234</td>\n",
       "    </tr>\n",
       "    <tr>\n",
       "      <th>1</th>\n",
       "      <td>안지영</td>\n",
       "      <td>jyahn</td>\n",
       "      <td>1234</td>\n",
       "    </tr>\n",
       "    <tr>\n",
       "      <th>2</th>\n",
       "      <td>김성수</td>\n",
       "      <td>sukim</td>\n",
       "      <td>1234</td>\n",
       "    </tr>\n",
       "    <tr>\n",
       "      <th>3</th>\n",
       "      <td>최예린</td>\n",
       "      <td>yrchoi</td>\n",
       "      <td>1234</td>\n",
       "    </tr>\n",
       "  </tbody>\n",
       "</table>\n",
       "</div>"
      ],
      "text/plain": [
       "    이름     아이디  비밀번호\n",
       "0  홍지수  jshong  1234\n",
       "1  안지영   jyahn  1234\n",
       "2  김성수   sukim  1234\n",
       "3  최예린  yrchoi  1234"
      ]
     },
     "execution_count": 34,
     "metadata": {},
     "output_type": "execute_result"
    }
   ],
   "source": [
    "import pandas as pd\n",
    "\n",
    "data = {'이름': ['홍지수', '안지영', '김성수', '최예린'],\n",
    "       '아이디': ['jshong','jyahn','sukim','yrchoi'],\n",
    "       '비밀번호': ['1234','1234','1234', '1234']}\n",
    "\n",
    "frame = pd.DataFrame(data)\n",
    "\n",
    "frame"
   ]
  },
  {
   "cell_type": "markdown",
   "metadata": {},
   "source": [
    "# DataFrame"
   ]
  },
  {
   "cell_type": "code",
   "execution_count": 35,
   "metadata": {},
   "outputs": [
    {
     "data": {
      "text/plain": [
       "0    홍지수\n",
       "1    안지영\n",
       "2    김성수\n",
       "3    최예린\n",
       "Name: 이름, dtype: object"
      ]
     },
     "execution_count": 35,
     "metadata": {},
     "output_type": "execute_result"
    }
   ],
   "source": [
    "frame['이름']"
   ]
  },
  {
   "cell_type": "code",
   "execution_count": 36,
   "metadata": {},
   "outputs": [
    {
     "ename": "KeyError",
     "evalue": "0",
     "output_type": "error",
     "traceback": [
      "\u001b[1;31m---------------------------------------------------------------------------\u001b[0m",
      "\u001b[1;31mKeyError\u001b[0m                                  Traceback (most recent call last)",
      "\u001b[1;32mC:\\ProgramData\\Anaconda3\\lib\\site-packages\\pandas\\core\\indexes\\base.py\u001b[0m in \u001b[0;36mget_loc\u001b[1;34m(self, key, method, tolerance)\u001b[0m\n\u001b[0;32m   2645\u001b[0m             \u001b[1;32mtry\u001b[0m\u001b[1;33m:\u001b[0m\u001b[1;33m\u001b[0m\u001b[1;33m\u001b[0m\u001b[0m\n\u001b[1;32m-> 2646\u001b[1;33m                 \u001b[1;32mreturn\u001b[0m \u001b[0mself\u001b[0m\u001b[1;33m.\u001b[0m\u001b[0m_engine\u001b[0m\u001b[1;33m.\u001b[0m\u001b[0mget_loc\u001b[0m\u001b[1;33m(\u001b[0m\u001b[0mkey\u001b[0m\u001b[1;33m)\u001b[0m\u001b[1;33m\u001b[0m\u001b[1;33m\u001b[0m\u001b[0m\n\u001b[0m\u001b[0;32m   2647\u001b[0m             \u001b[1;32mexcept\u001b[0m \u001b[0mKeyError\u001b[0m\u001b[1;33m:\u001b[0m\u001b[1;33m\u001b[0m\u001b[1;33m\u001b[0m\u001b[0m\n",
      "\u001b[1;32mpandas\\_libs\\index.pyx\u001b[0m in \u001b[0;36mpandas._libs.index.IndexEngine.get_loc\u001b[1;34m()\u001b[0m\n",
      "\u001b[1;32mpandas\\_libs\\index.pyx\u001b[0m in \u001b[0;36mpandas._libs.index.IndexEngine.get_loc\u001b[1;34m()\u001b[0m\n",
      "\u001b[1;32mpandas\\_libs\\hashtable_class_helper.pxi\u001b[0m in \u001b[0;36mpandas._libs.hashtable.PyObjectHashTable.get_item\u001b[1;34m()\u001b[0m\n",
      "\u001b[1;32mpandas\\_libs\\hashtable_class_helper.pxi\u001b[0m in \u001b[0;36mpandas._libs.hashtable.PyObjectHashTable.get_item\u001b[1;34m()\u001b[0m\n",
      "\u001b[1;31mKeyError\u001b[0m: 0",
      "\nDuring handling of the above exception, another exception occurred:\n",
      "\u001b[1;31mKeyError\u001b[0m                                  Traceback (most recent call last)",
      "\u001b[1;32m<ipython-input-36-705863fce1f8>\u001b[0m in \u001b[0;36m<module>\u001b[1;34m\u001b[0m\n\u001b[1;32m----> 1\u001b[1;33m \u001b[0mframe\u001b[0m\u001b[1;33m[\u001b[0m\u001b[1;36m0\u001b[0m\u001b[1;33m]\u001b[0m\u001b[1;33m\u001b[0m\u001b[1;33m\u001b[0m\u001b[0m\n\u001b[0m",
      "\u001b[1;32mC:\\ProgramData\\Anaconda3\\lib\\site-packages\\pandas\\core\\frame.py\u001b[0m in \u001b[0;36m__getitem__\u001b[1;34m(self, key)\u001b[0m\n\u001b[0;32m   2798\u001b[0m             \u001b[1;32mif\u001b[0m \u001b[0mself\u001b[0m\u001b[1;33m.\u001b[0m\u001b[0mcolumns\u001b[0m\u001b[1;33m.\u001b[0m\u001b[0mnlevels\u001b[0m \u001b[1;33m>\u001b[0m \u001b[1;36m1\u001b[0m\u001b[1;33m:\u001b[0m\u001b[1;33m\u001b[0m\u001b[1;33m\u001b[0m\u001b[0m\n\u001b[0;32m   2799\u001b[0m                 \u001b[1;32mreturn\u001b[0m \u001b[0mself\u001b[0m\u001b[1;33m.\u001b[0m\u001b[0m_getitem_multilevel\u001b[0m\u001b[1;33m(\u001b[0m\u001b[0mkey\u001b[0m\u001b[1;33m)\u001b[0m\u001b[1;33m\u001b[0m\u001b[1;33m\u001b[0m\u001b[0m\n\u001b[1;32m-> 2800\u001b[1;33m             \u001b[0mindexer\u001b[0m \u001b[1;33m=\u001b[0m \u001b[0mself\u001b[0m\u001b[1;33m.\u001b[0m\u001b[0mcolumns\u001b[0m\u001b[1;33m.\u001b[0m\u001b[0mget_loc\u001b[0m\u001b[1;33m(\u001b[0m\u001b[0mkey\u001b[0m\u001b[1;33m)\u001b[0m\u001b[1;33m\u001b[0m\u001b[1;33m\u001b[0m\u001b[0m\n\u001b[0m\u001b[0;32m   2801\u001b[0m             \u001b[1;32mif\u001b[0m \u001b[0mis_integer\u001b[0m\u001b[1;33m(\u001b[0m\u001b[0mindexer\u001b[0m\u001b[1;33m)\u001b[0m\u001b[1;33m:\u001b[0m\u001b[1;33m\u001b[0m\u001b[1;33m\u001b[0m\u001b[0m\n\u001b[0;32m   2802\u001b[0m                 \u001b[0mindexer\u001b[0m \u001b[1;33m=\u001b[0m \u001b[1;33m[\u001b[0m\u001b[0mindexer\u001b[0m\u001b[1;33m]\u001b[0m\u001b[1;33m\u001b[0m\u001b[1;33m\u001b[0m\u001b[0m\n",
      "\u001b[1;32mC:\\ProgramData\\Anaconda3\\lib\\site-packages\\pandas\\core\\indexes\\base.py\u001b[0m in \u001b[0;36mget_loc\u001b[1;34m(self, key, method, tolerance)\u001b[0m\n\u001b[0;32m   2646\u001b[0m                 \u001b[1;32mreturn\u001b[0m \u001b[0mself\u001b[0m\u001b[1;33m.\u001b[0m\u001b[0m_engine\u001b[0m\u001b[1;33m.\u001b[0m\u001b[0mget_loc\u001b[0m\u001b[1;33m(\u001b[0m\u001b[0mkey\u001b[0m\u001b[1;33m)\u001b[0m\u001b[1;33m\u001b[0m\u001b[1;33m\u001b[0m\u001b[0m\n\u001b[0;32m   2647\u001b[0m             \u001b[1;32mexcept\u001b[0m \u001b[0mKeyError\u001b[0m\u001b[1;33m:\u001b[0m\u001b[1;33m\u001b[0m\u001b[1;33m\u001b[0m\u001b[0m\n\u001b[1;32m-> 2648\u001b[1;33m                 \u001b[1;32mreturn\u001b[0m \u001b[0mself\u001b[0m\u001b[1;33m.\u001b[0m\u001b[0m_engine\u001b[0m\u001b[1;33m.\u001b[0m\u001b[0mget_loc\u001b[0m\u001b[1;33m(\u001b[0m\u001b[0mself\u001b[0m\u001b[1;33m.\u001b[0m\u001b[0m_maybe_cast_indexer\u001b[0m\u001b[1;33m(\u001b[0m\u001b[0mkey\u001b[0m\u001b[1;33m)\u001b[0m\u001b[1;33m)\u001b[0m\u001b[1;33m\u001b[0m\u001b[1;33m\u001b[0m\u001b[0m\n\u001b[0m\u001b[0;32m   2649\u001b[0m         \u001b[0mindexer\u001b[0m \u001b[1;33m=\u001b[0m \u001b[0mself\u001b[0m\u001b[1;33m.\u001b[0m\u001b[0mget_indexer\u001b[0m\u001b[1;33m(\u001b[0m\u001b[1;33m[\u001b[0m\u001b[0mkey\u001b[0m\u001b[1;33m]\u001b[0m\u001b[1;33m,\u001b[0m \u001b[0mmethod\u001b[0m\u001b[1;33m=\u001b[0m\u001b[0mmethod\u001b[0m\u001b[1;33m,\u001b[0m \u001b[0mtolerance\u001b[0m\u001b[1;33m=\u001b[0m\u001b[0mtolerance\u001b[0m\u001b[1;33m)\u001b[0m\u001b[1;33m\u001b[0m\u001b[1;33m\u001b[0m\u001b[0m\n\u001b[0;32m   2650\u001b[0m         \u001b[1;32mif\u001b[0m \u001b[0mindexer\u001b[0m\u001b[1;33m.\u001b[0m\u001b[0mndim\u001b[0m \u001b[1;33m>\u001b[0m \u001b[1;36m1\u001b[0m \u001b[1;32mor\u001b[0m \u001b[0mindexer\u001b[0m\u001b[1;33m.\u001b[0m\u001b[0msize\u001b[0m \u001b[1;33m>\u001b[0m \u001b[1;36m1\u001b[0m\u001b[1;33m:\u001b[0m\u001b[1;33m\u001b[0m\u001b[1;33m\u001b[0m\u001b[0m\n",
      "\u001b[1;32mpandas\\_libs\\index.pyx\u001b[0m in \u001b[0;36mpandas._libs.index.IndexEngine.get_loc\u001b[1;34m()\u001b[0m\n",
      "\u001b[1;32mpandas\\_libs\\index.pyx\u001b[0m in \u001b[0;36mpandas._libs.index.IndexEngine.get_loc\u001b[1;34m()\u001b[0m\n",
      "\u001b[1;32mpandas\\_libs\\hashtable_class_helper.pxi\u001b[0m in \u001b[0;36mpandas._libs.hashtable.PyObjectHashTable.get_item\u001b[1;34m()\u001b[0m\n",
      "\u001b[1;32mpandas\\_libs\\hashtable_class_helper.pxi\u001b[0m in \u001b[0;36mpandas._libs.hashtable.PyObjectHashTable.get_item\u001b[1;34m()\u001b[0m\n",
      "\u001b[1;31mKeyError\u001b[0m: 0"
     ]
    }
   ],
   "source": [
    "frame[0]"
   ]
  },
  {
   "cell_type": "code",
   "execution_count": 37,
   "metadata": {},
   "outputs": [
    {
     "data": {
      "text/plain": [
       "'홍지수'"
      ]
     },
     "execution_count": 37,
     "metadata": {},
     "output_type": "execute_result"
    }
   ],
   "source": [
    "frame['이름'][0]"
   ]
  },
  {
   "cell_type": "code",
   "execution_count": 39,
   "metadata": {},
   "outputs": [
    {
     "data": {
      "text/plain": [
       "{'이름': ['김영준', '한지원'],\n",
       " '나이': [20, 23],\n",
       " '전화번호': ['010-3535-4576', '010-1295-7899']}"
      ]
     },
     "execution_count": 39,
     "metadata": {},
     "output_type": "execute_result"
    }
   ],
   "source": [
    "## ex 14-8\n",
    "\n",
    "member = {'이름': ['김영준','한지원'],\n",
    "         '나이':[20,23],\n",
    "         '전화번호' : ['010-3535-4576', '010-1295-7899']}\n",
    "\n",
    "member"
   ]
  },
  {
   "cell_type": "code",
   "execution_count": 40,
   "metadata": {},
   "outputs": [
    {
     "data": {
      "text/html": [
       "<div>\n",
       "<style scoped>\n",
       "    .dataframe tbody tr th:only-of-type {\n",
       "        vertical-align: middle;\n",
       "    }\n",
       "\n",
       "    .dataframe tbody tr th {\n",
       "        vertical-align: top;\n",
       "    }\n",
       "\n",
       "    .dataframe thead th {\n",
       "        text-align: right;\n",
       "    }\n",
       "</style>\n",
       "<table border=\"1\" class=\"dataframe\">\n",
       "  <thead>\n",
       "    <tr style=\"text-align: right;\">\n",
       "      <th></th>\n",
       "      <th>이름</th>\n",
       "      <th>전화번호</th>\n",
       "      <th>나이</th>\n",
       "      <th>주소</th>\n",
       "    </tr>\n",
       "  </thead>\n",
       "  <tbody>\n",
       "    <tr>\n",
       "      <th>01</th>\n",
       "      <td>김영준</td>\n",
       "      <td>010-3535-4576</td>\n",
       "      <td>20</td>\n",
       "      <td>NaN</td>\n",
       "    </tr>\n",
       "    <tr>\n",
       "      <th>02</th>\n",
       "      <td>한지원</td>\n",
       "      <td>010-1295-7899</td>\n",
       "      <td>23</td>\n",
       "      <td>NaN</td>\n",
       "    </tr>\n",
       "  </tbody>\n",
       "</table>\n",
       "</div>"
      ],
      "text/plain": [
       "     이름           전화번호  나이   주소\n",
       "01  김영준  010-3535-4576  20  NaN\n",
       "02  한지원  010-1295-7899  23  NaN"
      ]
     },
     "execution_count": 40,
     "metadata": {},
     "output_type": "execute_result"
    }
   ],
   "source": [
    "df = pd.DataFrame(member,\n",
    "                 columns = ['이름', '전화번호', '나이', '주소'],\n",
    "                 index=['01','02'])\n",
    "\n",
    "df"
   ]
  },
  {
   "cell_type": "code",
   "execution_count": 47,
   "metadata": {},
   "outputs": [
    {
     "data": {
      "text/html": [
       "<div>\n",
       "<style scoped>\n",
       "    .dataframe tbody tr th:only-of-type {\n",
       "        vertical-align: middle;\n",
       "    }\n",
       "\n",
       "    .dataframe tbody tr th {\n",
       "        vertical-align: top;\n",
       "    }\n",
       "\n",
       "    .dataframe thead th {\n",
       "        text-align: right;\n",
       "    }\n",
       "</style>\n",
       "<table border=\"1\" class=\"dataframe\">\n",
       "  <thead>\n",
       "    <tr style=\"text-align: right;\">\n",
       "      <th></th>\n",
       "      <th>학교명</th>\n",
       "      <th>학급수</th>\n",
       "      <th>학생수</th>\n",
       "      <th>교사수</th>\n",
       "    </tr>\n",
       "  </thead>\n",
       "  <tbody>\n",
       "    <tr>\n",
       "      <th>01</th>\n",
       "      <td>가나고</td>\n",
       "      <td>25</td>\n",
       "      <td>620</td>\n",
       "      <td>80</td>\n",
       "    </tr>\n",
       "    <tr>\n",
       "      <th>02</th>\n",
       "      <td>다라고</td>\n",
       "      <td>23</td>\n",
       "      <td>600</td>\n",
       "      <td>95</td>\n",
       "    </tr>\n",
       "    <tr>\n",
       "      <th>03</th>\n",
       "      <td>마바고</td>\n",
       "      <td>15</td>\n",
       "      <td>550</td>\n",
       "      <td>70</td>\n",
       "    </tr>\n",
       "    <tr>\n",
       "      <th>04</th>\n",
       "      <td>사아고</td>\n",
       "      <td>19</td>\n",
       "      <td>580</td>\n",
       "      <td>90</td>\n",
       "    </tr>\n",
       "    <tr>\n",
       "      <th>05</th>\n",
       "      <td>자차고</td>\n",
       "      <td>10</td>\n",
       "      <td>400</td>\n",
       "      <td>65</td>\n",
       "    </tr>\n",
       "  </tbody>\n",
       "</table>\n",
       "</div>"
      ],
      "text/plain": [
       "    학교명  학급수  학생수  교사수\n",
       "01  가나고   25  620   80\n",
       "02  다라고   23  600   95\n",
       "03  마바고   15  550   70\n",
       "04  사아고   19  580   90\n",
       "05  자차고   10  400   65"
      ]
     },
     "execution_count": 47,
     "metadata": {},
     "output_type": "execute_result"
    }
   ],
   "source": [
    "# ex 14-9\n",
    "\n",
    "import pandas as pd\n",
    "data = { '학교명' : ['가나고', '다라고', '마바고', '사아고', '자차고'],\n",
    "     '학급수' : [25,23,15,19,10],\n",
    "     '학생수' : [620,600,550,580,400],\n",
    "     '교사수' : [80,95,70,90,65]}\n",
    "\n",
    "frame = pd.DataFrame(data, index=['01','02','03','04','05'])\n",
    "\n",
    "\n",
    "frame"
   ]
  },
  {
   "cell_type": "code",
   "execution_count": 49,
   "metadata": {},
   "outputs": [
    {
     "data": {
      "text/plain": [
       "550"
      ]
     },
     "execution_count": 49,
     "metadata": {},
     "output_type": "execute_result"
    }
   ],
   "source": [
    "frame['학생수'][2]"
   ]
  },
  {
   "cell_type": "code",
   "execution_count": 52,
   "metadata": {},
   "outputs": [
    {
     "data": {
      "text/plain": [
       "550"
      ]
     },
     "execution_count": 52,
     "metadata": {},
     "output_type": "execute_result"
    }
   ],
   "source": [
    "frame['학생수']['03']"
   ]
  },
  {
   "cell_type": "code",
   "execution_count": 53,
   "metadata": {},
   "outputs": [
    {
     "data": {
      "text/plain": [
       "550"
      ]
     },
     "execution_count": 53,
     "metadata": {},
     "output_type": "execute_result"
    }
   ],
   "source": [
    "frame.loc['03','학생수']"
   ]
  },
  {
   "cell_type": "code",
   "execution_count": 54,
   "metadata": {},
   "outputs": [
    {
     "data": {
      "text/plain": [
       "학교명    사아고\n",
       "학급수     19\n",
       "교사수     90\n",
       "Name: 04, dtype: object"
      ]
     },
     "execution_count": 54,
     "metadata": {},
     "output_type": "execute_result"
    }
   ],
   "source": [
    "frame.loc['04',['학교명', '학급수', '교사수']]"
   ]
  },
  {
   "cell_type": "code",
   "execution_count": 64,
   "metadata": {},
   "outputs": [
    {
     "data": {
      "text/html": [
       "<div>\n",
       "<style scoped>\n",
       "    .dataframe tbody tr th:only-of-type {\n",
       "        vertical-align: middle;\n",
       "    }\n",
       "\n",
       "    .dataframe tbody tr th {\n",
       "        vertical-align: top;\n",
       "    }\n",
       "\n",
       "    .dataframe thead th {\n",
       "        text-align: right;\n",
       "    }\n",
       "</style>\n",
       "<table border=\"1\" class=\"dataframe\">\n",
       "  <thead>\n",
       "    <tr style=\"text-align: right;\">\n",
       "      <th></th>\n",
       "      <th>아이디</th>\n",
       "      <th>구매상품</th>\n",
       "      <th>가격</th>\n",
       "      <th>개수</th>\n",
       "      <th>구매일</th>\n",
       "    </tr>\n",
       "  </thead>\n",
       "  <tbody>\n",
       "    <tr>\n",
       "      <th>0</th>\n",
       "      <td>kim</td>\n",
       "      <td>상품A</td>\n",
       "      <td>15000</td>\n",
       "      <td>3</td>\n",
       "      <td>0303</td>\n",
       "    </tr>\n",
       "    <tr>\n",
       "      <th>1</th>\n",
       "      <td>song</td>\n",
       "      <td>상품B</td>\n",
       "      <td>23000</td>\n",
       "      <td>5</td>\n",
       "      <td>0810</td>\n",
       "    </tr>\n",
       "    <tr>\n",
       "      <th>2</th>\n",
       "      <td>han</td>\n",
       "      <td>상품C</td>\n",
       "      <td>33000</td>\n",
       "      <td>1</td>\n",
       "      <td>0120</td>\n",
       "    </tr>\n",
       "    <tr>\n",
       "      <th>3</th>\n",
       "      <td>choi</td>\n",
       "      <td>상품D</td>\n",
       "      <td>50000</td>\n",
       "      <td>10</td>\n",
       "      <td>0601</td>\n",
       "    </tr>\n",
       "  </tbody>\n",
       "</table>\n",
       "</div>"
      ],
      "text/plain": [
       "    아이디 구매상품     가격  개수   구매일\n",
       "0   kim  상품A  15000   3  0303\n",
       "1  song  상품B  23000   5  0810\n",
       "2   han  상품C  33000   1  0120\n",
       "3  choi  상품D  50000  10  0601"
      ]
     },
     "execution_count": 64,
     "metadata": {},
     "output_type": "execute_result"
    }
   ],
   "source": [
    "# ex 14-10\n",
    "\n",
    "import pandas as pd\n",
    "\n",
    "data = {'아이디': ['kim', 'song', 'han', 'choi'],\n",
    "       '구매상품': ['상품A','상품B','상품C','상품D'],\n",
    "       '가격' : [15000,23000,33000,50000],\n",
    "        '개수' : [3,5,1,10],\n",
    "        '구매일' : ['0303','0810','0120','0601']}\n",
    "\n",
    "frame = pd.DataFrame(data)\n",
    "frame"
   ]
  },
  {
   "cell_type": "code",
   "execution_count": 66,
   "metadata": {},
   "outputs": [
    {
     "data": {
      "text/plain": [
       "(5, 5)"
      ]
     },
     "execution_count": 66,
     "metadata": {},
     "output_type": "execute_result"
    }
   ],
   "source": [
    "frame['개수'][1], frame.loc[1,'개수']"
   ]
  },
  {
   "cell_type": "code",
   "execution_count": 68,
   "metadata": {},
   "outputs": [
    {
     "data": {
      "text/plain": [
       "5"
      ]
     },
     "execution_count": 68,
     "metadata": {},
     "output_type": "execute_result"
    }
   ],
   "source": [
    "frame.iloc[1,3]"
   ]
  },
  {
   "cell_type": "code",
   "execution_count": 76,
   "metadata": {},
   "outputs": [
    {
     "name": "stdout",
     "output_type": "stream",
     "text": [
      "    이름  국어  영어  수학\n",
      "0  김지영  95  90  85\n",
      "1  안지수  97  86  88\n",
      "2  최성수  90  93  89\n",
      "3  황예린  94  85  88\n",
      "4  김소정  87  93  99\n",
      "\n",
      "   국어  영어  수학\n",
      "0  95  90  85\n",
      "1  97  86  88\n",
      "2  90  93  89\n",
      "3  94  85  88\n",
      "4  87  93  99\n",
      "\n",
      "0    270\n",
      "1    271\n",
      "2    272\n",
      "3    267\n",
      "4    279\n",
      "dtype: int64\n"
     ]
    }
   ],
   "source": [
    "#ex 14-11\n",
    "\n",
    "import pandas as pd\n",
    "\n",
    "scores = {'이름' : ['김지영','안지수','최성수','황예린','김소정'],\n",
    "         '국어' : [95,97,90,94,87],\n",
    "         '영어' : [90,86,93,85,93],\n",
    "         '수학' : [85,88,89,88,99]}\n",
    "\n",
    "frame = pd.DataFrame(scores)\n",
    "print(frame)\n",
    "\n",
    "print()\n",
    "frame2 = frame.iloc[:,[1,2,3]]\n",
    "print(frame2)\n",
    "\n",
    "print()\n",
    "total = frame2.sum(axis =1)\n",
    "print(total)"
   ]
  },
  {
   "cell_type": "code",
   "execution_count": 77,
   "metadata": {},
   "outputs": [
    {
     "data": {
      "text/html": [
       "<div>\n",
       "<style scoped>\n",
       "    .dataframe tbody tr th:only-of-type {\n",
       "        vertical-align: middle;\n",
       "    }\n",
       "\n",
       "    .dataframe tbody tr th {\n",
       "        vertical-align: top;\n",
       "    }\n",
       "\n",
       "    .dataframe thead th {\n",
       "        text-align: right;\n",
       "    }\n",
       "</style>\n",
       "<table border=\"1\" class=\"dataframe\">\n",
       "  <thead>\n",
       "    <tr style=\"text-align: right;\">\n",
       "      <th></th>\n",
       "      <th>이름</th>\n",
       "      <th>국어</th>\n",
       "      <th>영어</th>\n",
       "      <th>수학</th>\n",
       "      <th>평균</th>\n",
       "    </tr>\n",
       "  </thead>\n",
       "  <tbody>\n",
       "    <tr>\n",
       "      <th>0</th>\n",
       "      <td>김지영</td>\n",
       "      <td>95</td>\n",
       "      <td>90</td>\n",
       "      <td>85</td>\n",
       "      <td>90.000000</td>\n",
       "    </tr>\n",
       "    <tr>\n",
       "      <th>1</th>\n",
       "      <td>안지수</td>\n",
       "      <td>97</td>\n",
       "      <td>86</td>\n",
       "      <td>88</td>\n",
       "      <td>90.333333</td>\n",
       "    </tr>\n",
       "    <tr>\n",
       "      <th>2</th>\n",
       "      <td>최성수</td>\n",
       "      <td>90</td>\n",
       "      <td>93</td>\n",
       "      <td>89</td>\n",
       "      <td>90.666667</td>\n",
       "    </tr>\n",
       "    <tr>\n",
       "      <th>3</th>\n",
       "      <td>황예린</td>\n",
       "      <td>94</td>\n",
       "      <td>85</td>\n",
       "      <td>88</td>\n",
       "      <td>89.000000</td>\n",
       "    </tr>\n",
       "    <tr>\n",
       "      <th>4</th>\n",
       "      <td>김소정</td>\n",
       "      <td>87</td>\n",
       "      <td>93</td>\n",
       "      <td>99</td>\n",
       "      <td>93.000000</td>\n",
       "    </tr>\n",
       "  </tbody>\n",
       "</table>\n",
       "</div>"
      ],
      "text/plain": [
       "    이름  국어  영어  수학         평균\n",
       "0  김지영  95  90  85  90.000000\n",
       "1  안지수  97  86  88  90.333333\n",
       "2  최성수  90  93  89  90.666667\n",
       "3  황예린  94  85  88  89.000000\n",
       "4  김소정  87  93  99  93.000000"
      ]
     },
     "execution_count": 77,
     "metadata": {},
     "output_type": "execute_result"
    }
   ],
   "source": [
    "frame['평균'] = frame2.mean(axis=1)\n",
    "frame"
   ]
  },
  {
   "cell_type": "code",
   "execution_count": 79,
   "metadata": {},
   "outputs": [
    {
     "name": "stdout",
     "output_type": "stream",
     "text": [
      "--------------------------------------------------\n",
      "이름 합계 평균\n",
      "--------------------------------------------------\n",
      "김지영 270 90.00\n",
      "안지수 271 90.33\n",
      "최성수 272 90.67\n",
      "황예린 267 89.00\n",
      "김소정 279 93.00\n",
      "--------------------------------------------------\n"
     ]
    }
   ],
   "source": [
    "#ex 14-12\n",
    "\n",
    "import pandas as pd\n",
    "\n",
    "scores = {'이름' : ['김지영','안지수','최성수','황예린','김소정'],\n",
    "         '국어' : [95,97,90,94,87],\n",
    "         '영어' : [90,86,93,85,93],\n",
    "         '수학' : [85,88,89,88,99]}\n",
    "\n",
    "frame = pd.DataFrame(scores)\n",
    "frame2 = frame.iloc[:,[1,2,3]]\n",
    "\n",
    "total = frame2.sum(axis=1)\n",
    "avg = frame2.mean(axis =1)\n",
    "\n",
    "print('-'*50)\n",
    "print('이름 합계 평균')\n",
    "print('-'*50)\n",
    "for i in range(5):\n",
    "    print('%s %d %.2f'%(frame.iloc[i,0],total.iloc[i],avg.iloc[i]))\n",
    "    \n",
    "print('-'*50)\n"
   ]
  },
  {
   "cell_type": "code",
   "execution_count": 81,
   "metadata": {},
   "outputs": [
    {
     "ename": "KeyError",
     "evalue": "\"['평균', '합계'] not in index\"",
     "output_type": "error",
     "traceback": [
      "\u001b[1;31m---------------------------------------------------------------------------\u001b[0m",
      "\u001b[1;31mKeyError\u001b[0m                                  Traceback (most recent call last)",
      "\u001b[1;32m<ipython-input-81-0fd43359adb8>\u001b[0m in \u001b[0;36m<module>\u001b[1;34m\u001b[0m\n\u001b[1;32m----> 1\u001b[1;33m \u001b[0mframe\u001b[0m\u001b[1;33m[\u001b[0m\u001b[1;33m[\u001b[0m\u001b[1;34m'이름'\u001b[0m\u001b[1;33m,\u001b[0m\u001b[1;34m'합계'\u001b[0m\u001b[1;33m,\u001b[0m\u001b[1;34m'평균'\u001b[0m\u001b[1;33m]\u001b[0m\u001b[1;33m]\u001b[0m\u001b[1;33m\u001b[0m\u001b[1;33m\u001b[0m\u001b[0m\n\u001b[0m",
      "\u001b[1;32mC:\\ProgramData\\Anaconda3\\lib\\site-packages\\pandas\\core\\frame.py\u001b[0m in \u001b[0;36m__getitem__\u001b[1;34m(self, key)\u001b[0m\n\u001b[0;32m   2804\u001b[0m             \u001b[1;32mif\u001b[0m \u001b[0mis_iterator\u001b[0m\u001b[1;33m(\u001b[0m\u001b[0mkey\u001b[0m\u001b[1;33m)\u001b[0m\u001b[1;33m:\u001b[0m\u001b[1;33m\u001b[0m\u001b[1;33m\u001b[0m\u001b[0m\n\u001b[0;32m   2805\u001b[0m                 \u001b[0mkey\u001b[0m \u001b[1;33m=\u001b[0m \u001b[0mlist\u001b[0m\u001b[1;33m(\u001b[0m\u001b[0mkey\u001b[0m\u001b[1;33m)\u001b[0m\u001b[1;33m\u001b[0m\u001b[1;33m\u001b[0m\u001b[0m\n\u001b[1;32m-> 2806\u001b[1;33m             \u001b[0mindexer\u001b[0m \u001b[1;33m=\u001b[0m \u001b[0mself\u001b[0m\u001b[1;33m.\u001b[0m\u001b[0mloc\u001b[0m\u001b[1;33m.\u001b[0m\u001b[0m_get_listlike_indexer\u001b[0m\u001b[1;33m(\u001b[0m\u001b[0mkey\u001b[0m\u001b[1;33m,\u001b[0m \u001b[0maxis\u001b[0m\u001b[1;33m=\u001b[0m\u001b[1;36m1\u001b[0m\u001b[1;33m,\u001b[0m \u001b[0mraise_missing\u001b[0m\u001b[1;33m=\u001b[0m\u001b[1;32mTrue\u001b[0m\u001b[1;33m)\u001b[0m\u001b[1;33m[\u001b[0m\u001b[1;36m1\u001b[0m\u001b[1;33m]\u001b[0m\u001b[1;33m\u001b[0m\u001b[1;33m\u001b[0m\u001b[0m\n\u001b[0m\u001b[0;32m   2807\u001b[0m \u001b[1;33m\u001b[0m\u001b[0m\n\u001b[0;32m   2808\u001b[0m         \u001b[1;31m# take() does not accept boolean indexers\u001b[0m\u001b[1;33m\u001b[0m\u001b[1;33m\u001b[0m\u001b[1;33m\u001b[0m\u001b[0m\n",
      "\u001b[1;32mC:\\ProgramData\\Anaconda3\\lib\\site-packages\\pandas\\core\\indexing.py\u001b[0m in \u001b[0;36m_get_listlike_indexer\u001b[1;34m(self, key, axis, raise_missing)\u001b[0m\n\u001b[0;32m   1550\u001b[0m \u001b[1;33m\u001b[0m\u001b[0m\n\u001b[0;32m   1551\u001b[0m         self._validate_read_indexer(\n\u001b[1;32m-> 1552\u001b[1;33m             \u001b[0mkeyarr\u001b[0m\u001b[1;33m,\u001b[0m \u001b[0mindexer\u001b[0m\u001b[1;33m,\u001b[0m \u001b[0mo\u001b[0m\u001b[1;33m.\u001b[0m\u001b[0m_get_axis_number\u001b[0m\u001b[1;33m(\u001b[0m\u001b[0maxis\u001b[0m\u001b[1;33m)\u001b[0m\u001b[1;33m,\u001b[0m \u001b[0mraise_missing\u001b[0m\u001b[1;33m=\u001b[0m\u001b[0mraise_missing\u001b[0m\u001b[1;33m\u001b[0m\u001b[1;33m\u001b[0m\u001b[0m\n\u001b[0m\u001b[0;32m   1553\u001b[0m         )\n\u001b[0;32m   1554\u001b[0m         \u001b[1;32mreturn\u001b[0m \u001b[0mkeyarr\u001b[0m\u001b[1;33m,\u001b[0m \u001b[0mindexer\u001b[0m\u001b[1;33m\u001b[0m\u001b[1;33m\u001b[0m\u001b[0m\n",
      "\u001b[1;32mC:\\ProgramData\\Anaconda3\\lib\\site-packages\\pandas\\core\\indexing.py\u001b[0m in \u001b[0;36m_validate_read_indexer\u001b[1;34m(self, key, indexer, axis, raise_missing)\u001b[0m\n\u001b[0;32m   1643\u001b[0m             \u001b[1;32mif\u001b[0m \u001b[1;32mnot\u001b[0m \u001b[1;33m(\u001b[0m\u001b[0mself\u001b[0m\u001b[1;33m.\u001b[0m\u001b[0mname\u001b[0m \u001b[1;33m==\u001b[0m \u001b[1;34m\"loc\"\u001b[0m \u001b[1;32mand\u001b[0m \u001b[1;32mnot\u001b[0m \u001b[0mraise_missing\u001b[0m\u001b[1;33m)\u001b[0m\u001b[1;33m:\u001b[0m\u001b[1;33m\u001b[0m\u001b[1;33m\u001b[0m\u001b[0m\n\u001b[0;32m   1644\u001b[0m                 \u001b[0mnot_found\u001b[0m \u001b[1;33m=\u001b[0m \u001b[0mlist\u001b[0m\u001b[1;33m(\u001b[0m\u001b[0mset\u001b[0m\u001b[1;33m(\u001b[0m\u001b[0mkey\u001b[0m\u001b[1;33m)\u001b[0m \u001b[1;33m-\u001b[0m \u001b[0mset\u001b[0m\u001b[1;33m(\u001b[0m\u001b[0max\u001b[0m\u001b[1;33m)\u001b[0m\u001b[1;33m)\u001b[0m\u001b[1;33m\u001b[0m\u001b[1;33m\u001b[0m\u001b[0m\n\u001b[1;32m-> 1645\u001b[1;33m                 \u001b[1;32mraise\u001b[0m \u001b[0mKeyError\u001b[0m\u001b[1;33m(\u001b[0m\u001b[1;34mf\"{not_found} not in index\"\u001b[0m\u001b[1;33m)\u001b[0m\u001b[1;33m\u001b[0m\u001b[1;33m\u001b[0m\u001b[0m\n\u001b[0m\u001b[0;32m   1646\u001b[0m \u001b[1;33m\u001b[0m\u001b[0m\n\u001b[0;32m   1647\u001b[0m             \u001b[1;31m# we skip the warning on Categorical/Interval\u001b[0m\u001b[1;33m\u001b[0m\u001b[1;33m\u001b[0m\u001b[1;33m\u001b[0m\u001b[0m\n",
      "\u001b[1;31mKeyError\u001b[0m: \"['평균', '합계'] not in index\""
     ]
    }
   ],
   "source": [
    "frame[['이름','합계','평균']]"
   ]
  },
  {
   "cell_type": "code",
   "execution_count": 82,
   "metadata": {},
   "outputs": [
    {
     "data": {
      "text/plain": [
       "이름    5\n",
       "국어    5\n",
       "영어    5\n",
       "수학    5\n",
       "dtype: int64"
      ]
     },
     "execution_count": 82,
     "metadata": {},
     "output_type": "execute_result"
    }
   ],
   "source": [
    "frame.count()"
   ]
  },
  {
   "cell_type": "code",
   "execution_count": 83,
   "metadata": {},
   "outputs": [
    {
     "ename": "KeyError",
     "evalue": "'합계'",
     "output_type": "error",
     "traceback": [
      "\u001b[1;31m---------------------------------------------------------------------------\u001b[0m",
      "\u001b[1;31mKeyError\u001b[0m                                  Traceback (most recent call last)",
      "\u001b[1;32m<ipython-input-83-e12476b7e8e3>\u001b[0m in \u001b[0;36m<module>\u001b[1;34m\u001b[0m\n\u001b[1;32m----> 1\u001b[1;33m \u001b[0mframe\u001b[0m\u001b[1;33m.\u001b[0m\u001b[0msort_values\u001b[0m\u001b[1;33m(\u001b[0m\u001b[0mby\u001b[0m\u001b[1;33m=\u001b[0m\u001b[1;33m[\u001b[0m\u001b[1;34m'합계'\u001b[0m\u001b[1;33m]\u001b[0m\u001b[1;33m,\u001b[0m \u001b[0maxis\u001b[0m\u001b[1;33m=\u001b[0m\u001b[1;36m0\u001b[0m\u001b[1;33m)\u001b[0m\u001b[1;33m\u001b[0m\u001b[1;33m\u001b[0m\u001b[0m\n\u001b[0m",
      "\u001b[1;32mC:\\ProgramData\\Anaconda3\\lib\\site-packages\\pandas\\core\\frame.py\u001b[0m in \u001b[0;36msort_values\u001b[1;34m(self, by, axis, ascending, inplace, kind, na_position, ignore_index)\u001b[0m\n\u001b[0;32m   4925\u001b[0m \u001b[1;33m\u001b[0m\u001b[0m\n\u001b[0;32m   4926\u001b[0m             \u001b[0mby\u001b[0m \u001b[1;33m=\u001b[0m \u001b[0mby\u001b[0m\u001b[1;33m[\u001b[0m\u001b[1;36m0\u001b[0m\u001b[1;33m]\u001b[0m\u001b[1;33m\u001b[0m\u001b[1;33m\u001b[0m\u001b[0m\n\u001b[1;32m-> 4927\u001b[1;33m             \u001b[0mk\u001b[0m \u001b[1;33m=\u001b[0m \u001b[0mself\u001b[0m\u001b[1;33m.\u001b[0m\u001b[0m_get_label_or_level_values\u001b[0m\u001b[1;33m(\u001b[0m\u001b[0mby\u001b[0m\u001b[1;33m,\u001b[0m \u001b[0maxis\u001b[0m\u001b[1;33m=\u001b[0m\u001b[0maxis\u001b[0m\u001b[1;33m)\u001b[0m\u001b[1;33m\u001b[0m\u001b[1;33m\u001b[0m\u001b[0m\n\u001b[0m\u001b[0;32m   4928\u001b[0m \u001b[1;33m\u001b[0m\u001b[0m\n\u001b[0;32m   4929\u001b[0m             \u001b[1;32mif\u001b[0m \u001b[0misinstance\u001b[0m\u001b[1;33m(\u001b[0m\u001b[0mascending\u001b[0m\u001b[1;33m,\u001b[0m \u001b[1;33m(\u001b[0m\u001b[0mtuple\u001b[0m\u001b[1;33m,\u001b[0m \u001b[0mlist\u001b[0m\u001b[1;33m)\u001b[0m\u001b[1;33m)\u001b[0m\u001b[1;33m:\u001b[0m\u001b[1;33m\u001b[0m\u001b[1;33m\u001b[0m\u001b[0m\n",
      "\u001b[1;32mC:\\ProgramData\\Anaconda3\\lib\\site-packages\\pandas\\core\\generic.py\u001b[0m in \u001b[0;36m_get_label_or_level_values\u001b[1;34m(self, key, axis)\u001b[0m\n\u001b[0;32m   1690\u001b[0m             \u001b[0mvalues\u001b[0m \u001b[1;33m=\u001b[0m \u001b[0mself\u001b[0m\u001b[1;33m.\u001b[0m\u001b[0maxes\u001b[0m\u001b[1;33m[\u001b[0m\u001b[0maxis\u001b[0m\u001b[1;33m]\u001b[0m\u001b[1;33m.\u001b[0m\u001b[0mget_level_values\u001b[0m\u001b[1;33m(\u001b[0m\u001b[0mkey\u001b[0m\u001b[1;33m)\u001b[0m\u001b[1;33m.\u001b[0m\u001b[0m_values\u001b[0m\u001b[1;33m\u001b[0m\u001b[1;33m\u001b[0m\u001b[0m\n\u001b[0;32m   1691\u001b[0m         \u001b[1;32melse\u001b[0m\u001b[1;33m:\u001b[0m\u001b[1;33m\u001b[0m\u001b[1;33m\u001b[0m\u001b[0m\n\u001b[1;32m-> 1692\u001b[1;33m             \u001b[1;32mraise\u001b[0m \u001b[0mKeyError\u001b[0m\u001b[1;33m(\u001b[0m\u001b[0mkey\u001b[0m\u001b[1;33m)\u001b[0m\u001b[1;33m\u001b[0m\u001b[1;33m\u001b[0m\u001b[0m\n\u001b[0m\u001b[0;32m   1693\u001b[0m \u001b[1;33m\u001b[0m\u001b[0m\n\u001b[0;32m   1694\u001b[0m         \u001b[1;31m# Check for duplicates\u001b[0m\u001b[1;33m\u001b[0m\u001b[1;33m\u001b[0m\u001b[1;33m\u001b[0m\u001b[0m\n",
      "\u001b[1;31mKeyError\u001b[0m: '합계'"
     ]
    }
   ],
   "source": [
    "frame.sort_values(by=['합계'], axis=0)"
   ]
  },
  {
   "cell_type": "code",
   "execution_count": 84,
   "metadata": {},
   "outputs": [
    {
     "data": {
      "text/html": [
       "<div>\n",
       "<style scoped>\n",
       "    .dataframe tbody tr th:only-of-type {\n",
       "        vertical-align: middle;\n",
       "    }\n",
       "\n",
       "    .dataframe tbody tr th {\n",
       "        vertical-align: top;\n",
       "    }\n",
       "\n",
       "    .dataframe thead th {\n",
       "        text-align: right;\n",
       "    }\n",
       "</style>\n",
       "<table border=\"1\" class=\"dataframe\">\n",
       "  <thead>\n",
       "    <tr style=\"text-align: right;\">\n",
       "      <th></th>\n",
       "      <th>이름</th>\n",
       "      <th>국어</th>\n",
       "      <th>영어</th>\n",
       "      <th>수학</th>\n",
       "    </tr>\n",
       "  </thead>\n",
       "  <tbody>\n",
       "    <tr>\n",
       "      <th>0</th>\n",
       "      <td>김지영</td>\n",
       "      <td>95</td>\n",
       "      <td>90</td>\n",
       "      <td>85</td>\n",
       "    </tr>\n",
       "    <tr>\n",
       "      <th>1</th>\n",
       "      <td>안지수</td>\n",
       "      <td>97</td>\n",
       "      <td>86</td>\n",
       "      <td>88</td>\n",
       "    </tr>\n",
       "    <tr>\n",
       "      <th>2</th>\n",
       "      <td>최성수</td>\n",
       "      <td>90</td>\n",
       "      <td>93</td>\n",
       "      <td>89</td>\n",
       "    </tr>\n",
       "    <tr>\n",
       "      <th>3</th>\n",
       "      <td>황예린</td>\n",
       "      <td>94</td>\n",
       "      <td>85</td>\n",
       "      <td>88</td>\n",
       "    </tr>\n",
       "    <tr>\n",
       "      <th>4</th>\n",
       "      <td>김소정</td>\n",
       "      <td>87</td>\n",
       "      <td>93</td>\n",
       "      <td>99</td>\n",
       "    </tr>\n",
       "  </tbody>\n",
       "</table>\n",
       "</div>"
      ],
      "text/plain": [
       "    이름  국어  영어  수학\n",
       "0  김지영  95  90  85\n",
       "1  안지수  97  86  88\n",
       "2  최성수  90  93  89\n",
       "3  황예린  94  85  88\n",
       "4  김소정  87  93  99"
      ]
     },
     "execution_count": 84,
     "metadata": {},
     "output_type": "execute_result"
    }
   ],
   "source": [
    "frame"
   ]
  },
  {
   "cell_type": "markdown",
   "metadata": {},
   "source": [
    "# apply 변환"
   ]
  },
  {
   "cell_type": "code",
   "execution_count": 86,
   "metadata": {},
   "outputs": [
    {
     "data": {
      "text/html": [
       "<div>\n",
       "<style scoped>\n",
       "    .dataframe tbody tr th:only-of-type {\n",
       "        vertical-align: middle;\n",
       "    }\n",
       "\n",
       "    .dataframe tbody tr th {\n",
       "        vertical-align: top;\n",
       "    }\n",
       "\n",
       "    .dataframe thead th {\n",
       "        text-align: right;\n",
       "    }\n",
       "</style>\n",
       "<table border=\"1\" class=\"dataframe\">\n",
       "  <thead>\n",
       "    <tr style=\"text-align: right;\">\n",
       "      <th></th>\n",
       "      <th>A</th>\n",
       "      <th>B</th>\n",
       "      <th>C</th>\n",
       "    </tr>\n",
       "  </thead>\n",
       "  <tbody>\n",
       "    <tr>\n",
       "      <th>0</th>\n",
       "      <td>1</td>\n",
       "      <td>2</td>\n",
       "      <td>1</td>\n",
       "    </tr>\n",
       "    <tr>\n",
       "      <th>1</th>\n",
       "      <td>3</td>\n",
       "      <td>3</td>\n",
       "      <td>5</td>\n",
       "    </tr>\n",
       "    <tr>\n",
       "      <th>2</th>\n",
       "      <td>4</td>\n",
       "      <td>1</td>\n",
       "      <td>2</td>\n",
       "    </tr>\n",
       "    <tr>\n",
       "      <th>3</th>\n",
       "      <td>3</td>\n",
       "      <td>2</td>\n",
       "      <td>4</td>\n",
       "    </tr>\n",
       "    <tr>\n",
       "      <th>4</th>\n",
       "      <td>4</td>\n",
       "      <td>3</td>\n",
       "      <td>4</td>\n",
       "    </tr>\n",
       "  </tbody>\n",
       "</table>\n",
       "</div>"
      ],
      "text/plain": [
       "   A  B  C\n",
       "0  1  2  1\n",
       "1  3  3  5\n",
       "2  4  1  2\n",
       "3  3  2  4\n",
       "4  4  3  4"
      ]
     },
     "execution_count": 86,
     "metadata": {},
     "output_type": "execute_result"
    }
   ],
   "source": [
    "df = pd.DataFrame({\n",
    "    'A' : [1,3,4,3,4],\n",
    "    'B' : [2,3,1,2,3,],\n",
    "    'C' : [1,5,2,4,4]\n",
    "})\n",
    "df"
   ]
  },
  {
   "cell_type": "code",
   "execution_count": 87,
   "metadata": {},
   "outputs": [
    {
     "data": {
      "text/plain": [
       "A    3\n",
       "B    2\n",
       "C    4\n",
       "dtype: int64"
      ]
     },
     "execution_count": 87,
     "metadata": {},
     "output_type": "execute_result"
    }
   ],
   "source": [
    "df.apply(lambda x : x.max()- x.min())"
   ]
  },
  {
   "cell_type": "code",
   "execution_count": 88,
   "metadata": {},
   "outputs": [
    {
     "data": {
      "text/html": [
       "<div>\n",
       "<style scoped>\n",
       "    .dataframe tbody tr th:only-of-type {\n",
       "        vertical-align: middle;\n",
       "    }\n",
       "\n",
       "    .dataframe tbody tr th {\n",
       "        vertical-align: top;\n",
       "    }\n",
       "\n",
       "    .dataframe thead th {\n",
       "        text-align: right;\n",
       "    }\n",
       "</style>\n",
       "<table border=\"1\" class=\"dataframe\">\n",
       "  <thead>\n",
       "    <tr style=\"text-align: right;\">\n",
       "      <th></th>\n",
       "      <th>A</th>\n",
       "      <th>B</th>\n",
       "      <th>C</th>\n",
       "    </tr>\n",
       "  </thead>\n",
       "  <tbody>\n",
       "    <tr>\n",
       "      <th>1</th>\n",
       "      <td>1.0</td>\n",
       "      <td>1.0</td>\n",
       "      <td>1.0</td>\n",
       "    </tr>\n",
       "    <tr>\n",
       "      <th>2</th>\n",
       "      <td>NaN</td>\n",
       "      <td>2.0</td>\n",
       "      <td>1.0</td>\n",
       "    </tr>\n",
       "    <tr>\n",
       "      <th>3</th>\n",
       "      <td>2.0</td>\n",
       "      <td>2.0</td>\n",
       "      <td>NaN</td>\n",
       "    </tr>\n",
       "    <tr>\n",
       "      <th>4</th>\n",
       "      <td>2.0</td>\n",
       "      <td>NaN</td>\n",
       "      <td>2.0</td>\n",
       "    </tr>\n",
       "    <tr>\n",
       "      <th>5</th>\n",
       "      <td>NaN</td>\n",
       "      <td>NaN</td>\n",
       "      <td>1.0</td>\n",
       "    </tr>\n",
       "  </tbody>\n",
       "</table>\n",
       "</div>"
      ],
      "text/plain": [
       "     A    B    C\n",
       "1  1.0  1.0  1.0\n",
       "2  NaN  2.0  1.0\n",
       "3  2.0  2.0  NaN\n",
       "4  2.0  NaN  2.0\n",
       "5  NaN  NaN  1.0"
      ]
     },
     "execution_count": 88,
     "metadata": {},
     "output_type": "execute_result"
    }
   ],
   "source": [
    "df.apply(pd.value_counts)"
   ]
  },
  {
   "cell_type": "code",
   "execution_count": 90,
   "metadata": {},
   "outputs": [
    {
     "data": {
      "text/html": [
       "<div>\n",
       "<style scoped>\n",
       "    .dataframe tbody tr th:only-of-type {\n",
       "        vertical-align: middle;\n",
       "    }\n",
       "\n",
       "    .dataframe tbody tr th {\n",
       "        vertical-align: top;\n",
       "    }\n",
       "\n",
       "    .dataframe thead th {\n",
       "        text-align: right;\n",
       "    }\n",
       "</style>\n",
       "<table border=\"1\" class=\"dataframe\">\n",
       "  <thead>\n",
       "    <tr style=\"text-align: right;\">\n",
       "      <th></th>\n",
       "      <th>A</th>\n",
       "      <th>B</th>\n",
       "      <th>C</th>\n",
       "    </tr>\n",
       "  </thead>\n",
       "  <tbody>\n",
       "    <tr>\n",
       "      <th>1</th>\n",
       "      <td>1</td>\n",
       "      <td>1</td>\n",
       "      <td>1</td>\n",
       "    </tr>\n",
       "    <tr>\n",
       "      <th>2</th>\n",
       "      <td>0</td>\n",
       "      <td>2</td>\n",
       "      <td>1</td>\n",
       "    </tr>\n",
       "    <tr>\n",
       "      <th>3</th>\n",
       "      <td>2</td>\n",
       "      <td>2</td>\n",
       "      <td>0</td>\n",
       "    </tr>\n",
       "    <tr>\n",
       "      <th>4</th>\n",
       "      <td>2</td>\n",
       "      <td>0</td>\n",
       "      <td>2</td>\n",
       "    </tr>\n",
       "    <tr>\n",
       "      <th>5</th>\n",
       "      <td>0</td>\n",
       "      <td>0</td>\n",
       "      <td>1</td>\n",
       "    </tr>\n",
       "  </tbody>\n",
       "</table>\n",
       "</div>"
      ],
      "text/plain": [
       "   A  B  C\n",
       "1  1  1  1\n",
       "2  0  2  1\n",
       "3  2  2  0\n",
       "4  2  0  2\n",
       "5  0  0  1"
      ]
     },
     "execution_count": 90,
     "metadata": {},
     "output_type": "execute_result"
    }
   ],
   "source": [
    "df.apply(pd.value_counts).fillna(0).astype(int) ##Metthod chaining\n",
    "                                                ##"
   ]
  },
  {
   "cell_type": "code",
   "execution_count": 3,
   "metadata": {},
   "outputs": [
    {
     "name": "stdout",
     "output_type": "stream",
     "text": [
      "[['서울특별시  (1100000000)', '부산광역시  (2600000000)', '대구광역시  (2700000000)', '인천광역시  (2800000000)', '광주광역시  (2900000000)', '대전광역시  (3000000000)', '울산광역시  (3100000000)', '세종특별자치시  (3600000000)', '경기도  (4100000000)', '강원도  (4200000000)', '충청북도  (4300000000)', '충청남도  (4400000000)', '전라북도  (4500000000)', '전라남도  (4600000000)', '경상북도  (4700000000)', '경상남도  (4800000000)', '제주특별자치도  (5000000000)'], ['9,736,962', '3,410,925', '2,432,883', '2,954,955', '1,456,121', '1,473,125', '1,145,710', '343,788', '13,265,377', '1,539,521', '1,598,599', '2,120,995', '1,815,112', '1,861,894', '2,658,956', '3,358,828', '670,876'], ['4,345,877', '1,502,333', '1,033,349', '1,242,107', '618,503', '637,726', '469,551', '136,629', '5,497,087', '721,003', '723,931', '961,890', '818,452', '873,871', '1,229,265', '1,455,655', '293,932'], ['      2.24', '      2.27', '      2.35', '      2.38', '      2.35', '      2.31', '      2.44', '      2.52', '      2.41', '      2.14', '      2.21', '      2.21', '      2.22', '      2.13', '      2.16', '      2.31', '      2.28'], ['4,745,133', '1,673,266', '1,202,364', '1,481,133', '720,686', '735,791', '588,626', '171,403', '6,672,706', '774,358', '809,805', '1,081,153', '902,365', '934,900', '1,338,907', '1,690,600', '337,295'], ['4,991,829', '1,737,659', '1,230,519', '1,473,822', '735,435', '737,334', '557,084', '172,385', '6,592,671', '765,163', '788,794', '1,039,842', '912,747', '926,994', '1,320,049', '1,668,228', '333,581'], ['      0.95', '      0.96', '      0.98', '      1.00', '      0.98', '      1.00', '      1.06', '      0.99', '      1.01', '      1.01', '      1.03', '      1.04', '      0.99', '      1.01', '      1.01', '      1.01', '      1.01']]\n"
     ]
    }
   ],
   "source": [
    "## ex 14-14\n",
    "\n",
    "\n",
    "\n",
    "import population as pop\n",
    "\n",
    "list_data = []\n",
    "\n",
    "pop.get_list(list_data)\n",
    "print(list_data)"
   ]
  },
  {
   "cell_type": "code",
   "execution_count": 5,
   "metadata": {},
   "outputs": [
    {
     "ename": "AttributeError",
     "evalue": "module 'population' has no attribute 'get_dict'",
     "output_type": "error",
     "traceback": [
      "\u001b[1;31m---------------------------------------------------------------------------\u001b[0m",
      "\u001b[1;31mAttributeError\u001b[0m                            Traceback (most recent call last)",
      "\u001b[1;32m<ipython-input-5-1378943a75ac>\u001b[0m in \u001b[0;36m<module>\u001b[1;34m\u001b[0m\n\u001b[0;32m     12\u001b[0m \u001b[0mkeys\u001b[0m \u001b[1;33m=\u001b[0m \u001b[1;33m[\u001b[0m\u001b[1;34m'지역'\u001b[0m\u001b[1;33m,\u001b[0m\u001b[1;34m'총인구수'\u001b[0m\u001b[1;33m,\u001b[0m\u001b[1;34m'세대수'\u001b[0m\u001b[1;33m,\u001b[0m \u001b[1;34m'세대당_인구'\u001b[0m\u001b[1;33m,\u001b[0m\u001b[1;34m'남자_인구수'\u001b[0m\u001b[1;33m,\u001b[0m\u001b[1;34m'여자_인구수'\u001b[0m\u001b[1;33m,\u001b[0m\u001b[1;34m'남여_비율'\u001b[0m\u001b[1;33m]\u001b[0m\u001b[1;33m\u001b[0m\u001b[1;33m\u001b[0m\u001b[0m\n\u001b[0;32m     13\u001b[0m \u001b[1;33m\u001b[0m\u001b[0m\n\u001b[1;32m---> 14\u001b[1;33m \u001b[0mpop\u001b[0m\u001b[1;33m.\u001b[0m\u001b[0mget_dict\u001b[0m\u001b[1;33m(\u001b[0m\u001b[0mlist_data\u001b[0m\u001b[1;33m,\u001b[0m \u001b[0mkeys\u001b[0m\u001b[1;33m,\u001b[0m \u001b[0mdict_data\u001b[0m\u001b[1;33m)\u001b[0m\u001b[1;33m\u001b[0m\u001b[1;33m\u001b[0m\u001b[0m\n\u001b[0m\u001b[0;32m     15\u001b[0m \u001b[1;33m\u001b[0m\u001b[0m\n\u001b[0;32m     16\u001b[0m \u001b[0mprint\u001b[0m\u001b[1;33m(\u001b[0m\u001b[0mdict_data\u001b[0m\u001b[1;33m)\u001b[0m\u001b[1;33m\u001b[0m\u001b[1;33m\u001b[0m\u001b[0m\n",
      "\u001b[1;31mAttributeError\u001b[0m: module 'population' has no attribute 'get_dict'"
     ]
    }
   ],
   "source": [
    "# ex 14-14\n",
    "\n",
    "import population as pop\n",
    "\n",
    "list_data = []\n",
    "\n",
    "pop.get_list(list_data)\n",
    "\n",
    "dict_data = {}\n",
    "\n",
    "\n",
    "keys = ['지역','총인구수','세대수', '세대당_인구','남자_인구수','여자_인구수','남여_비율']\n",
    "\n",
    "pop.get_dict(list_data, keys, dict_data)\n",
    "\n",
    "print(dict_data)"
   ]
  },
  {
   "cell_type": "code",
   "execution_count": 9,
   "metadata": {},
   "outputs": [
    {
     "data": {
      "text/html": [
       "<div>\n",
       "<style scoped>\n",
       "    .dataframe tbody tr th:only-of-type {\n",
       "        vertical-align: middle;\n",
       "    }\n",
       "\n",
       "    .dataframe tbody tr th {\n",
       "        vertical-align: top;\n",
       "    }\n",
       "\n",
       "    .dataframe thead th {\n",
       "        text-align: right;\n",
       "    }\n",
       "</style>\n",
       "<table border=\"1\" class=\"dataframe\">\n",
       "  <thead>\n",
       "    <tr style=\"text-align: right;\">\n",
       "      <th></th>\n",
       "      <th>행정구역</th>\n",
       "      <th>2020년02월_총인구수</th>\n",
       "      <th>2020년02월_세대수</th>\n",
       "      <th>2020년02월_세대당 인구</th>\n",
       "      <th>2020년02월_남자 인구수</th>\n",
       "      <th>2020년02월_여자 인구수</th>\n",
       "      <th>2020년02월_남여 비율</th>\n",
       "    </tr>\n",
       "  </thead>\n",
       "  <tbody>\n",
       "    <tr>\n",
       "      <th>0</th>\n",
       "      <td>서울특별시  (1100000000)</td>\n",
       "      <td>9,736,962</td>\n",
       "      <td>4,345,877</td>\n",
       "      <td>2.24</td>\n",
       "      <td>4,745,133</td>\n",
       "      <td>4,991,829</td>\n",
       "      <td>0.95</td>\n",
       "    </tr>\n",
       "    <tr>\n",
       "      <th>1</th>\n",
       "      <td>부산광역시  (2600000000)</td>\n",
       "      <td>3,410,925</td>\n",
       "      <td>1,502,333</td>\n",
       "      <td>2.27</td>\n",
       "      <td>1,673,266</td>\n",
       "      <td>1,737,659</td>\n",
       "      <td>0.96</td>\n",
       "    </tr>\n",
       "    <tr>\n",
       "      <th>2</th>\n",
       "      <td>대구광역시  (2700000000)</td>\n",
       "      <td>2,432,883</td>\n",
       "      <td>1,033,349</td>\n",
       "      <td>2.35</td>\n",
       "      <td>1,202,364</td>\n",
       "      <td>1,230,519</td>\n",
       "      <td>0.98</td>\n",
       "    </tr>\n",
       "    <tr>\n",
       "      <th>3</th>\n",
       "      <td>인천광역시  (2800000000)</td>\n",
       "      <td>2,954,955</td>\n",
       "      <td>1,242,107</td>\n",
       "      <td>2.38</td>\n",
       "      <td>1,481,133</td>\n",
       "      <td>1,473,822</td>\n",
       "      <td>1.00</td>\n",
       "    </tr>\n",
       "    <tr>\n",
       "      <th>4</th>\n",
       "      <td>광주광역시  (2900000000)</td>\n",
       "      <td>1,456,121</td>\n",
       "      <td>618,503</td>\n",
       "      <td>2.35</td>\n",
       "      <td>720,686</td>\n",
       "      <td>735,435</td>\n",
       "      <td>0.98</td>\n",
       "    </tr>\n",
       "    <tr>\n",
       "      <th>5</th>\n",
       "      <td>대전광역시  (3000000000)</td>\n",
       "      <td>1,473,125</td>\n",
       "      <td>637,726</td>\n",
       "      <td>2.31</td>\n",
       "      <td>735,791</td>\n",
       "      <td>737,334</td>\n",
       "      <td>1.00</td>\n",
       "    </tr>\n",
       "    <tr>\n",
       "      <th>6</th>\n",
       "      <td>울산광역시  (3100000000)</td>\n",
       "      <td>1,145,710</td>\n",
       "      <td>469,551</td>\n",
       "      <td>2.44</td>\n",
       "      <td>588,626</td>\n",
       "      <td>557,084</td>\n",
       "      <td>1.06</td>\n",
       "    </tr>\n",
       "    <tr>\n",
       "      <th>7</th>\n",
       "      <td>세종특별자치시  (3600000000)</td>\n",
       "      <td>343,788</td>\n",
       "      <td>136,629</td>\n",
       "      <td>2.52</td>\n",
       "      <td>171,403</td>\n",
       "      <td>172,385</td>\n",
       "      <td>0.99</td>\n",
       "    </tr>\n",
       "    <tr>\n",
       "      <th>8</th>\n",
       "      <td>경기도  (4100000000)</td>\n",
       "      <td>13,265,377</td>\n",
       "      <td>5,497,087</td>\n",
       "      <td>2.41</td>\n",
       "      <td>6,672,706</td>\n",
       "      <td>6,592,671</td>\n",
       "      <td>1.01</td>\n",
       "    </tr>\n",
       "    <tr>\n",
       "      <th>9</th>\n",
       "      <td>강원도  (4200000000)</td>\n",
       "      <td>1,539,521</td>\n",
       "      <td>721,003</td>\n",
       "      <td>2.14</td>\n",
       "      <td>774,358</td>\n",
       "      <td>765,163</td>\n",
       "      <td>1.01</td>\n",
       "    </tr>\n",
       "    <tr>\n",
       "      <th>10</th>\n",
       "      <td>충청북도  (4300000000)</td>\n",
       "      <td>1,598,599</td>\n",
       "      <td>723,931</td>\n",
       "      <td>2.21</td>\n",
       "      <td>809,805</td>\n",
       "      <td>788,794</td>\n",
       "      <td>1.03</td>\n",
       "    </tr>\n",
       "    <tr>\n",
       "      <th>11</th>\n",
       "      <td>충청남도  (4400000000)</td>\n",
       "      <td>2,120,995</td>\n",
       "      <td>961,890</td>\n",
       "      <td>2.21</td>\n",
       "      <td>1,081,153</td>\n",
       "      <td>1,039,842</td>\n",
       "      <td>1.04</td>\n",
       "    </tr>\n",
       "    <tr>\n",
       "      <th>12</th>\n",
       "      <td>전라북도  (4500000000)</td>\n",
       "      <td>1,815,112</td>\n",
       "      <td>818,452</td>\n",
       "      <td>2.22</td>\n",
       "      <td>902,365</td>\n",
       "      <td>912,747</td>\n",
       "      <td>0.99</td>\n",
       "    </tr>\n",
       "    <tr>\n",
       "      <th>13</th>\n",
       "      <td>전라남도  (4600000000)</td>\n",
       "      <td>1,861,894</td>\n",
       "      <td>873,871</td>\n",
       "      <td>2.13</td>\n",
       "      <td>934,900</td>\n",
       "      <td>926,994</td>\n",
       "      <td>1.01</td>\n",
       "    </tr>\n",
       "    <tr>\n",
       "      <th>14</th>\n",
       "      <td>경상북도  (4700000000)</td>\n",
       "      <td>2,658,956</td>\n",
       "      <td>1,229,265</td>\n",
       "      <td>2.16</td>\n",
       "      <td>1,338,907</td>\n",
       "      <td>1,320,049</td>\n",
       "      <td>1.01</td>\n",
       "    </tr>\n",
       "    <tr>\n",
       "      <th>15</th>\n",
       "      <td>경상남도  (4800000000)</td>\n",
       "      <td>3,358,828</td>\n",
       "      <td>1,455,655</td>\n",
       "      <td>2.31</td>\n",
       "      <td>1,690,600</td>\n",
       "      <td>1,668,228</td>\n",
       "      <td>1.01</td>\n",
       "    </tr>\n",
       "    <tr>\n",
       "      <th>16</th>\n",
       "      <td>제주특별자치도  (5000000000)</td>\n",
       "      <td>670,876</td>\n",
       "      <td>293,932</td>\n",
       "      <td>2.28</td>\n",
       "      <td>337,295</td>\n",
       "      <td>333,581</td>\n",
       "      <td>1.01</td>\n",
       "    </tr>\n",
       "  </tbody>\n",
       "</table>\n",
       "</div>"
      ],
      "text/plain": [
       "                     행정구역 2020년02월_총인구수 2020년02월_세대수  2020년02월_세대당 인구  \\\n",
       "0     서울특별시  (1100000000)     9,736,962    4,345,877             2.24   \n",
       "1     부산광역시  (2600000000)     3,410,925    1,502,333             2.27   \n",
       "2     대구광역시  (2700000000)     2,432,883    1,033,349             2.35   \n",
       "3     인천광역시  (2800000000)     2,954,955    1,242,107             2.38   \n",
       "4     광주광역시  (2900000000)     1,456,121      618,503             2.35   \n",
       "5     대전광역시  (3000000000)     1,473,125      637,726             2.31   \n",
       "6     울산광역시  (3100000000)     1,145,710      469,551             2.44   \n",
       "7   세종특별자치시  (3600000000)       343,788      136,629             2.52   \n",
       "8       경기도  (4100000000)    13,265,377    5,497,087             2.41   \n",
       "9       강원도  (4200000000)     1,539,521      721,003             2.14   \n",
       "10     충청북도  (4300000000)     1,598,599      723,931             2.21   \n",
       "11     충청남도  (4400000000)     2,120,995      961,890             2.21   \n",
       "12     전라북도  (4500000000)     1,815,112      818,452             2.22   \n",
       "13     전라남도  (4600000000)     1,861,894      873,871             2.13   \n",
       "14     경상북도  (4700000000)     2,658,956    1,229,265             2.16   \n",
       "15     경상남도  (4800000000)     3,358,828    1,455,655             2.31   \n",
       "16  제주특별자치도  (5000000000)       670,876      293,932             2.28   \n",
       "\n",
       "   2020년02월_남자 인구수 2020년02월_여자 인구수  2020년02월_남여 비율  \n",
       "0        4,745,133       4,991,829            0.95  \n",
       "1        1,673,266       1,737,659            0.96  \n",
       "2        1,202,364       1,230,519            0.98  \n",
       "3        1,481,133       1,473,822            1.00  \n",
       "4          720,686         735,435            0.98  \n",
       "5          735,791         737,334            1.00  \n",
       "6          588,626         557,084            1.06  \n",
       "7          171,403         172,385            0.99  \n",
       "8        6,672,706       6,592,671            1.01  \n",
       "9          774,358         765,163            1.01  \n",
       "10         809,805         788,794            1.03  \n",
       "11       1,081,153       1,039,842            1.04  \n",
       "12         902,365         912,747            0.99  \n",
       "13         934,900         926,994            1.01  \n",
       "14       1,338,907       1,320,049            1.01  \n",
       "15       1,690,600       1,668,228            1.01  \n",
       "16         337,295         333,581            1.01  "
      ]
     },
     "execution_count": 9,
     "metadata": {},
     "output_type": "execute_result"
    }
   ],
   "source": [
    "import pandas as pd\n",
    "df = pd.read_csv('population_2020.csv')\n",
    "df"
   ]
  },
  {
   "cell_type": "code",
   "execution_count": 10,
   "metadata": {},
   "outputs": [
    {
     "data": {
      "text/html": [
       "<div>\n",
       "<style scoped>\n",
       "    .dataframe tbody tr th:only-of-type {\n",
       "        vertical-align: middle;\n",
       "    }\n",
       "\n",
       "    .dataframe tbody tr th {\n",
       "        vertical-align: top;\n",
       "    }\n",
       "\n",
       "    .dataframe thead th {\n",
       "        text-align: right;\n",
       "    }\n",
       "</style>\n",
       "<table border=\"1\" class=\"dataframe\">\n",
       "  <thead>\n",
       "    <tr style=\"text-align: right;\">\n",
       "      <th></th>\n",
       "      <th>총인구수</th>\n",
       "      <th>세대수</th>\n",
       "      <th>세대당 인구</th>\n",
       "      <th>남자 인구수</th>\n",
       "      <th>여자 인구수</th>\n",
       "      <th>남여 비율</th>\n",
       "    </tr>\n",
       "  </thead>\n",
       "  <tbody>\n",
       "    <tr>\n",
       "      <th>행정구역</th>\n",
       "      <td>2020년02월_총인구수</td>\n",
       "      <td>2020년02월_세대수</td>\n",
       "      <td>2020년02월_세대당 인구</td>\n",
       "      <td>2020년02월_남자 인구수</td>\n",
       "      <td>2020년02월_여자 인구수</td>\n",
       "      <td>2020년02월_남여 비율</td>\n",
       "    </tr>\n",
       "    <tr>\n",
       "      <th>서울특별시  (1100000000)</th>\n",
       "      <td>9,736,962</td>\n",
       "      <td>4,345,877</td>\n",
       "      <td>2.24</td>\n",
       "      <td>4,745,133</td>\n",
       "      <td>4,991,829</td>\n",
       "      <td>0.95</td>\n",
       "    </tr>\n",
       "    <tr>\n",
       "      <th>부산광역시  (2600000000)</th>\n",
       "      <td>3,410,925</td>\n",
       "      <td>1,502,333</td>\n",
       "      <td>2.27</td>\n",
       "      <td>1,673,266</td>\n",
       "      <td>1,737,659</td>\n",
       "      <td>0.96</td>\n",
       "    </tr>\n",
       "    <tr>\n",
       "      <th>대구광역시  (2700000000)</th>\n",
       "      <td>2,432,883</td>\n",
       "      <td>1,033,349</td>\n",
       "      <td>2.35</td>\n",
       "      <td>1,202,364</td>\n",
       "      <td>1,230,519</td>\n",
       "      <td>0.98</td>\n",
       "    </tr>\n",
       "    <tr>\n",
       "      <th>인천광역시  (2800000000)</th>\n",
       "      <td>2,954,955</td>\n",
       "      <td>1,242,107</td>\n",
       "      <td>2.38</td>\n",
       "      <td>1,481,133</td>\n",
       "      <td>1,473,822</td>\n",
       "      <td>1.00</td>\n",
       "    </tr>\n",
       "    <tr>\n",
       "      <th>광주광역시  (2900000000)</th>\n",
       "      <td>1,456,121</td>\n",
       "      <td>618,503</td>\n",
       "      <td>2.35</td>\n",
       "      <td>720,686</td>\n",
       "      <td>735,435</td>\n",
       "      <td>0.98</td>\n",
       "    </tr>\n",
       "    <tr>\n",
       "      <th>대전광역시  (3000000000)</th>\n",
       "      <td>1,473,125</td>\n",
       "      <td>637,726</td>\n",
       "      <td>2.31</td>\n",
       "      <td>735,791</td>\n",
       "      <td>737,334</td>\n",
       "      <td>1.00</td>\n",
       "    </tr>\n",
       "    <tr>\n",
       "      <th>울산광역시  (3100000000)</th>\n",
       "      <td>1,145,710</td>\n",
       "      <td>469,551</td>\n",
       "      <td>2.44</td>\n",
       "      <td>588,626</td>\n",
       "      <td>557,084</td>\n",
       "      <td>1.06</td>\n",
       "    </tr>\n",
       "    <tr>\n",
       "      <th>세종특별자치시  (3600000000)</th>\n",
       "      <td>343,788</td>\n",
       "      <td>136,629</td>\n",
       "      <td>2.52</td>\n",
       "      <td>171,403</td>\n",
       "      <td>172,385</td>\n",
       "      <td>0.99</td>\n",
       "    </tr>\n",
       "    <tr>\n",
       "      <th>경기도  (4100000000)</th>\n",
       "      <td>13,265,377</td>\n",
       "      <td>5,497,087</td>\n",
       "      <td>2.41</td>\n",
       "      <td>6,672,706</td>\n",
       "      <td>6,592,671</td>\n",
       "      <td>1.01</td>\n",
       "    </tr>\n",
       "    <tr>\n",
       "      <th>강원도  (4200000000)</th>\n",
       "      <td>1,539,521</td>\n",
       "      <td>721,003</td>\n",
       "      <td>2.14</td>\n",
       "      <td>774,358</td>\n",
       "      <td>765,163</td>\n",
       "      <td>1.01</td>\n",
       "    </tr>\n",
       "    <tr>\n",
       "      <th>충청북도  (4300000000)</th>\n",
       "      <td>1,598,599</td>\n",
       "      <td>723,931</td>\n",
       "      <td>2.21</td>\n",
       "      <td>809,805</td>\n",
       "      <td>788,794</td>\n",
       "      <td>1.03</td>\n",
       "    </tr>\n",
       "    <tr>\n",
       "      <th>충청남도  (4400000000)</th>\n",
       "      <td>2,120,995</td>\n",
       "      <td>961,890</td>\n",
       "      <td>2.21</td>\n",
       "      <td>1,081,153</td>\n",
       "      <td>1,039,842</td>\n",
       "      <td>1.04</td>\n",
       "    </tr>\n",
       "    <tr>\n",
       "      <th>전라북도  (4500000000)</th>\n",
       "      <td>1,815,112</td>\n",
       "      <td>818,452</td>\n",
       "      <td>2.22</td>\n",
       "      <td>902,365</td>\n",
       "      <td>912,747</td>\n",
       "      <td>0.99</td>\n",
       "    </tr>\n",
       "    <tr>\n",
       "      <th>전라남도  (4600000000)</th>\n",
       "      <td>1,861,894</td>\n",
       "      <td>873,871</td>\n",
       "      <td>2.13</td>\n",
       "      <td>934,900</td>\n",
       "      <td>926,994</td>\n",
       "      <td>1.01</td>\n",
       "    </tr>\n",
       "    <tr>\n",
       "      <th>경상북도  (4700000000)</th>\n",
       "      <td>2,658,956</td>\n",
       "      <td>1,229,265</td>\n",
       "      <td>2.16</td>\n",
       "      <td>1,338,907</td>\n",
       "      <td>1,320,049</td>\n",
       "      <td>1.01</td>\n",
       "    </tr>\n",
       "    <tr>\n",
       "      <th>경상남도  (4800000000)</th>\n",
       "      <td>3,358,828</td>\n",
       "      <td>1,455,655</td>\n",
       "      <td>2.31</td>\n",
       "      <td>1,690,600</td>\n",
       "      <td>1,668,228</td>\n",
       "      <td>1.01</td>\n",
       "    </tr>\n",
       "    <tr>\n",
       "      <th>제주특별자치도  (5000000000)</th>\n",
       "      <td>670,876</td>\n",
       "      <td>293,932</td>\n",
       "      <td>2.28</td>\n",
       "      <td>337,295</td>\n",
       "      <td>333,581</td>\n",
       "      <td>1.01</td>\n",
       "    </tr>\n",
       "  </tbody>\n",
       "</table>\n",
       "</div>"
      ],
      "text/plain": [
       "                                총인구수           세대수           세대당 인구  \\\n",
       "행정구역                   2020년02월_총인구수  2020년02월_세대수  2020년02월_세대당 인구   \n",
       "서울특별시  (1100000000)        9,736,962     4,345,877             2.24   \n",
       "부산광역시  (2600000000)        3,410,925     1,502,333             2.27   \n",
       "대구광역시  (2700000000)        2,432,883     1,033,349             2.35   \n",
       "인천광역시  (2800000000)        2,954,955     1,242,107             2.38   \n",
       "광주광역시  (2900000000)        1,456,121       618,503             2.35   \n",
       "대전광역시  (3000000000)        1,473,125       637,726             2.31   \n",
       "울산광역시  (3100000000)        1,145,710       469,551             2.44   \n",
       "세종특별자치시  (3600000000)        343,788       136,629             2.52   \n",
       "경기도  (4100000000)         13,265,377     5,497,087             2.41   \n",
       "강원도  (4200000000)          1,539,521       721,003             2.14   \n",
       "충청북도  (4300000000)         1,598,599       723,931             2.21   \n",
       "충청남도  (4400000000)         2,120,995       961,890             2.21   \n",
       "전라북도  (4500000000)         1,815,112       818,452             2.22   \n",
       "전라남도  (4600000000)         1,861,894       873,871             2.13   \n",
       "경상북도  (4700000000)         2,658,956     1,229,265             2.16   \n",
       "경상남도  (4800000000)         3,358,828     1,455,655             2.31   \n",
       "제주특별자치도  (5000000000)        670,876       293,932             2.28   \n",
       "\n",
       "                                남자 인구수           여자 인구수           남여 비율  \n",
       "행정구역                   2020년02월_남자 인구수  2020년02월_여자 인구수  2020년02월_남여 비율  \n",
       "서울특별시  (1100000000)          4,745,133        4,991,829            0.95  \n",
       "부산광역시  (2600000000)          1,673,266        1,737,659            0.96  \n",
       "대구광역시  (2700000000)          1,202,364        1,230,519            0.98  \n",
       "인천광역시  (2800000000)          1,481,133        1,473,822            1.00  \n",
       "광주광역시  (2900000000)            720,686          735,435            0.98  \n",
       "대전광역시  (3000000000)            735,791          737,334            1.00  \n",
       "울산광역시  (3100000000)            588,626          557,084            1.06  \n",
       "세종특별자치시  (3600000000)          171,403          172,385            0.99  \n",
       "경기도  (4100000000)            6,672,706        6,592,671            1.01  \n",
       "강원도  (4200000000)              774,358          765,163            1.01  \n",
       "충청북도  (4300000000)             809,805          788,794            1.03  \n",
       "충청남도  (4400000000)           1,081,153        1,039,842            1.04  \n",
       "전라북도  (4500000000)             902,365          912,747            0.99  \n",
       "전라남도  (4600000000)             934,900          926,994            1.01  \n",
       "경상북도  (4700000000)           1,338,907        1,320,049            1.01  \n",
       "경상남도  (4800000000)           1,690,600        1,668,228            1.01  \n",
       "제주특별자치도  (5000000000)          337,295          333,581            1.01  "
      ]
     },
     "execution_count": 10,
     "metadata": {},
     "output_type": "execute_result"
    }
   ],
   "source": [
    "df2 = pd.read_csv('population_2020.csv',\n",
    "                names = ['총인구수','세대수','세대당 인구', '남자 인구수','여자 인구수',\n",
    "                        '남여 비율'])\n",
    "df2"
   ]
  },
  {
   "cell_type": "code",
   "execution_count": 11,
   "metadata": {},
   "outputs": [
    {
     "data": {
      "text/html": [
       "<div>\n",
       "<style scoped>\n",
       "    .dataframe tbody tr th:only-of-type {\n",
       "        vertical-align: middle;\n",
       "    }\n",
       "\n",
       "    .dataframe tbody tr th {\n",
       "        vertical-align: top;\n",
       "    }\n",
       "\n",
       "    .dataframe thead th {\n",
       "        text-align: right;\n",
       "    }\n",
       "</style>\n",
       "<table border=\"1\" class=\"dataframe\">\n",
       "  <thead>\n",
       "    <tr style=\"text-align: right;\">\n",
       "      <th></th>\n",
       "      <th>총인구수</th>\n",
       "      <th>세대수</th>\n",
       "      <th>세대당 인구</th>\n",
       "      <th>남자 인구수</th>\n",
       "      <th>여자 인구수</th>\n",
       "      <th>남여 비율</th>\n",
       "    </tr>\n",
       "  </thead>\n",
       "  <tbody>\n",
       "    <tr>\n",
       "      <th>서울특별시  (1100000000)</th>\n",
       "      <td>9,736,962</td>\n",
       "      <td>4,345,877</td>\n",
       "      <td>2.24</td>\n",
       "      <td>4,745,133</td>\n",
       "      <td>4,991,829</td>\n",
       "      <td>0.95</td>\n",
       "    </tr>\n",
       "    <tr>\n",
       "      <th>부산광역시  (2600000000)</th>\n",
       "      <td>3,410,925</td>\n",
       "      <td>1,502,333</td>\n",
       "      <td>2.27</td>\n",
       "      <td>1,673,266</td>\n",
       "      <td>1,737,659</td>\n",
       "      <td>0.96</td>\n",
       "    </tr>\n",
       "    <tr>\n",
       "      <th>대구광역시  (2700000000)</th>\n",
       "      <td>2,432,883</td>\n",
       "      <td>1,033,349</td>\n",
       "      <td>2.35</td>\n",
       "      <td>1,202,364</td>\n",
       "      <td>1,230,519</td>\n",
       "      <td>0.98</td>\n",
       "    </tr>\n",
       "    <tr>\n",
       "      <th>인천광역시  (2800000000)</th>\n",
       "      <td>2,954,955</td>\n",
       "      <td>1,242,107</td>\n",
       "      <td>2.38</td>\n",
       "      <td>1,481,133</td>\n",
       "      <td>1,473,822</td>\n",
       "      <td>1.00</td>\n",
       "    </tr>\n",
       "    <tr>\n",
       "      <th>광주광역시  (2900000000)</th>\n",
       "      <td>1,456,121</td>\n",
       "      <td>618,503</td>\n",
       "      <td>2.35</td>\n",
       "      <td>720,686</td>\n",
       "      <td>735,435</td>\n",
       "      <td>0.98</td>\n",
       "    </tr>\n",
       "    <tr>\n",
       "      <th>대전광역시  (3000000000)</th>\n",
       "      <td>1,473,125</td>\n",
       "      <td>637,726</td>\n",
       "      <td>2.31</td>\n",
       "      <td>735,791</td>\n",
       "      <td>737,334</td>\n",
       "      <td>1.00</td>\n",
       "    </tr>\n",
       "    <tr>\n",
       "      <th>울산광역시  (3100000000)</th>\n",
       "      <td>1,145,710</td>\n",
       "      <td>469,551</td>\n",
       "      <td>2.44</td>\n",
       "      <td>588,626</td>\n",
       "      <td>557,084</td>\n",
       "      <td>1.06</td>\n",
       "    </tr>\n",
       "    <tr>\n",
       "      <th>세종특별자치시  (3600000000)</th>\n",
       "      <td>343,788</td>\n",
       "      <td>136,629</td>\n",
       "      <td>2.52</td>\n",
       "      <td>171,403</td>\n",
       "      <td>172,385</td>\n",
       "      <td>0.99</td>\n",
       "    </tr>\n",
       "    <tr>\n",
       "      <th>경기도  (4100000000)</th>\n",
       "      <td>13,265,377</td>\n",
       "      <td>5,497,087</td>\n",
       "      <td>2.41</td>\n",
       "      <td>6,672,706</td>\n",
       "      <td>6,592,671</td>\n",
       "      <td>1.01</td>\n",
       "    </tr>\n",
       "    <tr>\n",
       "      <th>강원도  (4200000000)</th>\n",
       "      <td>1,539,521</td>\n",
       "      <td>721,003</td>\n",
       "      <td>2.14</td>\n",
       "      <td>774,358</td>\n",
       "      <td>765,163</td>\n",
       "      <td>1.01</td>\n",
       "    </tr>\n",
       "    <tr>\n",
       "      <th>충청북도  (4300000000)</th>\n",
       "      <td>1,598,599</td>\n",
       "      <td>723,931</td>\n",
       "      <td>2.21</td>\n",
       "      <td>809,805</td>\n",
       "      <td>788,794</td>\n",
       "      <td>1.03</td>\n",
       "    </tr>\n",
       "    <tr>\n",
       "      <th>충청남도  (4400000000)</th>\n",
       "      <td>2,120,995</td>\n",
       "      <td>961,890</td>\n",
       "      <td>2.21</td>\n",
       "      <td>1,081,153</td>\n",
       "      <td>1,039,842</td>\n",
       "      <td>1.04</td>\n",
       "    </tr>\n",
       "    <tr>\n",
       "      <th>전라북도  (4500000000)</th>\n",
       "      <td>1,815,112</td>\n",
       "      <td>818,452</td>\n",
       "      <td>2.22</td>\n",
       "      <td>902,365</td>\n",
       "      <td>912,747</td>\n",
       "      <td>0.99</td>\n",
       "    </tr>\n",
       "    <tr>\n",
       "      <th>전라남도  (4600000000)</th>\n",
       "      <td>1,861,894</td>\n",
       "      <td>873,871</td>\n",
       "      <td>2.13</td>\n",
       "      <td>934,900</td>\n",
       "      <td>926,994</td>\n",
       "      <td>1.01</td>\n",
       "    </tr>\n",
       "    <tr>\n",
       "      <th>경상북도  (4700000000)</th>\n",
       "      <td>2,658,956</td>\n",
       "      <td>1,229,265</td>\n",
       "      <td>2.16</td>\n",
       "      <td>1,338,907</td>\n",
       "      <td>1,320,049</td>\n",
       "      <td>1.01</td>\n",
       "    </tr>\n",
       "    <tr>\n",
       "      <th>경상남도  (4800000000)</th>\n",
       "      <td>3,358,828</td>\n",
       "      <td>1,455,655</td>\n",
       "      <td>2.31</td>\n",
       "      <td>1,690,600</td>\n",
       "      <td>1,668,228</td>\n",
       "      <td>1.01</td>\n",
       "    </tr>\n",
       "    <tr>\n",
       "      <th>제주특별자치도  (5000000000)</th>\n",
       "      <td>670,876</td>\n",
       "      <td>293,932</td>\n",
       "      <td>2.28</td>\n",
       "      <td>337,295</td>\n",
       "      <td>333,581</td>\n",
       "      <td>1.01</td>\n",
       "    </tr>\n",
       "  </tbody>\n",
       "</table>\n",
       "</div>"
      ],
      "text/plain": [
       "                             총인구수        세대수  세대당 인구     남자 인구수     여자 인구수  \\\n",
       "서울특별시  (1100000000)     9,736,962  4,345,877    2.24  4,745,133  4,991,829   \n",
       "부산광역시  (2600000000)     3,410,925  1,502,333    2.27  1,673,266  1,737,659   \n",
       "대구광역시  (2700000000)     2,432,883  1,033,349    2.35  1,202,364  1,230,519   \n",
       "인천광역시  (2800000000)     2,954,955  1,242,107    2.38  1,481,133  1,473,822   \n",
       "광주광역시  (2900000000)     1,456,121    618,503    2.35    720,686    735,435   \n",
       "대전광역시  (3000000000)     1,473,125    637,726    2.31    735,791    737,334   \n",
       "울산광역시  (3100000000)     1,145,710    469,551    2.44    588,626    557,084   \n",
       "세종특별자치시  (3600000000)     343,788    136,629    2.52    171,403    172,385   \n",
       "경기도  (4100000000)      13,265,377  5,497,087    2.41  6,672,706  6,592,671   \n",
       "강원도  (4200000000)       1,539,521    721,003    2.14    774,358    765,163   \n",
       "충청북도  (4300000000)      1,598,599    723,931    2.21    809,805    788,794   \n",
       "충청남도  (4400000000)      2,120,995    961,890    2.21  1,081,153  1,039,842   \n",
       "전라북도  (4500000000)      1,815,112    818,452    2.22    902,365    912,747   \n",
       "전라남도  (4600000000)      1,861,894    873,871    2.13    934,900    926,994   \n",
       "경상북도  (4700000000)      2,658,956  1,229,265    2.16  1,338,907  1,320,049   \n",
       "경상남도  (4800000000)      3,358,828  1,455,655    2.31  1,690,600  1,668,228   \n",
       "제주특별자치도  (5000000000)     670,876    293,932    2.28    337,295    333,581   \n",
       "\n",
       "                       남여 비율  \n",
       "서울특별시  (1100000000)     0.95  \n",
       "부산광역시  (2600000000)     0.96  \n",
       "대구광역시  (2700000000)     0.98  \n",
       "인천광역시  (2800000000)     1.00  \n",
       "광주광역시  (2900000000)     0.98  \n",
       "대전광역시  (3000000000)     1.00  \n",
       "울산광역시  (3100000000)     1.06  \n",
       "세종특별자치시  (3600000000)   0.99  \n",
       "경기도  (4100000000)       1.01  \n",
       "강원도  (4200000000)       1.01  \n",
       "충청북도  (4300000000)      1.03  \n",
       "충청남도  (4400000000)      1.04  \n",
       "전라북도  (4500000000)      0.99  \n",
       "전라남도  (4600000000)      1.01  \n",
       "경상북도  (4700000000)      1.01  \n",
       "경상남도  (4800000000)      1.01  \n",
       "제주특별자치도  (5000000000)   1.01  "
      ]
     },
     "execution_count": 11,
     "metadata": {},
     "output_type": "execute_result"
    }
   ],
   "source": [
    "# 위에 남아있는 총인구수 세대수 세대당 인구 남자 인구수 여자 인구수 등을 삭제하려면 \n",
    "# skiprows를 하여 삭제한다.\n",
    "df3 = pd.read_csv('population_2020.csv', skiprows=[0],\n",
    "                names = ['총인구수','세대수','세대당 인구', '남자 인구수','여자 인구수',\n",
    "                        '남여 비율'])\n",
    "df3"
   ]
  },
  {
   "cell_type": "code",
   "execution_count": 13,
   "metadata": {},
   "outputs": [
    {
     "data": {
      "text/plain": [
       "서울특별시  (1100000000)       9,736,962\n",
       "부산광역시  (2600000000)       3,410,925\n",
       "대구광역시  (2700000000)       2,432,883\n",
       "인천광역시  (2800000000)       2,954,955\n",
       "광주광역시  (2900000000)       1,456,121\n",
       "대전광역시  (3000000000)       1,473,125\n",
       "울산광역시  (3100000000)       1,145,710\n",
       "세종특별자치시  (3600000000)       343,788\n",
       "경기도  (4100000000)        13,265,377\n",
       "강원도  (4200000000)         1,539,521\n",
       "충청북도  (4300000000)        1,598,599\n",
       "충청남도  (4400000000)        2,120,995\n",
       "전라북도  (4500000000)        1,815,112\n",
       "전라남도  (4600000000)        1,861,894\n",
       "경상북도  (4700000000)        2,658,956\n",
       "경상남도  (4800000000)        3,358,828\n",
       "제주특별자치도  (5000000000)       670,876\n",
       "Name: 총인구수, dtype: object"
      ]
     },
     "execution_count": 13,
     "metadata": {},
     "output_type": "execute_result"
    }
   ],
   "source": [
    "df3['총인구수'].replace(',','')"
   ]
  },
  {
   "cell_type": "code",
   "execution_count": 19,
   "metadata": {},
   "outputs": [
    {
     "data": {
      "text/html": [
       "<div>\n",
       "<style scoped>\n",
       "    .dataframe tbody tr th:only-of-type {\n",
       "        vertical-align: middle;\n",
       "    }\n",
       "\n",
       "    .dataframe tbody tr th {\n",
       "        vertical-align: top;\n",
       "    }\n",
       "\n",
       "    .dataframe thead th {\n",
       "        text-align: right;\n",
       "    }\n",
       "</style>\n",
       "<table border=\"1\" class=\"dataframe\">\n",
       "  <thead>\n",
       "    <tr style=\"text-align: right;\">\n",
       "      <th></th>\n",
       "      <th>총인구수</th>\n",
       "      <th>세대수</th>\n",
       "      <th>세대당 인구</th>\n",
       "      <th>남자 인구수</th>\n",
       "      <th>여자 인구수</th>\n",
       "      <th>남여 비율</th>\n",
       "    </tr>\n",
       "  </thead>\n",
       "  <tbody>\n",
       "    <tr>\n",
       "      <th>서울특별시  (1100000000)</th>\n",
       "      <td>9736962</td>\n",
       "      <td>4345877</td>\n",
       "      <td>2.24</td>\n",
       "      <td>4745133</td>\n",
       "      <td>4991829</td>\n",
       "      <td>0.95</td>\n",
       "    </tr>\n",
       "    <tr>\n",
       "      <th>부산광역시  (2600000000)</th>\n",
       "      <td>3410925</td>\n",
       "      <td>1502333</td>\n",
       "      <td>2.27</td>\n",
       "      <td>1673266</td>\n",
       "      <td>1737659</td>\n",
       "      <td>0.96</td>\n",
       "    </tr>\n",
       "    <tr>\n",
       "      <th>대구광역시  (2700000000)</th>\n",
       "      <td>2432883</td>\n",
       "      <td>1033349</td>\n",
       "      <td>2.35</td>\n",
       "      <td>1202364</td>\n",
       "      <td>1230519</td>\n",
       "      <td>0.98</td>\n",
       "    </tr>\n",
       "    <tr>\n",
       "      <th>인천광역시  (2800000000)</th>\n",
       "      <td>2954955</td>\n",
       "      <td>1242107</td>\n",
       "      <td>2.38</td>\n",
       "      <td>1481133</td>\n",
       "      <td>1473822</td>\n",
       "      <td>1.00</td>\n",
       "    </tr>\n",
       "    <tr>\n",
       "      <th>광주광역시  (2900000000)</th>\n",
       "      <td>1456121</td>\n",
       "      <td>618503</td>\n",
       "      <td>2.35</td>\n",
       "      <td>720686</td>\n",
       "      <td>735435</td>\n",
       "      <td>0.98</td>\n",
       "    </tr>\n",
       "    <tr>\n",
       "      <th>대전광역시  (3000000000)</th>\n",
       "      <td>1473125</td>\n",
       "      <td>637726</td>\n",
       "      <td>2.31</td>\n",
       "      <td>735791</td>\n",
       "      <td>737334</td>\n",
       "      <td>1.00</td>\n",
       "    </tr>\n",
       "    <tr>\n",
       "      <th>울산광역시  (3100000000)</th>\n",
       "      <td>1145710</td>\n",
       "      <td>469551</td>\n",
       "      <td>2.44</td>\n",
       "      <td>588626</td>\n",
       "      <td>557084</td>\n",
       "      <td>1.06</td>\n",
       "    </tr>\n",
       "    <tr>\n",
       "      <th>세종특별자치시  (3600000000)</th>\n",
       "      <td>343788</td>\n",
       "      <td>136629</td>\n",
       "      <td>2.52</td>\n",
       "      <td>171403</td>\n",
       "      <td>172385</td>\n",
       "      <td>0.99</td>\n",
       "    </tr>\n",
       "    <tr>\n",
       "      <th>경기도  (4100000000)</th>\n",
       "      <td>13265377</td>\n",
       "      <td>5497087</td>\n",
       "      <td>2.41</td>\n",
       "      <td>6672706</td>\n",
       "      <td>6592671</td>\n",
       "      <td>1.01</td>\n",
       "    </tr>\n",
       "    <tr>\n",
       "      <th>강원도  (4200000000)</th>\n",
       "      <td>1539521</td>\n",
       "      <td>721003</td>\n",
       "      <td>2.14</td>\n",
       "      <td>774358</td>\n",
       "      <td>765163</td>\n",
       "      <td>1.01</td>\n",
       "    </tr>\n",
       "    <tr>\n",
       "      <th>충청북도  (4300000000)</th>\n",
       "      <td>1598599</td>\n",
       "      <td>723931</td>\n",
       "      <td>2.21</td>\n",
       "      <td>809805</td>\n",
       "      <td>788794</td>\n",
       "      <td>1.03</td>\n",
       "    </tr>\n",
       "    <tr>\n",
       "      <th>충청남도  (4400000000)</th>\n",
       "      <td>2120995</td>\n",
       "      <td>961890</td>\n",
       "      <td>2.21</td>\n",
       "      <td>1081153</td>\n",
       "      <td>1039842</td>\n",
       "      <td>1.04</td>\n",
       "    </tr>\n",
       "    <tr>\n",
       "      <th>전라북도  (4500000000)</th>\n",
       "      <td>1815112</td>\n",
       "      <td>818452</td>\n",
       "      <td>2.22</td>\n",
       "      <td>902365</td>\n",
       "      <td>912747</td>\n",
       "      <td>0.99</td>\n",
       "    </tr>\n",
       "    <tr>\n",
       "      <th>전라남도  (4600000000)</th>\n",
       "      <td>1861894</td>\n",
       "      <td>873871</td>\n",
       "      <td>2.13</td>\n",
       "      <td>934900</td>\n",
       "      <td>926994</td>\n",
       "      <td>1.01</td>\n",
       "    </tr>\n",
       "    <tr>\n",
       "      <th>경상북도  (4700000000)</th>\n",
       "      <td>2658956</td>\n",
       "      <td>1229265</td>\n",
       "      <td>2.16</td>\n",
       "      <td>1338907</td>\n",
       "      <td>1320049</td>\n",
       "      <td>1.01</td>\n",
       "    </tr>\n",
       "    <tr>\n",
       "      <th>경상남도  (4800000000)</th>\n",
       "      <td>3358828</td>\n",
       "      <td>1455655</td>\n",
       "      <td>2.31</td>\n",
       "      <td>1690600</td>\n",
       "      <td>1668228</td>\n",
       "      <td>1.01</td>\n",
       "    </tr>\n",
       "    <tr>\n",
       "      <th>제주특별자치도  (5000000000)</th>\n",
       "      <td>670876</td>\n",
       "      <td>293932</td>\n",
       "      <td>2.28</td>\n",
       "      <td>337295</td>\n",
       "      <td>333581</td>\n",
       "      <td>1.01</td>\n",
       "    </tr>\n",
       "  </tbody>\n",
       "</table>\n",
       "</div>"
      ],
      "text/plain": [
       "                           총인구수      세대수  세대당 인구   남자 인구수   여자 인구수  남여 비율\n",
       "서울특별시  (1100000000)     9736962  4345877    2.24  4745133  4991829   0.95\n",
       "부산광역시  (2600000000)     3410925  1502333    2.27  1673266  1737659   0.96\n",
       "대구광역시  (2700000000)     2432883  1033349    2.35  1202364  1230519   0.98\n",
       "인천광역시  (2800000000)     2954955  1242107    2.38  1481133  1473822   1.00\n",
       "광주광역시  (2900000000)     1456121   618503    2.35   720686   735435   0.98\n",
       "대전광역시  (3000000000)     1473125   637726    2.31   735791   737334   1.00\n",
       "울산광역시  (3100000000)     1145710   469551    2.44   588626   557084   1.06\n",
       "세종특별자치시  (3600000000)    343788   136629    2.52   171403   172385   0.99\n",
       "경기도  (4100000000)      13265377  5497087    2.41  6672706  6592671   1.01\n",
       "강원도  (4200000000)       1539521   721003    2.14   774358   765163   1.01\n",
       "충청북도  (4300000000)      1598599   723931    2.21   809805   788794   1.03\n",
       "충청남도  (4400000000)      2120995   961890    2.21  1081153  1039842   1.04\n",
       "전라북도  (4500000000)      1815112   818452    2.22   902365   912747   0.99\n",
       "전라남도  (4600000000)      1861894   873871    2.13   934900   926994   1.01\n",
       "경상북도  (4700000000)      2658956  1229265    2.16  1338907  1320049   1.01\n",
       "경상남도  (4800000000)      3358828  1455655    2.31  1690600  1668228   1.01\n",
       "제주특별자치도  (5000000000)    670876   293932    2.28   337295   333581   1.01"
      ]
     },
     "execution_count": 19,
     "metadata": {},
     "output_type": "execute_result"
    }
   ],
   "source": [
    "df3 = pd.read_csv('population_2020.csv', skiprows=[0],thousands=',',\n",
    "                names = ['총인구수','세대수','세대당 인구', '남자 인구수','여자 인구수',\n",
    "                        '남여 비율'])\n",
    "df3"
   ]
  },
  {
   "cell_type": "code",
   "execution_count": 20,
   "metadata": {},
   "outputs": [
    {
     "data": {
      "text/plain": [
       "51844627"
      ]
     },
     "execution_count": 20,
     "metadata": {},
     "output_type": "execute_result"
    }
   ],
   "source": [
    "df3['총인구수'].sum()"
   ]
  },
  {
   "cell_type": "code",
   "execution_count": 21,
   "metadata": {},
   "outputs": [
    {
     "data": {
      "text/plain": [
       "총인구수      51844627\n",
       "세대수       22561161\n",
       "남자 인구수    25860491\n",
       "여자 인구수    25984136\n",
       "dtype: int64"
      ]
     },
     "execution_count": 21,
     "metadata": {},
     "output_type": "execute_result"
    }
   ],
   "source": [
    "df3[['총인구수', '세대수', '남자 인구수', '여자 인구수']].sum()"
   ]
  },
  {
   "cell_type": "markdown",
   "metadata": {},
   "source": [
    "# 데이터프레임 그래프 그리기"
   ]
  },
  {
   "cell_type": "code",
   "execution_count": 22,
   "metadata": {},
   "outputs": [],
   "source": [
    "import numpy as np\n",
    "import matplotlib.pyplot as mpl\n",
    "import matplotlib.pyplot as plt\n",
    "mpl.rcParams['axes.unicode_minus'] = False #minus 표시\n",
    "mpl.rc('font', family='Malgun Gothic')  # 폰트 설정(맑은 고딕)\n",
    "%matplotlib inline\n"
   ]
  },
  {
   "cell_type": "code",
   "execution_count": 23,
   "metadata": {},
   "outputs": [
    {
     "ename": "SyntaxError",
     "evalue": "can't assign to function call (<ipython-input-23-bb1372d886e6>, line 1)",
     "output_type": "error",
     "traceback": [
      "\u001b[1;36m  File \u001b[1;32m\"<ipython-input-23-bb1372d886e6>\"\u001b[1;36m, line \u001b[1;32m1\u001b[0m\n\u001b[1;33m    plt.rcParams('figure.figsize')=(12,6)\u001b[0m\n\u001b[1;37m                                         ^\u001b[0m\n\u001b[1;31mSyntaxError\u001b[0m\u001b[1;31m:\u001b[0m can't assign to function call\n"
     ]
    }
   ],
   "source": [
    "plt.rcParams('figure.figsize')=(12,6)\n",
    "plt.rcParams('font.size')=14"
   ]
  },
  {
   "cell_type": "code",
   "execution_count": 36,
   "metadata": {},
   "outputs": [
    {
     "data": {
      "text/html": [
       "<div>\n",
       "<style scoped>\n",
       "    .dataframe tbody tr th:only-of-type {\n",
       "        vertical-align: middle;\n",
       "    }\n",
       "\n",
       "    .dataframe tbody tr th {\n",
       "        vertical-align: top;\n",
       "    }\n",
       "\n",
       "    .dataframe thead th {\n",
       "        text-align: right;\n",
       "    }\n",
       "</style>\n",
       "<table border=\"1\" class=\"dataframe\">\n",
       "  <thead>\n",
       "    <tr style=\"text-align: right;\">\n",
       "      <th></th>\n",
       "      <th>총인구수</th>\n",
       "      <th>세대수</th>\n",
       "    </tr>\n",
       "  </thead>\n",
       "  <tbody>\n",
       "    <tr>\n",
       "      <th>0</th>\n",
       "      <td>9736962</td>\n",
       "      <td>4345877</td>\n",
       "    </tr>\n",
       "    <tr>\n",
       "      <th>1</th>\n",
       "      <td>3410925</td>\n",
       "      <td>1502333</td>\n",
       "    </tr>\n",
       "    <tr>\n",
       "      <th>2</th>\n",
       "      <td>2432883</td>\n",
       "      <td>1033349</td>\n",
       "    </tr>\n",
       "    <tr>\n",
       "      <th>3</th>\n",
       "      <td>2954955</td>\n",
       "      <td>1242107</td>\n",
       "    </tr>\n",
       "    <tr>\n",
       "      <th>4</th>\n",
       "      <td>1456121</td>\n",
       "      <td>618503</td>\n",
       "    </tr>\n",
       "    <tr>\n",
       "      <th>5</th>\n",
       "      <td>1473125</td>\n",
       "      <td>637726</td>\n",
       "    </tr>\n",
       "    <tr>\n",
       "      <th>6</th>\n",
       "      <td>1145710</td>\n",
       "      <td>469551</td>\n",
       "    </tr>\n",
       "  </tbody>\n",
       "</table>\n",
       "</div>"
      ],
      "text/plain": [
       "      총인구수      세대수\n",
       "0  9736962  4345877\n",
       "1  3410925  1502333\n",
       "2  2432883  1033349\n",
       "3  2954955  1242107\n",
       "4  1456121   618503\n",
       "5  1473125   637726\n",
       "6  1145710   469551"
      ]
     },
     "execution_count": 36,
     "metadata": {},
     "output_type": "execute_result"
    }
   ],
   "source": [
    "df4=df3.iloc[:7, :2]\n",
    "df4.reset_index(drop=True)"
   ]
  },
  {
   "cell_type": "code",
   "execution_count": 37,
   "metadata": {},
   "outputs": [
    {
     "data": {
      "text/html": [
       "<div>\n",
       "<style scoped>\n",
       "    .dataframe tbody tr th:only-of-type {\n",
       "        vertical-align: middle;\n",
       "    }\n",
       "\n",
       "    .dataframe tbody tr th {\n",
       "        vertical-align: top;\n",
       "    }\n",
       "\n",
       "    .dataframe thead th {\n",
       "        text-align: right;\n",
       "    }\n",
       "</style>\n",
       "<table border=\"1\" class=\"dataframe\">\n",
       "  <thead>\n",
       "    <tr style=\"text-align: right;\">\n",
       "      <th></th>\n",
       "      <th>총인구수</th>\n",
       "      <th>세대수</th>\n",
       "      <th>광역시</th>\n",
       "    </tr>\n",
       "  </thead>\n",
       "  <tbody>\n",
       "    <tr>\n",
       "      <th>서울특별시  (1100000000)</th>\n",
       "      <td>9736962</td>\n",
       "      <td>4345877</td>\n",
       "      <td>서울</td>\n",
       "    </tr>\n",
       "    <tr>\n",
       "      <th>부산광역시  (2600000000)</th>\n",
       "      <td>3410925</td>\n",
       "      <td>1502333</td>\n",
       "      <td>부산</td>\n",
       "    </tr>\n",
       "    <tr>\n",
       "      <th>대구광역시  (2700000000)</th>\n",
       "      <td>2432883</td>\n",
       "      <td>1033349</td>\n",
       "      <td>대구</td>\n",
       "    </tr>\n",
       "    <tr>\n",
       "      <th>인천광역시  (2800000000)</th>\n",
       "      <td>2954955</td>\n",
       "      <td>1242107</td>\n",
       "      <td>인천</td>\n",
       "    </tr>\n",
       "    <tr>\n",
       "      <th>광주광역시  (2900000000)</th>\n",
       "      <td>1456121</td>\n",
       "      <td>618503</td>\n",
       "      <td>광수</td>\n",
       "    </tr>\n",
       "    <tr>\n",
       "      <th>대전광역시  (3000000000)</th>\n",
       "      <td>1473125</td>\n",
       "      <td>637726</td>\n",
       "      <td>대전</td>\n",
       "    </tr>\n",
       "    <tr>\n",
       "      <th>울산광역시  (3100000000)</th>\n",
       "      <td>1145710</td>\n",
       "      <td>469551</td>\n",
       "      <td>울산</td>\n",
       "    </tr>\n",
       "  </tbody>\n",
       "</table>\n",
       "</div>"
      ],
      "text/plain": [
       "                        총인구수      세대수 광역시\n",
       "서울특별시  (1100000000)  9736962  4345877  서울\n",
       "부산광역시  (2600000000)  3410925  1502333  부산\n",
       "대구광역시  (2700000000)  2432883  1033349  대구\n",
       "인천광역시  (2800000000)  2954955  1242107  인천\n",
       "광주광역시  (2900000000)  1456121   618503  광수\n",
       "대전광역시  (3000000000)  1473125   637726  대전\n",
       "울산광역시  (3100000000)  1145710   469551  울산"
      ]
     },
     "execution_count": 37,
     "metadata": {},
     "output_type": "execute_result"
    }
   ],
   "source": [
    "df4['광역시']=['서울','부산','대구','인천','광수','대전','울산']\n",
    "df4"
   ]
  },
  {
   "cell_type": "code",
   "execution_count": 38,
   "metadata": {},
   "outputs": [
    {
     "data": {
      "text/html": [
       "<div>\n",
       "<style scoped>\n",
       "    .dataframe tbody tr th:only-of-type {\n",
       "        vertical-align: middle;\n",
       "    }\n",
       "\n",
       "    .dataframe tbody tr th {\n",
       "        vertical-align: top;\n",
       "    }\n",
       "\n",
       "    .dataframe thead th {\n",
       "        text-align: right;\n",
       "    }\n",
       "</style>\n",
       "<table border=\"1\" class=\"dataframe\">\n",
       "  <thead>\n",
       "    <tr style=\"text-align: right;\">\n",
       "      <th></th>\n",
       "      <th>총인구수</th>\n",
       "      <th>세대수</th>\n",
       "    </tr>\n",
       "    <tr>\n",
       "      <th>광역시</th>\n",
       "      <th></th>\n",
       "      <th></th>\n",
       "    </tr>\n",
       "  </thead>\n",
       "  <tbody>\n",
       "    <tr>\n",
       "      <th>서울</th>\n",
       "      <td>9736962</td>\n",
       "      <td>4345877</td>\n",
       "    </tr>\n",
       "    <tr>\n",
       "      <th>부산</th>\n",
       "      <td>3410925</td>\n",
       "      <td>1502333</td>\n",
       "    </tr>\n",
       "    <tr>\n",
       "      <th>대구</th>\n",
       "      <td>2432883</td>\n",
       "      <td>1033349</td>\n",
       "    </tr>\n",
       "    <tr>\n",
       "      <th>인천</th>\n",
       "      <td>2954955</td>\n",
       "      <td>1242107</td>\n",
       "    </tr>\n",
       "    <tr>\n",
       "      <th>광수</th>\n",
       "      <td>1456121</td>\n",
       "      <td>618503</td>\n",
       "    </tr>\n",
       "    <tr>\n",
       "      <th>대전</th>\n",
       "      <td>1473125</td>\n",
       "      <td>637726</td>\n",
       "    </tr>\n",
       "    <tr>\n",
       "      <th>울산</th>\n",
       "      <td>1145710</td>\n",
       "      <td>469551</td>\n",
       "    </tr>\n",
       "  </tbody>\n",
       "</table>\n",
       "</div>"
      ],
      "text/plain": [
       "        총인구수      세대수\n",
       "광역시                  \n",
       "서울   9736962  4345877\n",
       "부산   3410925  1502333\n",
       "대구   2432883  1033349\n",
       "인천   2954955  1242107\n",
       "광수   1456121   618503\n",
       "대전   1473125   637726\n",
       "울산   1145710   469551"
      ]
     },
     "execution_count": 38,
     "metadata": {},
     "output_type": "execute_result"
    }
   ],
   "source": [
    "df4 = df4.set_index('광역시')\n",
    "df4"
   ]
  },
  {
   "cell_type": "code",
   "execution_count": 39,
   "metadata": {},
   "outputs": [
    {
     "data": {
      "image/png": "[encoded data removed]",
      "text/plain": [
       "<Figure size 432x288 with 1 Axes>"
      ]
     },
     "metadata": {
      "needs_background": "light"
     },
     "output_type": "display_data"
    }
   ],
   "source": [
    "df4.plot.bar()\n",
    "plt.show()"
   ]
  },
  {
   "cell_type": "code",
   "execution_count": 40,
   "metadata": {},
   "outputs": [
    {
     "data": {
      "image/png": "[encoded data removed]",
      "text/plain": [
       "<Figure size 432x288 with 1 Axes>"
      ]
     },
     "metadata": {
      "needs_background": "light"
     },
     "output_type": "display_data"
    }
   ],
   "source": [
    "df4.plot(kind='barh')\n",
    "plt.show()"
   ]
  },
  {
   "cell_type": "code",
   "execution_count": null,
   "metadata": {},
   "outputs": [],
   "source": []
  },
  {
   "cell_type": "code",
   "execution_count": null,
   "metadata": {},
   "outputs": [],
   "source": []
  },
  {
   "cell_type": "code",
   "execution_count": null,
   "metadata": {},
   "outputs": [],
   "source": []
  },
  {
   "cell_type": "code",
   "execution_count": null,
   "metadata": {},
   "outputs": [],
   "source": []
  },
  {
   "cell_type": "code",
   "execution_count": null,
   "metadata": {},
   "outputs": [],
   "source": []
  },
  {
   "cell_type": "code",
   "execution_count": null,
   "metadata": {},
   "outputs": [],
   "source": []
  },
  {
   "cell_type": "code",
   "execution_count": null,
   "metadata": {},
   "outputs": [],
   "source": []
  },
  {
   "cell_type": "code",
   "execution_count": null,
   "metadata": {},
   "outputs": [],
   "source": []
  },
  {
   "cell_type": "code",
   "execution_count": null,
   "metadata": {},
   "outputs": [],
   "source": []
  }
 ],
 "metadata": {
  "kernelspec": {
   "display_name": "Python 3",
   "language": "python",
   "name": "python3"
  },
  "language_info": {
   "codemirror_mode": {
    "name": "ipython",
    "version": 3
   },
   "file_extension": ".py",
   "mimetype": "text/x-python",
   "name": "python",
   "nbconvert_exporter": "python",
   "pygments_lexer": "ipython3",
   "version": "3.7.6"
  }
 },
 "nbformat": 4,
 "nbformat_minor": 4
}
