{
 "cells": [
  {
   "cell_type": "code",
   "execution_count": 1,
   "metadata": {},
   "outputs": [
    {
     "name": "stdout",
     "output_type": "stream",
     "text": [
      "안녕하세요. 0\n",
      "안녕하세요. 1\n",
      "안녕하세요. 2\n",
      "안녕하세요. 3\n",
      "안녕하세요. 4\n"
     ]
    }
   ],
   "source": [
    "# ex 4-1\n",
    "for x in range(5):\n",
    "    print('안녕하세요.',x)"
   ]
  },
  {
   "cell_type": "code",
   "execution_count": 4,
   "metadata": {},
   "outputs": [
    {
     "name": "stdout",
     "output_type": "stream",
     "text": [
      "안녕하세요.\n",
      "안녕하세요.\n",
      "안녕하세요.\n",
      "안녕하세요.\n",
      "안녕하세요.\n"
     ]
    }
   ],
   "source": [
    "x=0\n",
    "while x<5 :\n",
    "    print('안녕하세요.')\n",
    "    x+=1"
   ]
  },
  {
   "cell_type": "code",
   "execution_count": 5,
   "metadata": {},
   "outputs": [
    {
     "name": "stdout",
     "output_type": "stream",
     "text": [
      "안녕하세요. 0\n",
      "안녕하세요. 1\n",
      "안녕하세요. 2\n",
      "안녕하세요. 3\n",
      "안녕하세요. 4\n"
     ]
    }
   ],
   "source": [
    "x=0\n",
    "while x<5 :\n",
    "    print('안녕하세요.',x)\n",
    "    x+=1"
   ]
  },
  {
   "cell_type": "code",
   "execution_count": 7,
   "metadata": {},
   "outputs": [
    {
     "name": "stdout",
     "output_type": "stream",
     "text": [
      "11\n",
      "10\n",
      "9\n",
      "8\n",
      "7\n",
      "6\n",
      "5\n",
      "4\n",
      "3\n",
      "2\n"
     ]
    }
   ],
   "source": [
    "# ex4-3\n",
    "for i in range(11, 1,  -1) :\n",
    "    print(i)"
   ]
  },
  {
   "cell_type": "code",
   "execution_count": 12,
   "metadata": {},
   "outputs": [
    {
     "name": "stdout",
     "output_type": "stream",
     "text": [
      "55\n"
     ]
    }
   ],
   "source": [
    "# ex4-3\n",
    "# sum = 1 + 2 + ... + 10\n",
    "sum = 0\n",
    "for i in range(1,11):\n",
    "    sum +=i\n",
    "print(sum)"
   ]
  },
  {
   "cell_type": "code",
   "execution_count": 16,
   "metadata": {},
   "outputs": [
    {
     "name": "stdout",
     "output_type": "stream",
     "text": [
      "0 1 2 3 4 5 6 7 8 9 \n",
      "1 2 3 4 5 6 7 8 9 10 \n",
      "1 3 5 7 9 \n",
      "20 18 16 14 12 10 8 6 4 2 "
     ]
    }
   ],
   "source": [
    "# ex 4-4\n",
    "for i in range(10):\n",
    "    print(i,end=' ')\n",
    "print()\n",
    "\n",
    "for i in range(1,11):\n",
    "    print(i,end=' ')\n",
    "print()\n",
    "\n",
    "for i in range(1,10,2):\n",
    "    print(i, end=' ')\n",
    "print()\n",
    "\n",
    "for i in range(20, 0, -2):\n",
    "    print(i, end=' ')"
   ]
  },
  {
   "cell_type": "code",
   "execution_count": 17,
   "metadata": {},
   "outputs": [
    {
     "name": "stdout",
     "output_type": "stream",
     "text": [
      "369121518212427303336394245485154576063666972757881848790939699\n",
      " --------------------------------------------------\n",
      "1~100에서 3의 배수의 합계 : 1683\n"
     ]
    }
   ],
   "source": [
    "# ex 4-5\n",
    "sum = 0\n",
    "for i in range(1,101):\n",
    "    if i%3 ==0 :\n",
    "        print('%d'%i,end='')\n",
    "        sum +=i\n",
    "        \n",
    "print('\\n','-'*50)\n",
    "print('1~100에서 3의 배수의 합계 : %d'%sum)"
   ]
  },
  {
   "cell_type": "code",
   "execution_count": 18,
   "metadata": {},
   "outputs": [
    {
     "name": "stdout",
     "output_type": "stream",
     "text": [
      "영어 문장을 입력하세요.hello\n",
      "h\n",
      "e\n",
      "l\n",
      "l\n",
      "o\n"
     ]
    }
   ],
   "source": [
    "#ex 4-6\n",
    "word = input('영어 문장을 입력하세요.')\n",
    "\n",
    "for x in word:\n",
    "    print(x)"
   ]
  },
  {
   "cell_type": "code",
   "execution_count": 28,
   "metadata": {},
   "outputs": [
    {
     "name": "stdout",
     "output_type": "stream",
     "text": [
      "------------------------------\n",
      "      섭씨    화씨\n",
      "------------------------------\n",
      "     -20    -4.0\n",
      "     -15     5.0\n",
      "     -10    14.0\n",
      "      -5    23.0\n",
      "       0    32.0\n",
      "       5    41.0\n",
      "      10    50.0\n",
      "      15    59.0\n",
      "      20    68.0\n",
      "      25    77.0\n",
      "      30    86.0\n",
      "------------------------------\n"
     ]
    }
   ],
   "source": [
    "#ex 4-7\n",
    "print('-'*30)\n",
    "print('      섭씨    화씨')\n",
    "print('-'*30)\n",
    "\n",
    "for c in range(-20,31,5) :\n",
    "    f = c*9.0/5.0 + 32.0\n",
    "    print('%8d  %6.1f'%(c,f))\n",
    "    \n",
    "print('-'*30)"
   ]
  },
  {
   "cell_type": "code",
   "execution_count": 31,
   "metadata": {},
   "outputs": [
    {
     "ename": "SyntaxError",
     "evalue": "invalid syntax (<ipython-input-31-4976397227f5>, line 12)",
     "output_type": "error",
     "traceback": [
      "\u001b[1;36m  File \u001b[1;32m\"<ipython-input-31-4976397227f5>\"\u001b[1;36m, line \u001b[1;32m12\u001b[0m\n\u001b[1;33m    print('%d에서 %d까지 5의 배수가 아닌 수의 합계 : %d', %(n1, n2, sum))\u001b[0m\n\u001b[1;37m                                            ^\u001b[0m\n\u001b[1;31mSyntaxError\u001b[0m\u001b[1;31m:\u001b[0m invalid syntax\n"
     ]
    }
   ],
   "source": [
    "# Q 4-1 5의 배수가 아닌 수의 합계 구하기\n",
    "\n",
    "n1 = int(input('시작 수를 입력하세요. : '))\n",
    "n2 = int(input('끝 수를 입력하세요. : '))\n",
    "\n",
    "sum = 0\n",
    "for i in range(n1, n2+1):\n",
    "    if i%5 != 0 :\n",
    "        sum +=i\n",
    "\n",
    "print('-'*50)\n",
    "print('%d에서 %d까지 5의 배수가 아닌 수의 합계 : %d', %(n1, n2, sum))"
   ]
  },
  {
   "cell_type": "code",
   "execution_count": 32,
   "metadata": {},
   "outputs": [],
   "source": [
    "# Q 4-2"
   ]
  },
  {
   "cell_type": "code",
   "execution_count": null,
   "metadata": {},
   "outputs": [],
   "source": [
    "# Q 4-3"
   ]
  },
  {
   "cell_type": "code",
   "execution_count": null,
   "metadata": {},
   "outputs": [],
   "source": [
    "# Q 4-4"
   ]
  },
  {
   "cell_type": "code",
   "execution_count": 33,
   "metadata": {},
   "outputs": [],
   "source": [
    "# Q 4-5"
   ]
  },
  {
   "cell_type": "code",
   "execution_count": 34,
   "metadata": {},
   "outputs": [],
   "source": [
    "# Q 4-6 홀수 개수 세기"
   ]
  },
  {
   "cell_type": "code",
   "execution_count": 35,
   "metadata": {},
   "outputs": [
    {
     "name": "stdout",
     "output_type": "stream",
     "text": [
      "2 x 1 = 2\n",
      "2 x 2 = 4\n",
      "2 x 3 = 6\n",
      "2 x 4 = 8\n",
      "2 x 5 = 10\n",
      "2 x 6 = 12\n",
      "2 x 7 = 14\n",
      "2 x 8 = 16\n",
      "2 x 9 = 18\n"
     ]
    }
   ],
   "source": [
    "# ex 4-8 2단 구구단표 만들기\n",
    "\n",
    "a=2\n",
    "\n",
    "for b in range(1,10):\n",
    "    c= a*b\n",
    "    print('%d x %d = %d'%(a,b,c))"
   ]
  },
  {
   "cell_type": "code",
   "execution_count": 38,
   "metadata": {},
   "outputs": [
    {
     "name": "stdout",
     "output_type": "stream",
     "text": [
      "--------------------------------------------------\n",
      "2 x 1 =  2\n",
      "2 x 2 =  4\n",
      "2 x 3 =  6\n",
      "2 x 4 =  8\n",
      "2 x 5 = 10\n",
      "2 x 6 = 12\n",
      "2 x 7 = 14\n",
      "2 x 8 = 16\n",
      "2 x 9 = 18\n",
      "--------------------------------------------------\n",
      "3 x 1 =  3\n",
      "3 x 2 =  6\n",
      "3 x 3 =  9\n",
      "3 x 4 = 12\n",
      "3 x 5 = 15\n",
      "3 x 6 = 18\n",
      "3 x 7 = 21\n",
      "3 x 8 = 24\n",
      "3 x 9 = 27\n",
      "--------------------------------------------------\n",
      "4 x 1 =  4\n",
      "4 x 2 =  8\n",
      "4 x 3 = 12\n",
      "4 x 4 = 16\n",
      "4 x 5 = 20\n",
      "4 x 6 = 24\n",
      "4 x 7 = 28\n",
      "4 x 8 = 32\n",
      "4 x 9 = 36\n",
      "--------------------------------------------------\n",
      "5 x 1 =  5\n",
      "5 x 2 = 10\n",
      "5 x 3 = 15\n",
      "5 x 4 = 20\n",
      "5 x 5 = 25\n",
      "5 x 6 = 30\n",
      "5 x 7 = 35\n",
      "5 x 8 = 40\n",
      "5 x 9 = 45\n",
      "--------------------------------------------------\n",
      "6 x 1 =  6\n",
      "6 x 2 = 12\n",
      "6 x 3 = 18\n",
      "6 x 4 = 24\n",
      "6 x 5 = 30\n",
      "6 x 6 = 36\n",
      "6 x 7 = 42\n",
      "6 x 8 = 48\n",
      "6 x 9 = 54\n",
      "--------------------------------------------------\n",
      "7 x 1 =  7\n",
      "7 x 2 = 14\n",
      "7 x 3 = 21\n",
      "7 x 4 = 28\n",
      "7 x 5 = 35\n",
      "7 x 6 = 42\n",
      "7 x 7 = 49\n",
      "7 x 8 = 56\n",
      "7 x 9 = 63\n",
      "--------------------------------------------------\n",
      "8 x 1 =  8\n",
      "8 x 2 = 16\n",
      "8 x 3 = 24\n",
      "8 x 4 = 32\n",
      "8 x 5 = 40\n",
      "8 x 6 = 48\n",
      "8 x 7 = 56\n",
      "8 x 8 = 64\n",
      "8 x 9 = 72\n",
      "--------------------------------------------------\n",
      "9 x 1 =  9\n",
      "9 x 2 = 18\n",
      "9 x 3 = 27\n",
      "9 x 4 = 36\n",
      "9 x 5 = 45\n",
      "9 x 6 = 54\n",
      "9 x 7 = 63\n",
      "9 x 8 = 72\n",
      "9 x 9 = 81\n",
      "--------------------------------------------------\n"
     ]
    }
   ],
   "source": [
    "# ex 4-9 전체 구구단표 만들기\n",
    "\n",
    "print('-'*50)\n",
    "\n",
    "for i in range(2,10):\n",
    "    for k in range(1,10):\n",
    "        print('%d x %d = %2d'%(i,k,i*k))\n",
    "    print('-'*50)"
   ]
  },
  {
   "cell_type": "code",
   "execution_count": 41,
   "metadata": {},
   "outputs": [
    {
     "name": "stdout",
     "output_type": "stream",
     "text": [
      "*\n",
      "**\n",
      "***\n",
      "****\n",
      "*****\n",
      "******\n",
      "*******\n",
      "********\n",
      "*********\n",
      "**********\n"
     ]
    }
   ],
   "source": [
    "#Q 4-7 q별표로 특정 형태 만들기\n",
    "\n",
    "for i in range(1,11):\n",
    "    for j in range(1,i+1) :\n",
    "        print('*',end='')\n",
    "    print()"
   ]
  },
  {
   "cell_type": "code",
   "execution_count": 48,
   "metadata": {},
   "outputs": [
    {
     "name": "stdout",
     "output_type": "stream",
     "text": [
      "         *\n",
      "        **\n",
      "       ***\n",
      "      ****\n",
      "     *****\n",
      "    ******\n",
      "   *******\n",
      "  ********\n",
      " *********\n",
      "**********\n"
     ]
    }
   ],
   "source": [
    "#Q 4-8 별표로 특정 형태 만들기\n",
    "\n",
    "for i in range(1,11):\n",
    "    for k in range(1,11-i):\n",
    "        print(' ',end='')\n",
    "    for k in range(1,1+i):\n",
    "        print('*',end='')\n",
    "    print()"
   ]
  },
  {
   "cell_type": "code",
   "execution_count": 49,
   "metadata": {},
   "outputs": [],
   "source": [
    "# 다이아몬드\n",
    "\n",
    "num = int(input('제일 긴 값을 입력해 주세요.'))\n",
    "\n",
    "for i range"
   ]
  },
  {
   "cell_type": "code",
   "execution_count": 50,
   "metadata": {},
   "outputs": [
    {
     "name": "stdout",
     "output_type": "stream",
     "text": [
      "i의 값 : 1 => 합계 : 1\n",
      "i의 값 : 2 => 합계 : 2\n",
      "i의 값 : 3 => 합계 : 3\n",
      "i의 값 : 4 => 합계 : 4\n",
      "i의 값 : 5 => 합계 : 5\n",
      "i의 값 : 6 => 합계 : 6\n",
      "i의 값 : 7 => 합계 : 7\n",
      "i의 값 : 8 => 합계 : 8\n",
      "i의 값 : 9 => 합계 : 9\n",
      "i의 값 : 10 => 합계 : 10\n"
     ]
    }
   ],
   "source": [
    "# ex 4-10\n",
    "\n",
    "sum = 0\n",
    "i=1\n",
    "while i <= 10 :\n",
    "    sum =+i\n",
    "    print('i의 값 : %d => 합계 : %d'%(i,sum))\n",
    "    i+=1"
   ]
  },
  {
   "cell_type": "code",
   "execution_count": null,
   "metadata": {},
   "outputs": [],
   "source": [
    "# ex 4-11\n",
    "\n",
    "n1 = int(input('첫 수를 입력하세요. : '))\n",
    "n2 = int(input('끝 수를 입력하세요. : '))\n",
    "n = int(input('합계를 구하고자 하는 배수를 입력하세요. : '))\n",
    "\n",
    "sum = 0\n",
    "i = n1\n",
    "\n",
    "while i<n2+1 :\n",
    "    if i%n ==0 :\n",
    "        sum +=i\n",
    "    \n",
    "    i +=1\n",
    "\n",
    "print('%d~%d 까지의 정수 중 %d의 배수의 합계 : %d'%(n1,n2,n,sum))"
   ]
  },
  {
   "cell_type": "code",
   "execution_count": null,
   "metadata": {},
   "outputs": [],
   "source": [
    "# 1000보다는 작지만 가장 가까운 수는 몇까지 더한 값인가?\n",
    "\n",
    "sum = 0\n",
    "count = 1\n",
    "while True :\n",
    "    if sum > 1000 :\n",
    "        break\n",
    "    sum += count\n",
    "    count += 1\n",
    "print(sum-count, count)"
   ]
  },
  {
   "cell_type": "code",
   "execution_count": 5,
   "metadata": {},
   "outputs": [
    {
     "name": "stdout",
     "output_type": "stream",
     "text": [
      "i = 0 : \n",
      "i = 1 : 0 \n",
      "i = 2 : 0 1 \n",
      "i = 3 : 0 1 2 \n",
      "i = 4 : 0 1 2 3 \n"
     ]
    }
   ],
   "source": [
    "# 중첩에서 break\n",
    "for i in range(5):\n",
    "    print('i =', i,':', end=' ')\n",
    "    for k in range(5):\n",
    "        if k == i:\n",
    "            break;\n",
    "        print(k, end= ' ')\n",
    "    print()"
   ]
  },
  {
   "cell_type": "code",
   "execution_count": null,
   "metadata": {},
   "outputs": [],
   "source": []
  }
 ],
 "metadata": {
  "kernelspec": {
   "display_name": "Python 3",
   "language": "python",
   "name": "python3"
  },
  "language_info": {
   "codemirror_mode": {
    "name": "ipython",
    "version": 3
   },
   "file_extension": ".py",
   "mimetype": "text/x-python",
   "name": "python",
   "nbconvert_exporter": "python",
   "pygments_lexer": "ipython3",
   "version": "3.7.6"
  }
 },
 "nbformat": 4,
 "nbformat_minor": 4
}
