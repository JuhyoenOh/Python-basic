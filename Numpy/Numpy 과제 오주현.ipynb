{
 "cells": [
  {
   "cell_type": "markdown",
   "metadata": {},
   "source": [
    "# Numpy"
   ]
  },
  {
   "cell_type": "code",
   "execution_count": 1,
   "metadata": {},
   "outputs": [
    {
     "ename": "SyntaxError",
     "evalue": "invalid syntax (<ipython-input-1-4a4214a4b2c6>, line 1)",
     "output_type": "error",
     "traceback": [
      "\u001b[1;36m  File \u001b[1;32m\"<ipython-input-1-4a4214a4b2c6>\"\u001b[1;36m, line \u001b[1;32m1\u001b[0m\n\u001b[1;33m    1. 길이가 10인 0-벡터를 만드세요.\u001b[0m\n\u001b[1;37m         ^\u001b[0m\n\u001b[1;31mSyntaxError\u001b[0m\u001b[1;31m:\u001b[0m invalid syntax\n"
     ]
    }
   ],
   "source": [
    "1. 길이가 10인 0-벡터를 만드세요.\n",
    "\n",
    "2. 길이가 10이며 다섯번째 원소만 1이고 나머지 원소는 모두 0인\n",
    "   벡터를 만드세요.\n",
    "\n",
    "3. 10 부터 49까지의 값을 가지는 벡터를 만드세요.\n",
    "\n",
    "4. 위(3번) 벡터의 순서를 바꾸세요.\n",
    "\n",
    "5. 0부터 8까지의 값을 가지는 3x3 행렬을 만드세요.\n",
    "\n",
    "6. 벡터 [1,2,0,0,4,0] 에서 원소의 값이 0이 아닌 원소만 선택한 벡터를\n",
    "   만드세요.\n",
    "\n",
    "7. 3x3 단위 행렬(identity matrix)을 만드세요\n",
    "\n",
    "8. 난수 원소를 가지는 3x3 행렬을 만드세요\n",
    "\n",
    "9. 위(8번)에서 만든 난수 행렬에서 최대값/최소값 원소를 찾으세요.\n",
    "\n",
    "10. 위(8번)에서 만든 난수 행렬에서 행 평균, 열 평균을 계산하세요."
   ]
  },
  {
   "cell_type": "code",
   "execution_count": 11,
   "metadata": {},
   "outputs": [
    {
     "data": {
      "text/plain": [
       "array([0, 0, 0, 0, 0, 0, 0, 0, 0, 0], dtype=int8)"
      ]
     },
     "execution_count": 11,
     "metadata": {},
     "output_type": "execute_result"
    }
   ],
   "source": [
    "#1. 길이가 10인 0-벡터를 만드세요.\n",
    "\n",
    "import numpy as np\n",
    "\n",
    "np.zeros(shape=(10,),dtype=np.int8)\n",
    "\n"
   ]
  },
  {
   "cell_type": "code",
   "execution_count": 16,
   "metadata": {},
   "outputs": [
    {
     "data": {
      "text/plain": [
       "array([[0., 0., 0., 0., 1., 0., 0., 0., 0., 0.]])"
      ]
     },
     "execution_count": 16,
     "metadata": {},
     "output_type": "execute_result"
    }
   ],
   "source": [
    "#2. 길이가 10이며 다섯번째 원소만 1이고 나머지 원소는 모두 0인 벡터를 만드세요.\n",
    " \n",
    "np.eye(1,10,k=4)\n"
   ]
  },
  {
   "cell_type": "code",
   "execution_count": 18,
   "metadata": {},
   "outputs": [
    {
     "data": {
      "text/plain": [
       "array([10, 11, 12, 13, 14, 15, 16, 17, 18, 19, 20, 21, 22, 23, 24, 25, 26,\n",
       "       27, 28, 29, 30, 31, 32, 33, 34, 35, 36, 37, 38, 39, 40, 41, 42, 43,\n",
       "       44, 45, 46, 47, 48, 49])"
      ]
     },
     "execution_count": 18,
     "metadata": {},
     "output_type": "execute_result"
    }
   ],
   "source": [
    "# 3. 10 부터 49까지의 값을 가지는 벡터를 만드세요.\n",
    "\n",
    "np.arange(10,50,1)"
   ]
  },
  {
   "cell_type": "code",
   "execution_count": 40,
   "metadata": {},
   "outputs": [
    {
     "data": {
      "text/plain": [
       "array([49, 48, 47, 46, 45, 44, 43, 42, 41, 40, 39, 38, 37, 36, 35, 34, 33,\n",
       "       32, 31, 30, 29, 28, 27, 26, 25, 24, 23, 22, 21, 20, 19, 18, 17, 16,\n",
       "       15, 14, 13, 12, 11, 10])"
      ]
     },
     "execution_count": 40,
     "metadata": {},
     "output_type": "execute_result"
    }
   ],
   "source": [
    "# 4. 위(3번) 벡터의 순서를 바꾸세요.\n",
    "\n",
    "a = np.arange(10,50,1)\n",
    "np.sort(a)[::-1]\n"
   ]
  },
  {
   "cell_type": "code",
   "execution_count": 41,
   "metadata": {},
   "outputs": [
    {
     "data": {
      "text/plain": [
       "array([[0, 1, 2],\n",
       "       [3, 4, 5],\n",
       "       [6, 7, 8]])"
      ]
     },
     "execution_count": 41,
     "metadata": {},
     "output_type": "execute_result"
    }
   ],
   "source": [
    "#5. 0부터 8까지의 값을 가지는 3x3 행렬을 만드세요.\n",
    "\n",
    "matrix = [[0,1,2],[3,4,5],[6,7,8]]\n",
    "np.array(matrix, int)"
   ]
  },
  {
   "cell_type": "code",
   "execution_count": 50,
   "metadata": {},
   "outputs": [
    {
     "data": {
      "text/plain": [
       "array([1, 2, 4])"
      ]
     },
     "execution_count": 50,
     "metadata": {},
     "output_type": "execute_result"
    }
   ],
   "source": [
    "##6. 벡터 [1,2,0,0,4,0] 에서 원소의 값이 0이 아닌 원소만 선택한 벡터를 만드세요.\n",
    "\n",
    "vector = [1,2,0,0,4,0]\n",
    "a = np.array(vector)\n",
    "b = a>0\n",
    "a[b]"
   ]
  },
  {
   "cell_type": "code",
   "execution_count": 51,
   "metadata": {},
   "outputs": [
    {
     "data": {
      "text/plain": [
       "array([[1., 0., 0.],\n",
       "       [0., 1., 0.],\n",
       "       [0., 0., 1.]])"
      ]
     },
     "execution_count": 51,
     "metadata": {},
     "output_type": "execute_result"
    }
   ],
   "source": [
    "### 7. 3x3 단위 행렬(identity matrix)을 만드세요.\n",
    "\n",
    "np.identity(3)\n"
   ]
  },
  {
   "cell_type": "code",
   "execution_count": 26,
   "metadata": {},
   "outputs": [
    {
     "data": {
      "text/plain": [
       "array([[2, 1, 6],\n",
       "       [1, 1, 5],\n",
       "       [7, 9, 3]])"
      ]
     },
     "execution_count": 26,
     "metadata": {},
     "output_type": "execute_result"
    }
   ],
   "source": [
    "## 8. 난수 원소를 가지는 3x3 행렬을 만드세요.\n",
    "import numpy as np\n",
    "np.random.seed(604)\n",
    "a = np.random.uniform(0,10,9).reshape(3,3)\n",
    "b = np.array(a,int)\n",
    "b"
   ]
  },
  {
   "cell_type": "code",
   "execution_count": 31,
   "metadata": {},
   "outputs": [
    {
     "data": {
      "text/plain": [
       "(9.709985452208038, 7)"
      ]
     },
     "execution_count": 31,
     "metadata": {},
     "output_type": "execute_result"
    }
   ],
   "source": [
    "## 9. 위(8번)에서 만든 난수 행렬에서 최대값/최소값 원소를 찾으세요.\n",
    "\n",
    "a[np.argmax(a)//3, np.argmax(a)%3],np.argmax(a)"
   ]
  },
  {
   "cell_type": "code",
   "execution_count": 32,
   "metadata": {},
   "outputs": [
    {
     "data": {
      "text/plain": [
       "(1.0216826983588667, 4)"
      ]
     },
     "execution_count": 32,
     "metadata": {},
     "output_type": "execute_result"
    }
   ],
   "source": [
    "a[np.argmin(a)//3, np.argmin(a)%3],np.argmin(a)"
   ]
  },
  {
   "cell_type": "code",
   "execution_count": 33,
   "metadata": {},
   "outputs": [
    {
     "name": "stdout",
     "output_type": "stream",
     "text": [
      "열의평균 : [3.33333333 3.66666667 4.66666667]\n",
      "행의평균 : [3.         2.33333333 6.33333333]\n"
     ]
    }
   ],
   "source": [
    "## 10. 위(8번)에서 만든 난수 행렬에서 행 평균, 열 평균을 계산하세요.\n",
    "\n",
    "print('열의평균 : %s'%b.mean(axis=0))\n",
    "print('행의평균 : %s'%b.mean(axis=1))"
   ]
  },
  {
   "cell_type": "code",
   "execution_count": null,
   "metadata": {},
   "outputs": [],
   "source": []
  },
  {
   "cell_type": "code",
   "execution_count": null,
   "metadata": {},
   "outputs": [],
   "source": []
  }
 ],
 "metadata": {
  "kernelspec": {
   "display_name": "Python 3",
   "language": "python",
   "name": "python3"
  },
  "language_info": {
   "codemirror_mode": {
    "name": "ipython",
    "version": 3
   },
   "file_extension": ".py",
   "mimetype": "text/x-python",
   "name": "python",
   "nbconvert_exporter": "python",
   "pygments_lexer": "ipython3",
   "version": "3.7.6"
  }
 },
 "nbformat": 4,
 "nbformat_minor": 4
}
