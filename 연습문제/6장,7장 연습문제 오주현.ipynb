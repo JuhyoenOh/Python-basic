{
 "cells": [
  {
   "cell_type": "markdown",
   "metadata": {},
   "source": [
    "# 6장 연습문제"
   ]
  },
  {
   "cell_type": "code",
   "execution_count": 2,
   "metadata": {},
   "outputs": [
    {
     "name": "stdout",
     "output_type": "stream",
     "text": [
      "아이디 : kim99, 마일리지 : 12000 점\n",
      "아이디 : lee66, 마일리지 : 11000 점\n",
      "아이디 : han55, 마일리지 : 3000 점\n",
      "아이디 : hong77, 마일리지 : 5000 점\n",
      "아이디 : hwang33, 마일리지 : 18000 점\n"
     ]
    }
   ],
   "source": [
    "# 연습문제 1\n",
    "\n",
    "shopping = dict(kim99=12000, lee66=11000, han55=3000, hong77=5000, hwang33=18000)\n",
    "for i in shopping:\n",
    "    print('아이디 : %s, 마일리지 : %d 점'%(i,shopping[i]))"
   ]
  },
  {
   "cell_type": "code",
   "execution_count": 3,
   "metadata": {},
   "outputs": [
    {
     "name": "stdout",
     "output_type": "stream",
     "text": [
      "han55 님의 마일리지가 5000점으로 수정되었습니다.\n"
     ]
    }
   ],
   "source": [
    "# 연습문제 2\n",
    "shopping = dict(kim99=12000, lee66=11000, han55=3000, hong77=5000, hwang33=18000)\n",
    "\n",
    "\n",
    "shopping.update(han55=5000)\n",
    "\n",
    "\n",
    "for i in shopping :\n",
    "    if i == 'han55' :\n",
    "        print('%s 님의 마일리지가 %d점으로 수정되었습니다.'%(i,shopping[i])) "
   ]
  },
  {
   "cell_type": "code",
   "execution_count": 4,
   "metadata": {},
   "outputs": [
    {
     "name": "stdout",
     "output_type": "stream",
     "text": [
      "{'kim99': 12000, 'lee66': 11000, 'han55': 3000, 'hong77': 5000, 'hwang33': 18000, 'jang88': 7000}\n",
      "jang88 님의 마일리지가 (7000점)가 추가되었습니다.\n"
     ]
    }
   ],
   "source": [
    "# 연습문제 3\n",
    "shopping = dict(kim99=12000, lee66=11000, han55=3000, hong77=5000, hwang33=18000)\n",
    "\n",
    "shopping['jang88']=7000\n",
    "#shopping.setdefault(jang88,7000)\n",
    "\n",
    "print(shopping)\n",
    "\n",
    "for i in shopping :\n",
    "    if i == 'jang88' :\n",
    "        print('%s 님의 마일리지가 (%d점)가 추가되었습니다.'%(i,shopping[i])) "
   ]
  },
  {
   "cell_type": "code",
   "execution_count": 5,
   "metadata": {},
   "outputs": [
    {
     "name": "stdout",
     "output_type": "stream",
     "text": [
      "hwang33 님의 18000점이 가장 높은 점수입니다.\n"
     ]
    }
   ],
   "source": [
    "# 연습문제 4\n",
    "shopping = dict(kim99=12000, lee66=11000, han55=3000, hong77=5000, hwang33=18000)\n",
    "\n",
    "b=shopping['hong77']#12000\n",
    "\n",
    "for i in shopping:\n",
    "    if shopping[i]>b :\n",
    "        b=shopping[i]\n",
    "print('%s 님의 %d점이 가장 높은 점수입니다.'%(i,shopping[i]))   "
   ]
  },
  {
   "cell_type": "code",
   "execution_count": 6,
   "metadata": {},
   "outputs": [
    {
     "name": "stdout",
     "output_type": "stream",
     "text": [
      "----------------------------------------\n",
      "월    화    수    목    금    토    일    \n",
      "----------------------------------------\n",
      "25.5  28.3  33.2  32.1  17.3  35.3  33.3  \n",
      "----------------------------------------\n"
     ]
    }
   ],
   "source": [
    "# 연습문제 5\n",
    "\n",
    "temp = dict(월=25.5 ,화=28.3 ,수=33.2 ,목=32.1 ,금=17.3 ,토=35.3 ,일=33.3)\n",
    "print('-'*40)\n",
    "\n",
    "for i in temp :\n",
    "    print(i,end='    ')\n",
    "print()\n",
    "print('-'*40)\n",
    "for i in temp :\n",
    "    print(temp[i],end='  ')\n",
    "print()\n",
    "print('-'*40)"
   ]
  },
  {
   "cell_type": "code",
   "execution_count": 7,
   "metadata": {},
   "outputs": [
    {
     "name": "stdout",
     "output_type": "stream",
     "text": [
      "가장 낮은 기온 : 17.3\n"
     ]
    }
   ],
   "source": [
    "# 연습문제 6\n",
    "l = temp['월'] # 25.5\n",
    "for i in temp :\n",
    "    if temp[i]<l:\n",
    "        print('가장 낮은 기온 : %.1f'%temp[i])"
   ]
  },
  {
   "cell_type": "code",
   "execution_count": 8,
   "metadata": {},
   "outputs": [
    {
     "name": "stdout",
     "output_type": "stream",
     "text": [
      "기온이 30도 이상인 요일 : 수 목 토 일 "
     ]
    }
   ],
   "source": [
    "# 연습문제 7\n",
    "F = 30\n",
    "G = []\n",
    "\n",
    "for i in temp:\n",
    "    if temp[i]>F:\n",
    "        G.append(i)\n",
    "print('기온이 30도 이상인 요일 : ', end = '')\n",
    "for i in range(len(G)):\n",
    "    print(G[i], end=' ')"
   ]
  },
  {
   "cell_type": "code",
   "execution_count": 9,
   "metadata": {},
   "outputs": [
    {
     "name": "stdout",
     "output_type": "stream",
     "text": [
      "일주일간 기온의 평균 : 29.3\n"
     ]
    }
   ],
   "source": [
    "# 연습문제 8\n",
    "sum=0\n",
    "\n",
    "for i in temp:\n",
    "    temp[i]\n",
    "    sum+=temp[i]\n",
    "\n",
    "avg= sum/len(temp)\n",
    "\n",
    "print('일주일간 기온의 평균 : %.1f'%avg)"
   ]
  },
  {
   "cell_type": "markdown",
   "metadata": {},
   "source": [
    "# 7장 연습문제"
   ]
  },
  {
   "cell_type": "code",
   "execution_count": 10,
   "metadata": {},
   "outputs": [
    {
     "name": "stdout",
     "output_type": "stream",
     "text": [
      "2010\n"
     ]
    }
   ],
   "source": [
    "# 연습문제 1\n",
    "\n",
    "def f1(a):\n",
    "    a+=10\n",
    "    print(a,end='')\n",
    "    \n",
    "a = 10\n",
    "f1(a)\n",
    "print(a)"
   ]
  },
  {
   "cell_type": "code",
   "execution_count": 12,
   "metadata": {},
   "outputs": [
    {
     "name": "stdout",
     "output_type": "stream",
     "text": [
      "300100300\n"
     ]
    }
   ],
   "source": [
    "# 연습문제 2\n",
    "def f2(a) :\n",
    "    global y\n",
    "    y+=a\n",
    "    x=500\n",
    "    print(y,end='')\n",
    "    \n",
    "x= 100\n",
    "y= 200\n",
    "f2(x)\n",
    "print(x,end='')\n",
    "print(y)"
   ]
  },
  {
   "cell_type": "code",
   "execution_count": 14,
   "metadata": {},
   "outputs": [
    {
     "name": "stdout",
     "output_type": "stream",
     "text": [
      "N값을 입력해 주세요 : 20\n",
      "2~20까지의 정수 중 소수 : 2 3 5 7 11 13 17 19 "
     ]
    }
   ],
   "source": [
    "# 연습문제 3\n",
    "\n",
    "def num(n):\n",
    "    result=[]\n",
    "    for i in range(2,n+1):\n",
    "        S = True\n",
    "        for k in range(2,i):\n",
    "            if i%k==0:\n",
    "                S = False\n",
    "                break\n",
    "        if (S) :\n",
    "            result.append(i)\n",
    "    return result\n",
    "\n",
    "\n",
    "n = int(input('N값을 입력해 주세요 : '))\n",
    "a = num(n)\n",
    "print('2~20까지의 정수 중 소수 : ',end = '')\n",
    "for j in range(len(a)) :\n",
    "    print(a[j],end=' ')\n",
    "                \n",
    "    \n",
    "    \n",
    "    \n",
    "\n",
    "\n",
    "\n",
    "\n"
   ]
  },
  {
   "cell_type": "code",
   "execution_count": 22,
   "metadata": {},
   "outputs": [
    {
     "name": "stdout",
     "output_type": "stream",
     "text": [
      "문자열을 입력하세요.adsg\n"
     ]
    },
    {
     "ename": "AttributeError",
     "evalue": "'str' object has no attribute 'sort'",
     "output_type": "error",
     "traceback": [
      "\u001b[1;31m---------------------------------------------------------------------------\u001b[0m",
      "\u001b[1;31mAttributeError\u001b[0m                            Traceback (most recent call last)",
      "\u001b[1;32m<ipython-input-22-46cf4d7c9090>\u001b[0m in \u001b[0;36m<module>\u001b[1;34m\u001b[0m\n\u001b[0;32m      6\u001b[0m \u001b[1;33m\u001b[0m\u001b[0m\n\u001b[0;32m      7\u001b[0m \u001b[0mt\u001b[0m\u001b[1;33m=\u001b[0m\u001b[0minput\u001b[0m\u001b[1;33m(\u001b[0m\u001b[1;34m'문자열을 입력하세요.'\u001b[0m\u001b[1;33m)\u001b[0m\u001b[1;33m\u001b[0m\u001b[1;33m\u001b[0m\u001b[0m\n\u001b[1;32m----> 8\u001b[1;33m \u001b[0me\u001b[0m\u001b[1;33m=\u001b[0m\u001b[0meng\u001b[0m\u001b[1;33m(\u001b[0m\u001b[0mt\u001b[0m\u001b[1;33m)\u001b[0m\u001b[1;33m\u001b[0m\u001b[1;33m\u001b[0m\u001b[0m\n\u001b[0m\u001b[0;32m      9\u001b[0m \u001b[0mprint\u001b[0m\u001b[1;33m(\u001b[0m\u001b[0me\u001b[0m\u001b[1;33m)\u001b[0m\u001b[1;33m\u001b[0m\u001b[1;33m\u001b[0m\u001b[0m\n",
      "\u001b[1;32m<ipython-input-22-46cf4d7c9090>\u001b[0m in \u001b[0;36meng\u001b[1;34m(t)\u001b[0m\n\u001b[0;32m      1\u001b[0m \u001b[1;31m# 연습문제 4\u001b[0m\u001b[1;33m\u001b[0m\u001b[1;33m\u001b[0m\u001b[1;33m\u001b[0m\u001b[0m\n\u001b[0;32m      2\u001b[0m \u001b[1;32mdef\u001b[0m \u001b[0meng\u001b[0m\u001b[1;33m(\u001b[0m\u001b[0mt\u001b[0m\u001b[1;33m)\u001b[0m\u001b[1;33m:\u001b[0m\u001b[1;33m\u001b[0m\u001b[1;33m\u001b[0m\u001b[0m\n\u001b[1;32m----> 3\u001b[1;33m     \u001b[0mt\u001b[0m\u001b[1;33m.\u001b[0m\u001b[0msort\u001b[0m\u001b[1;33m(\u001b[0m\u001b[0mreverse\u001b[0m\u001b[1;33m=\u001b[0m\u001b[1;32mTrue\u001b[0m\u001b[1;33m)\u001b[0m\u001b[1;33m\u001b[0m\u001b[1;33m\u001b[0m\u001b[0m\n\u001b[0m\u001b[0;32m      4\u001b[0m \u001b[1;33m\u001b[0m\u001b[0m\n\u001b[0;32m      5\u001b[0m \u001b[1;33m\u001b[0m\u001b[0m\n",
      "\u001b[1;31mAttributeError\u001b[0m: 'str' object has no attribute 'sort'"
     ]
    }
   ],
   "source": [
    "# 연습문제 4\n",
    "def back(s):\n",
    "    b_string =''\n",
    "    index = len(s)\n",
    "    while index>0:\n",
    "        b_string = b_string + s[index-1]\n",
    "        index = index-1\n",
    "    return b_string\n",
    "               \n",
    "sen = input('문자열을 입력하세요: ')\n",
    "back(sen)"
   ]
  },
  {
   "cell_type": "code",
   "execution_count": null,
   "metadata": {},
   "outputs": [],
   "source": [
    "# 연습문제 5"
   ]
  },
  {
   "cell_type": "code",
   "execution_count": null,
   "metadata": {},
   "outputs": [],
   "source": [
    "# 연습문제 6"
   ]
  },
  {
   "cell_type": "code",
   "execution_count": 35,
   "metadata": {},
   "outputs": [
    {
     "name": "stdout",
     "output_type": "stream",
     "text": [
      "※비밀번호는 10자리 이상,영문 대문자를 포함 하여야 합니다.\n",
      "비밀번호A123123123123\n",
      "비밀번호 확인A123123123123\n",
      "비밀번호가 잘못되었습니다! 다시 입력해 주세요.\n"
     ]
    }
   ],
   "source": [
    "# 연습문제 7\n",
    "print('※비밀번호는 10자리 이상,영문 대문자를 포함 하여야 합니다.')\n",
    "passwd = input('비밀번호')\n",
    "passwd_again = input('비밀번호 확인') \n",
    "\n",
    "\n",
    "if len(passwd)>10 and passwd>=A and passwd<=Z :\n",
    "            \n",
    "    if passwd == passwd_again :\n",
    "        print('유효한 비밀번호 입니다.')\n",
    "\n",
    "    else :\n",
    "        print('비밀번호와 비밀번호 확인이 서로 다릅니다! 다시 입력해 주세요.')  \n",
    "\n",
    "else :\n",
    "    print('비밀번호가 잘못되었습니다! 다시 입력해 주세요.')    \n",
    "\n",
    "            \n",
    "   \n"
   ]
  },
  {
   "cell_type": "code",
   "execution_count": 29,
   "metadata": {},
   "outputs": [],
   "source": [
    "# 연습문제 8"
   ]
  },
  {
   "cell_type": "code",
   "execution_count": null,
   "metadata": {},
   "outputs": [],
   "source": []
  },
  {
   "cell_type": "code",
   "execution_count": 27,
   "metadata": {},
   "outputs": [
    {
     "name": "stdout",
     "output_type": "stream",
     "text": [
      "비밀번호 확인afdasfd\n",
      "afdasfd\n"
     ]
    }
   ],
   "source": [
    "passwd_again = input('비밀번호 확인') \n",
    "def info1(num) :\n",
    "    passwd_again=[]\n",
    "    for i in passwd_again :\n",
    "    \n",
    "        passwd_again.append(i)\n",
    "        return passwd_again\n",
    "print(passwd_again)    "
   ]
  },
  {
   "cell_type": "code",
   "execution_count": null,
   "metadata": {},
   "outputs": [],
   "source": [
    "while True:\n",
    "    if val_pw(pw) and pw == c_pw : \n",
    "        msg='유효한 비밀번호입니다~~~'\n",
    "        print(msg)\n",
    "        break\n",
    "    else:\n",
    "        if val_pw(pw)==False :\n",
    "            msg='비밀번호가 잘못되었습니다! 다시 입력해 주세요'\n",
    "        else:\n",
    "            msg='비밀번호와 비밀번호 확인이 서로 다릅니다! 다시 입력해 주세요!'\n",
    "    print(msg)\n",
    "    \n",
    "    pw = input('비밀번호 : ')\n",
    "    c_pw = input('비밀번호 확인 : ')\n",
    "    "
   ]
  }
 ],
 "metadata": {
  "kernelspec": {
   "display_name": "Python 3",
   "language": "python",
   "name": "python3"
  },
  "language_info": {
   "codemirror_mode": {
    "name": "ipython",
    "version": 3
   },
   "file_extension": ".py",
   "mimetype": "text/x-python",
   "name": "python",
   "nbconvert_exporter": "python",
   "pygments_lexer": "ipython3",
   "version": "3.7.6"
  }
 },
 "nbformat": 4,
 "nbformat_minor": 4
}
