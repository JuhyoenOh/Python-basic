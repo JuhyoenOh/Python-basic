{
 "cells": [
  {
   "cell_type": "markdown",
   "metadata": {},
   "source": [
    "# 2장 연습문제"
   ]
  },
  {
   "cell_type": "code",
   "execution_count": null,
   "metadata": {},
   "outputs": [],
   "source": [
    "# 1\n",
    "# 숫자는 숫자로서 사칙연산을 할 수 있다.(예 10 +10 = 20)\n",
    "# 문자열은 문자로서 사칙연산시 더하기 경우 나열이 된다.(예 10+10 = 1010)"
   ]
  },
  {
   "cell_type": "code",
   "execution_count": 1,
   "metadata": {},
   "outputs": [
    {
     "name": "stdout",
     "output_type": "stream",
     "text": [
      "-72\n"
     ]
    }
   ],
   "source": [
    "#2\n",
    "a=7\n",
    "b=10\n",
    "\n",
    "c=a+b*2\n",
    "c%=5\n",
    "c**=3\n",
    "c-=c*10\n",
    "\n",
    "print(c)"
   ]
  },
  {
   "cell_type": "code",
   "execution_count": 23,
   "metadata": {},
   "outputs": [
    {
     "name": "stdout",
     "output_type": "stream",
     "text": [
      "반지름의 값을 입력 해주세요.10\n",
      "둘레 :62.80\n",
      "면적 :314.00\n"
     ]
    }
   ],
   "source": [
    "#3\n",
    "#원의 둘레 2파이 알 원의 면적  파이 알 제곱\n",
    "#반지름 10 둘레 62.8cm 면적 314.00cm^2\n",
    "r = int(input('반지름의 값을 입력 해주세요.'))\n",
    "파이 = 3.14\n",
    "둘레 = 2*파이*r\n",
    "print('둘레 :%.2f'%둘레)\n",
    "\n",
    "면적 = 파이*r**2\n",
    "print('면적 :%.2f'%면적)\n"
   ]
  },
  {
   "cell_type": "code",
   "execution_count": 20,
   "metadata": {},
   "outputs": [
    {
     "name": "stdout",
     "output_type": "stream",
     "text": [
      "책값을 입력해주세요.50000\n",
      "할인율을 입력해주세요.30\n",
      "배송료를 입력해주세요.2500\n",
      "결재 금액 : 37500.00 원\n"
     ]
    }
   ],
   "source": [
    "#4\n",
    "book_price = int(input('책값을 입력해주세요.'))\n",
    "discount = int(input('할인율을 입력해주세요.'))\n",
    "delivery = int(input('배송료를 입력해주세요.'))\n",
    "\n",
    "할인비용 = book_price*discount/100\n",
    "총비용 = book_price - 할인비용 + delivery\n",
    "\n",
    "print('결재 금액 : %.02f'%총비용,'원')"
   ]
  },
  {
   "cell_type": "code",
   "execution_count": 23,
   "metadata": {},
   "outputs": [
    {
     "name": "stdout",
     "output_type": "stream",
     "text": [
      "이름을 입력해주세요.오주현\n",
      "당해년도를 입력해주세요.2020\n",
      "출생년도를 입력해주세요.1991\n",
      "이름 : 오주현\n",
      "나이 : 30 세\n"
     ]
    }
   ],
   "source": [
    "#5\n",
    "name = input('이름을 입력해주세요.')\n",
    "now_year = int(input('당해년도를 입력해주세요.'))\n",
    "birth_year = int(input('출생년도를 입력해주세요.'))\n",
    "\n",
    "나이 = now_year-birth_year+1\n",
    "\n",
    "print('이름 : %s'%name)\n",
    "print('나이 : %s'%나이,'세')\n",
    "\n"
   ]
  },
  {
   "cell_type": "code",
   "execution_count": 32,
   "metadata": {},
   "outputs": [
    {
     "name": "stdout",
     "output_type": "stream",
     "text": [
      "연도를 입력해주세요.2020\n",
      "월을 입력해주세요.5\n",
      "일을 입력해주세요.28\n",
      "2020-05-28\n"
     ]
    }
   ],
   "source": [
    "#6\n",
    "year = int(input('연도를 입력해주세요.'))\n",
    "month = int(input('월을 입력해주세요.'))\n",
    "day = int(input('일을 입력해주세요.'))\n",
    "\n",
    "\n",
    "print(year,'%02d'%month,'%02d'%day, sep='-') \n",
    "# '%02d'은 숫자 2부분이 보여주는 자리수를 말해주고\n",
    "# 그 그 값보다 자리수가 적을 시에는 01,05등 으로 표현하고 그 이상의 자릿수를\n",
    "# 넣으면 적용되지 않는다."
   ]
  },
  {
   "cell_type": "markdown",
   "metadata": {},
   "source": [
    "# 3장 연습문제"
   ]
  },
  {
   "cell_type": "code",
   "execution_count": 35,
   "metadata": {},
   "outputs": [
    {
     "name": "stdout",
     "output_type": "stream",
     "text": [
      "a의 값을 입력해 주세요.1\n",
      "b의 값을 입력해 주세요.1\n",
      "c의 값을 입력해 주세요.7\n",
      "a가 2가 아닌가요? False\n",
      "b가 a보다 크거나 같나요? True\n",
      "c/2>a*3이 맞나요? True\n"
     ]
    }
   ],
   "source": [
    "#1\n",
    "a=int(input('a의 값을 입력해 주세요.'))\n",
    "b=int(input('b의 값을 입력해 주세요.'))\n",
    "c=int(input('c의 값을 입력해 주세요.'))\n",
    "\n",
    "if a!=1 :\n",
    "    print('a가 2가 아닌가요?','True')\n",
    "else :\n",
    "    print('a가 2가 아닌가요?','False')\n",
    "if b>=a :\n",
    "    print('b가 a보다 크거나 같나요?','True')\n",
    "else :\n",
    "    print('b가 a보다 크거나 같나요?','False')\n",
    "if c/2>a*3 :\n",
    "    print('c/2>a*3이 맞나요?','True')\n",
    "else :\n",
    "    print('c/2>a*3이 맞나요?','False')\n",
    "    "
   ]
  },
  {
   "cell_type": "code",
   "execution_count": 36,
   "metadata": {},
   "outputs": [
    {
     "name": "stdout",
     "output_type": "stream",
     "text": [
      "a의 값을 입력해 주세요.1\n",
      "b의 값을 입력해 주세요.1\n",
      "c의 값을 입력해 주세요.1\n",
      "1번 문제 :  False\n",
      "2번 문제 :  True\n"
     ]
    }
   ],
   "source": [
    "#2\n",
    "a=int(input('a의 값을 입력해 주세요.'))\n",
    "b=int(input('b의 값을 입력해 주세요.'))\n",
    "c=int(input('c의 값을 입력해 주세요.'))\n",
    "\n",
    "if a>2 or c>b and c>2 :\n",
    "    print('1번 문제 : ','True')\n",
    "else :\n",
    "    print('1번 문제 : ','False')\n",
    "if not(a>5 or b>c and c>=3) :\n",
    "    print('2번 문제 : ','True')\n",
    "else :\n",
    "    print('2번 문제 : ','False')\n"
   ]
  },
  {
   "cell_type": "code",
   "execution_count": 44,
   "metadata": {},
   "outputs": [
    {
     "name": "stdout",
     "output_type": "stream",
     "text": [
      "4\n"
     ]
    }
   ],
   "source": [
    "#3\n",
    "a=2\n",
    "z=a*5\n",
    "w=(z-3)*(a-2)/7+10\n",
    "\n",
    "if a>z or w>a :\n",
    "    y=2*a\n",
    "else :\n",
    "    y=4*a\n",
    "print(y)\n",
    "\n"
   ]
  },
  {
   "cell_type": "code",
   "execution_count": 9,
   "metadata": {},
   "outputs": [
    {
     "name": "stdout",
     "output_type": "stream",
     "text": [
      "1 : 섭씨>>화씨 , 2 : 화씨>>섭씨3\n",
      "온도를 입력하세요.80\n",
      "잘 못 입력 하셨습니다.\n"
     ]
    }
   ],
   "source": [
    "#4\n",
    "\n",
    "select = int(input('1 : 섭씨>>화씨 , 2 : 화씨>>섭씨'))\n",
    "온도 = int(input('온도를 입력하세요.'))\n",
    "\n",
    "if select == 1 :\n",
    "    화씨 = 온도*9/5+32\n",
    "    print('물의 화씨 온도 : %.02f'%화씨)\n",
    "    if 온도>0 and 온도<100 :\n",
    "        print('물의 상태 : 액체')\n",
    "    elif 온도<0 :\n",
    "        print('물의 상태 : 고체')\n",
    "    else :\n",
    "        print('물의 상태 : 기체')\n",
    "\n",
    "\n",
    "elif select == 2 :\n",
    "    섭씨 = (온도-32)*5/9\n",
    "    print('물의 섭씨 온도 : %.02f'%섭씨)\n",
    "    if 섭씨>0 and 섭씨<100 :\n",
    "        print('물의 상태 : 액체')\n",
    "    elif 섭씨<0 :\n",
    "        print('물의 상태 : 고체')\n",
    "    else :\n",
    "        print('물의 상태 : 기체')\n",
    "\n",
    "else :\n",
    "    print('잘 못 입력 하셨습니다.')\n",
    "\n",
    "\n",
    "\n",
    "\n"
   ]
  },
  {
   "cell_type": "code",
   "execution_count": 19,
   "metadata": {},
   "outputs": [
    {
     "name": "stdout",
     "output_type": "stream",
     "text": [
      "ID를 입력 해주세요.kkk\n",
      "회원 레벨을 입력 해주세요.4\n",
      "일부 콘텐츠 이용 가능\n"
     ]
    }
   ],
   "source": [
    "#5\n",
    "ID = input('ID를 입력 해주세요.')\n",
    "\n",
    "if ID == 'admin' :    # 아이디를 입력 받을 때 스트링으로 받으므로 스트링을 식별하기 위해선\n",
    "                      # 아이디를 판별하는 곳도 문자열로 받아야 한다.\n",
    "    print('모든 콘텐츠 이용 가능')\n",
    "else :\n",
    "    level = int(input('회원 레벨을 입력 해주세요.'))\n",
    "    if level>2 and level<7 :\n",
    "        print('일부 콘텐츠 이용 가능')\n",
    "    else :\n",
    "        print('콘텐츠 이용 불가')"
   ]
  },
  {
   "cell_type": "code",
   "execution_count": 21,
   "metadata": {},
   "outputs": [
    {
     "name": "stdout",
     "output_type": "stream",
     "text": [
      "나이를 입력 해주세요.6\n",
      "입장료는 1000원 입니다.\n"
     ]
    }
   ],
   "source": [
    "#6\n",
    "나이 = int(input('나이를 입력 해주세요.'))\n",
    "\n",
    "if 나이>65 :\n",
    "    print('입장료는 0원 입니다.')\n",
    "elif 나이<10 :\n",
    "    print('입장료는 1000원 입니다.')\n",
    "else :\n",
    "    print('입장료는 2000원 입니다.')"
   ]
  },
  {
   "cell_type": "code",
   "execution_count": 22,
   "metadata": {},
   "outputs": [
    {
     "name": "stdout",
     "output_type": "stream",
     "text": [
      "영어점수를 입력 해주세요.85\n",
      "수학점수를 입력 해주세요.75\n",
      "재시험 기회제공\n"
     ]
    }
   ],
   "source": [
    "#7\n",
    "영어점수 = int(input('영어점수를 입력 해주세요.'))\n",
    "수학점수 = int(input('수학점수를 입력 해주세요.'))\n",
    "\n",
    "if 영어점수>=80 and 수학점수>=80 :\n",
    "    print('합격')\n",
    "elif 영어점수>=80 or 수학점수>=80 :\n",
    "    print('재시험 기회제공')\n",
    "else :\n",
    "    print('불합격')"
   ]
  },
  {
   "cell_type": "code",
   "execution_count": null,
   "metadata": {},
   "outputs": [],
   "source": []
  }
 ],
 "metadata": {
  "kernelspec": {
   "display_name": "Python 3",
   "language": "python",
   "name": "python3"
  },
  "language_info": {
   "codemirror_mode": {
    "name": "ipython",
    "version": 3
   },
   "file_extension": ".py",
   "mimetype": "text/x-python",
   "name": "python",
   "nbconvert_exporter": "python",
   "pygments_lexer": "ipython3",
   "version": "3.7.6"
  }
 },
 "nbformat": 4,
 "nbformat_minor": 4
}
