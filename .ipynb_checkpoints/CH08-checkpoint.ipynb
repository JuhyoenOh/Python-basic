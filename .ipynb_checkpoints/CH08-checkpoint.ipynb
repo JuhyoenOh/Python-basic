{
 "cells": [
  {
   "cell_type": "markdown",
   "metadata": {},
   "source": [
    "# 모듈과 패키지"
   ]
  },
  {
   "cell_type": "code",
   "execution_count": 9,
   "metadata": {},
   "outputs": [
    {
     "name": "stdout",
     "output_type": "stream",
     "text": [
      "7 11 8\n",
      "120\n"
     ]
    }
   ],
   "source": [
    "## Math 모듈\n",
    "\n",
    "import math\n",
    "\n",
    "print(math.floor(7.7), math.ceil(10.1), round(8.4))# floor 는 정수값만(소수점 아래 값은 사라짐)\n",
    "print(math.factorial(5))                        #ceil 은(는) 올림 , round은(는) 반올림 이다."
   ]
  },
  {
   "cell_type": "code",
   "execution_count": 16,
   "metadata": {},
   "outputs": [
    {
     "name": "stdout",
     "output_type": "stream",
     "text": [
      "3.141592653589793 1.0 -1.0 -2.4492935982947064e-16\n"
     ]
    }
   ],
   "source": [
    "import math as m\n",
    "print(m.pi, m.sin(m.pi/2), m.cos(m.pi),m.tan(m.pi*2))"
   ]
  },
  {
   "cell_type": "code",
   "execution_count": 14,
   "metadata": {},
   "outputs": [
    {
     "data": {
      "text/plain": [
       "120"
      ]
     },
     "execution_count": 14,
     "metadata": {},
     "output_type": "execute_result"
    }
   ],
   "source": [
    "# n! = n*(n-1)!\n",
    "def facto(n):\n",
    "    if n==0 :\n",
    "        return 1\n",
    "    return n * facto(n-1)\n",
    "facto(5)\n",
    "#0! = 1\n",
    "#제로 팩토리얼은 1 이다."
   ]
  },
  {
   "cell_type": "code",
   "execution_count": 12,
   "metadata": {},
   "outputs": [
    {
     "name": "stdout",
     "output_type": "stream",
     "text": [
      "1, 1, 2, 3, 5, 8, 13, 21, 34, 55, 89, 144, 233, 377, 610, 987, 1597, 2584, 4181, "
     ]
    }
   ],
   "source": [
    "# 수열(Fibonacci)\n",
    "def fibo(n):\n",
    "    if n==1 or n==2:\n",
    "        return 1\n",
    "    return fibo(n-1)+fibo(n-2)\n",
    "\n",
    "for i in range(1,20):\n",
    "    print(fibo(i),end=', ')"
   ]
  },
  {
   "cell_type": "code",
   "execution_count": 17,
   "metadata": {},
   "outputs": [],
   "source": [
    "#ex 8-1\n",
    "\n",
    "def hello1(name) :\n",
    "    x = '%s님 안녕하세요.'% name\n",
    "    return x\n",
    "\n",
    "def hello2(name) :\n",
    "    x = '%s님 반갑습니다.'% name\n",
    "    return x\n",
    "\n",
    "def hello3(name) :\n",
    "    x = '%s님 만나서 반가워요.'% name\n",
    "    return x"
   ]
  },
  {
   "cell_type": "code",
   "execution_count": 3,
   "metadata": {},
   "outputs": [
    {
     "name": "stdout",
     "output_type": "stream",
     "text": [
      "안지수님 안녕하세요.\n",
      "홍지영님 반갑습니다.\n",
      "황예림님 만나서 반가워요.\n"
     ]
    }
   ],
   "source": [
    "#ex 8-2\n",
    "\n",
    "import Ch08greet as greet\n",
    "\n",
    "print(greet.hello1('안지수'))\n",
    "print(greet.hello2('홍지영'))\n",
    "print(greet.hello3('황예림'))"
   ]
  },
  {
   "cell_type": "code",
   "execution_count": 5,
   "metadata": {},
   "outputs": [
    {
     "ename": "ModuleNotFoundError",
     "evalue": "No module named 'greet'",
     "output_type": "error",
     "traceback": [
      "\u001b[1;31m---------------------------------------------------------------------------\u001b[0m",
      "\u001b[1;31mModuleNotFoundError\u001b[0m                       Traceback (most recent call last)",
      "\u001b[1;32m<ipython-input-5-972021fad9b7>\u001b[0m in \u001b[0;36m<module>\u001b[1;34m\u001b[0m\n\u001b[0;32m      1\u001b[0m \u001b[1;31m#ex 8-3\u001b[0m\u001b[1;33m\u001b[0m\u001b[1;33m\u001b[0m\u001b[1;33m\u001b[0m\u001b[0m\n\u001b[1;32m----> 2\u001b[1;33m \u001b[1;32mimport\u001b[0m \u001b[0mgreet\u001b[0m\u001b[1;33m\u001b[0m\u001b[1;33m\u001b[0m\u001b[0m\n\u001b[0m",
      "\u001b[1;31mModuleNotFoundError\u001b[0m: No module named 'greet'"
     ]
    }
   ],
   "source": [
    "#ex 8-3\n",
    "import greet\n"
   ]
  },
  {
   "cell_type": "code",
   "execution_count": 19,
   "metadata": {},
   "outputs": [
    {
     "name": "stdout",
     "output_type": "stream",
     "text": [
      "floor(7,7) : 7\n",
      "ceil(10,1) : 11\n",
      "round(8,6) : 9\n",
      "5의 팩토리얼 : 120\n"
     ]
    }
   ],
   "source": [
    "# ex 8-4\n",
    "\n",
    "import math\n",
    "\n",
    "print('floor(7,7) : %d'% math.floor(7.7))\n",
    "print('ceil(10,1) : %d'% math.ceil(10.1))\n",
    "print('round(8,6) : %d'% round(8.6))\n",
    "print('5의 팩토리얼 : %d'% math.factorial(5))\n"
   ]
  },
  {
   "cell_type": "code",
   "execution_count": 21,
   "metadata": {},
   "outputs": [
    {
     "name": "stdout",
     "output_type": "stream",
     "text": [
      "sin(pi/2) : 1.00\n",
      "cos(pi) : -1.00\n",
      "tan(pi*2) : -0.00\n",
      "2의 4승 : 16\n",
      "49의 제곱근 : 7\n",
      "log10(100) : 2.00\n"
     ]
    }
   ],
   "source": [
    "# ex 8-5\n",
    "\n",
    "import math as m\n",
    "\n",
    "print('sin(pi/2) : %.2f'%m.sin(m.pi/2))\n",
    "print('cos(pi) : %.2f'%m.cos(m.pi))\n",
    "print('tan(pi*2) : %.2f'%m.tan(m.pi*2))\n",
    "\n",
    "print('2의 4승 : %d'%m.pow(2,4))\n",
    "print('49의 제곱근 : %d'%m.sqrt(49))\n",
    "print('log10(100) : %.2f'%m.log10(100))"
   ]
  },
  {
   "cell_type": "code",
   "execution_count": 22,
   "metadata": {},
   "outputs": [
    {
     "name": "stdout",
     "output_type": "stream",
     "text": [
      "3.141592653589793\n"
     ]
    }
   ],
   "source": [
    "from math import pi\n",
    "\n",
    "print(pi)"
   ]
  },
  {
   "cell_type": "code",
   "execution_count": 37,
   "metadata": {},
   "outputs": [
    {
     "name": "stdout",
     "output_type": "stream",
     "text": [
      "0.04103268072638777\n",
      "0.4515322067495151\n",
      "0.30970307129203134\n",
      "0.08647113808781781\n",
      "0.9793592337645546\n",
      "0.7220847106594461\n",
      "0.17965117658802843\n",
      "0.08074476513998186\n"
     ]
    }
   ],
   "source": [
    "# ex 8-6\n",
    "\n",
    "import random\n",
    "\n",
    "for i in range(8) :\n",
    "    print(random.random())\n"
   ]
  },
  {
   "cell_type": "code",
   "execution_count": 64,
   "metadata": {},
   "outputs": [
    {
     "name": "stdout",
     "output_type": "stream",
     "text": [
      "0.9560342718892494\n"
     ]
    }
   ],
   "source": [
    "random.seed(100)\n",
    "for i in range(1) :\n",
    "    print(random.random())"
   ]
  },
  {
   "cell_type": "code",
   "execution_count": 41,
   "metadata": {},
   "outputs": [
    {
     "name": "stdout",
     "output_type": "stream",
     "text": [
      "5\n",
      "5\n",
      "7\n",
      "5\n",
      "5\n"
     ]
    }
   ],
   "source": [
    "# ex 8-7\n",
    "import random\n",
    "\n",
    "for i in range(5) :\n",
    "    print(random.randrange(1,11,2))"
   ]
  },
  {
   "cell_type": "code",
   "execution_count": 69,
   "metadata": {},
   "outputs": [
    {
     "name": "stdout",
     "output_type": "stream",
     "text": [
      "5\n",
      "6\n",
      "2\n",
      "4\n",
      "6\n"
     ]
    }
   ],
   "source": [
    "# ex 8-8\n",
    "import random\n",
    "\n",
    "for i in range(5):\n",
    "    print(random.randint(1,6))"
   ]
  },
  {
   "cell_type": "code",
   "execution_count": 70,
   "metadata": {},
   "outputs": [
    {
     "name": "stdout",
     "output_type": "stream",
     "text": [
      "바위\n",
      "보\n",
      "보\n",
      "바위\n",
      "보\n"
     ]
    }
   ],
   "source": [
    "# ex 8-9\n",
    "import random\n",
    "\n",
    "toss=['가위', '바위', '보']\n",
    "\n",
    "for i in range(5):\n",
    "    print(random.choice(toss))"
   ]
  },
  {
   "cell_type": "code",
   "execution_count": 71,
   "metadata": {},
   "outputs": [
    {
     "name": "stdout",
     "output_type": "stream",
     "text": [
      "['사과', '오렌지', '바나나']\n",
      "['오렌지', '바나나', '사과']\n",
      "['오렌지', '사과', '바나나']\n"
     ]
    }
   ],
   "source": [
    "# ex 8-10\n",
    "\n",
    "import random\n",
    "\n",
    "fruits = ['사과', '바나나', '오렌지']\n",
    "\n",
    "for i in range(3) :\n",
    "    random.shuffle(fruits)\n",
    "    print(fruits)"
   ]
  },
  {
   "cell_type": "code",
   "execution_count": null,
   "metadata": {},
   "outputs": [
    {
     "name": "stdout",
     "output_type": "stream",
     "text": [
      "------------------------------\n",
      "주사위 던지기 : 1번째 \n",
      "나 : 4\n",
      "컴퓨터 : 4\n",
      "무승부!\n",
      "계속하려면 y를 입력하세요.y\n",
      "------------------------------\n",
      "주사위 던지기 : 2번째 \n",
      "나 : 5\n",
      "컴퓨터 : 2\n",
      "나의 승리!\n",
      "계속하려면 y를 입력하세요.y\n",
      "------------------------------\n",
      "주사위 던지기 : 3번째 \n",
      "나 : 5\n",
      "컴퓨터 : 2\n",
      "나의 승리!\n",
      "계속하려면 y를 입력하세요.y\n",
      "------------------------------\n",
      "주사위 던지기 : 4번째 \n",
      "나 : 2\n",
      "컴퓨터 : 2\n",
      "무승부!\n",
      "계속하려면 y를 입력하세요.y\n",
      "------------------------------\n",
      "주사위 던지기 : 5번째 \n",
      "나 : 1\n",
      "컴퓨터 : 2\n",
      "컴퓨터의 승리\n",
      "계속하려면 y를 입력하세요.y\n",
      "------------------------------\n",
      "주사위 던지기 : 6번째 \n",
      "나 : 3\n",
      "컴퓨터 : 2\n",
      "나의 승리!\n",
      "계속하려면 y를 입력하세요.y\n",
      "------------------------------\n",
      "주사위 던지기 : 7번째 \n",
      "나 : 2\n",
      "컴퓨터 : 5\n",
      "컴퓨터의 승리\n",
      "계속하려면 y를 입력하세요.y\n",
      "------------------------------\n",
      "주사위 던지기 : 8번째 \n",
      "나 : 5\n",
      "컴퓨터 : 3\n",
      "나의 승리!\n",
      "계속하려면 y를 입력하세요.y\n",
      "------------------------------\n",
      "주사위 던지기 : 9번째 \n",
      "나 : 5\n",
      "컴퓨터 : 6\n",
      "컴퓨터의 승리\n",
      "계속하려면 y를 입력하세요.y\n",
      "------------------------------\n",
      "주사위 던지기 : 10번째 \n",
      "나 : 5\n",
      "컴퓨터 : 2\n",
      "나의 승리!\n",
      "계속하려면 y를 입력하세요.y\n",
      "------------------------------\n",
      "주사위 던지기 : 11번째 \n",
      "나 : 4\n",
      "컴퓨터 : 4\n",
      "무승부!\n",
      "계속하려면 y를 입력하세요.y\n",
      "------------------------------\n",
      "주사위 던지기 : 12번째 \n",
      "나 : 6\n",
      "컴퓨터 : 5\n",
      "나의 승리!\n"
     ]
    }
   ],
   "source": [
    "# ex 8-11\n",
    "\n",
    "import random\n",
    "\n",
    "again = 'y'\n",
    "count = 1\n",
    "\n",
    "while again == 'y':\n",
    "    print('-'*30)\n",
    "    print('주사위 던지기 : %d번째 '%count)\n",
    "    me = random.randint(1,6)\n",
    "    computer = random.randint(1,6)\n",
    "    print('나 : %d'%me)\n",
    "    print('컴퓨터 : %d'% computer)\n",
    "    \n",
    "    if me > computer:\n",
    "        print('나의 승리!')\n",
    "    elif me ==computer :\n",
    "        print('무승부!')\n",
    "    else :\n",
    "        print('컴퓨터의 승리')\n",
    "        \n",
    "        \n",
    "    count=count+1\n",
    "    again = input('계속하려면 y를 입력하세요.')"
   ]
  },
  {
   "cell_type": "code",
   "execution_count": null,
   "metadata": {},
   "outputs": [
    {
     "name": "stdout",
     "output_type": "stream",
     "text": [
      "==============================\n",
      "가위 바위 보\n",
      "==============================\n",
      "나 : 가위\n",
      "당신 : 보\n",
      "나의 승리입니다!\n",
      "------------------------------\n",
      "계속하려면 y를 입력하세요!y\n",
      "\n",
      "나 : 바위\n",
      "당신 : 바위\n",
      "무승부입니다!\n",
      "------------------------------\n",
      "계속하려면 y를 입력하세요!y\n",
      "\n",
      "나 : 보\n",
      "당신 : 바위\n",
      "나의 승리입니다!\n",
      "------------------------------\n"
     ]
    }
   ],
   "source": [
    "# ex 8-12\n",
    "\n",
    "import random\n",
    "\n",
    "def whoWin(x,y):\n",
    "    if x=='가위':\n",
    "        if y=='가위':\n",
    "            msg = '무승부입니다!'\n",
    "        elif y=='바위':\n",
    "            msg = '당신의 승리입니다!'\n",
    "        else :\n",
    "            msg = '나의 승리입니다!'\n",
    "            \n",
    "    if x=='바위':\n",
    "        if y=='바위':\n",
    "            msg = '무승부입니다!'\n",
    "        elif y=='보':\n",
    "            msg = '당신의 승리입니다!'\n",
    "        else :\n",
    "            msg = '나의 승리입니다!'\n",
    "    \n",
    "    if x=='보':\n",
    "        if y=='보':\n",
    "            msg = '무승부입니다!'\n",
    "        elif y=='가위':\n",
    "            msg = '당신의 승리입니다!'\n",
    "        else :\n",
    "            msg = '나의 승리입니다!'        \n",
    "            \n",
    "    return msg\n",
    "\n",
    "\n",
    "print('='*30)\n",
    "print('가위','바위','보')\n",
    "print('='*30)\n",
    "\n",
    "game = ['가위','바위','보']\n",
    "again = 'y'\n",
    "\n",
    "while again == 'y':\n",
    "    me = random.choice(game)\n",
    "    you = random.choice(game)\n",
    "    \n",
    "    result = whoWin(me,you)\n",
    "    \n",
    "    print('나 : %s'%me)\n",
    "    print('당신 : %s'%you)\n",
    "    print(result)\n",
    "    print('-'*30)\n",
    "    \n",
    "    again = input('계속하려면 y를 입력하세요!')\n",
    "    print()\n",
    "            \n",
    "            \n",
    "            \n",
    "            "
   ]
  },
  {
   "cell_type": "code",
   "execution_count": 8,
   "metadata": {},
   "outputs": [
    {
     "name": "stdout",
     "output_type": "stream",
     "text": [
      "년 : 2020\n",
      "월 : 6\n",
      "일 : 3\n",
      "시 : 10\n",
      "분 : 28\n",
      "초 : 38\n",
      "2020-06-03 10:28:38\n",
      "20-06-03 AM 10:28\n"
     ]
    }
   ],
   "source": [
    "# ex 8-13\n",
    "\n",
    "from datetime import datetime\n",
    "\n",
    "today = datetime.now()\n",
    "\n",
    "print('년 : %s'% today.year)\n",
    "print('월 : %s'% today.month)\n",
    "print('일 : %s'% today.day)\n",
    "print('시 : %s'% today.hour)\n",
    "print('분 : %s'% today.minute)\n",
    "print('초 : %s'% today.second)\n",
    "\n",
    "print(today.strftime('%Y-%m-%d %H:%M:%S'))\n",
    "print(today.strftime('%y-%m-%d %p %I:%M')) # %I는 12시 기준으로 시간표시이다."
   ]
  },
  {
   "cell_type": "markdown",
   "metadata": {},
   "source": [
    "# 8장 연습문제"
   ]
  },
  {
   "cell_type": "code",
   "execution_count": 2,
   "metadata": {},
   "outputs": [
    {
     "name": "stdout",
     "output_type": "stream",
     "text": [
      "15\n"
     ]
    }
   ],
   "source": [
    "# 연습문제 1\n",
    "\n",
    "from lib import inc_10\n",
    "print (inc_10(5))"
   ]
  },
  {
   "cell_type": "code",
   "execution_count": 1,
   "metadata": {},
   "outputs": [
    {
     "name": "stdout",
     "output_type": "stream",
     "text": [
      "138\n"
     ]
    }
   ],
   "source": [
    "# 연습문제 2\n",
    "import lib\n",
    "\n",
    "a = lib.mul_20(3)\n",
    "b = a + lib.fact(1,3)\n",
    "c = a + b + lib.inc_10(2)\n",
    "\n",
    "print(c)"
   ]
  },
  {
   "cell_type": "code",
   "execution_count": 2,
   "metadata": {},
   "outputs": [
    {
     "name": "stdout",
     "output_type": "stream",
     "text": [
      "35\n"
     ]
    }
   ],
   "source": [
    "# 연습문제 3\n",
    "import lib as lb\n",
    "\n",
    "a = 1\n",
    "b = 2\n",
    "c = 3\n",
    "\n",
    "d = lb.fact(a, b)\n",
    "d += lb.inc_10(c)\n",
    "e = d + lb.mul_20(a)\n",
    "print(e)"
   ]
  },
  {
   "cell_type": "code",
   "execution_count": null,
   "metadata": {},
   "outputs": [],
   "source": [
    "# 연습문제 4\n",
    "다. shuffle()"
   ]
  },
  {
   "cell_type": "code",
   "execution_count": null,
   "metadata": {},
   "outputs": [],
   "source": [
    "# 연습문제 5\n",
    "라. %p"
   ]
  },
  {
   "cell_type": "code",
   "execution_count": null,
   "metadata": {},
   "outputs": [
    {
     "name": "stdout",
     "output_type": "stream",
     "text": [
      "------------------------------\n",
      "주사위 던지기 : 1번째 \n",
      "나 : 3\n",
      "컴퓨터 : 1\n",
      "나의 승리!\n",
      "계속하려면 y를 입력하세요.y\n",
      "------------------------------\n",
      "주사위 던지기 : 2번째 \n",
      "나 : 1\n",
      "컴퓨터 : 1\n",
      "무승부!\n",
      "계속하려면 y를 입력하세요.y\n",
      "------------------------------\n",
      "주사위 던지기 : 3번째 \n",
      "나 : 1\n",
      "컴퓨터 : 6\n",
      "컴퓨터의 승리\n"
     ]
    }
   ],
   "source": [
    "import random\n",
    "\n",
    "again = 'y'\n",
    "count = 1\n",
    "\n",
    "while again == 'y':\n",
    "    print('-'*30)\n",
    "    print('주사위 던지기 : %d번째 '%count)\n",
    "    me = random.randint(1,6)\n",
    "    computer = random.randint(1,6)\n",
    "    print('나 : %d'%me)\n",
    "    print('컴퓨터 : %d'% computer)\n",
    "    \n",
    "    if me > computer:\n",
    "        print('나의 승리!')\n",
    "    elif me ==computer :\n",
    "        print('무승부!')\n",
    "    else :\n",
    "        print('컴퓨터의 승리')\n",
    "        \n",
    "        \n",
    "    count=count+1\n",
    "    again = input('계속하려면 y를 입력하세요.')"
   ]
  },
  {
   "cell_type": "code",
   "execution_count": null,
   "metadata": {},
   "outputs": [],
   "source": []
  },
  {
   "cell_type": "code",
   "execution_count": null,
   "metadata": {},
   "outputs": [],
   "source": []
  },
  {
   "cell_type": "code",
   "execution_count": null,
   "metadata": {},
   "outputs": [],
   "source": []
  }
 ],
 "metadata": {
  "kernelspec": {
   "display_name": "Python 3",
   "language": "python",
   "name": "python3"
  },
  "language_info": {
   "codemirror_mode": {
    "name": "ipython",
    "version": 3
   },
   "file_extension": ".py",
   "mimetype": "text/x-python",
   "name": "python",
   "nbconvert_exporter": "python",
   "pygments_lexer": "ipython3",
   "version": "3.7.6"
  }
 },
 "nbformat": 4,
 "nbformat_minor": 4
}
