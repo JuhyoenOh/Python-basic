{
 "cells": [
  {
   "cell_type": "code",
   "execution_count": 55,
   "metadata": {},
   "outputs": [],
   "source": [
    "import requests\n",
    "from bs4 import BeautifulSoup\n",
    "from urllib.request import urlopen"
   ]
  },
  {
   "cell_type": "code",
   "execution_count": 96,
   "metadata": {},
   "outputs": [],
   "source": [
    "url = 'https://www.siksinhot.com/search?keywords=%EB%8C%80%EC%A0%84%20%EC%8B%9C%EC%B2%AD'\n",
    "\n",
    "html = urlopen(url)\n",
    "soup = BeautifulSoup(html,'html.parser')"
   ]
  },
  {
   "cell_type": "code",
   "execution_count": 97,
   "metadata": {},
   "outputs": [
    {
     "data": {
      "text/plain": [
       "<div class=\"cont\" data-reactid=\"110\"><a data-reactid=\"111\" href=\"/P/362677\"><span class=\"img\" data-reactid=\"112\"><img data-reactid=\"113\" height=\"224\" src=\"https://img.siksinhot.com/place/1447216677125185.jpg?w=280&amp;h=224&amp;c=Y\" width=\"280\"/></span><div class=\"cnt\" data-reactid=\"114\"><em class=\"score2\" data-reactid=\"115\">평가중</em><div class=\"box_tit\" data-reactid=\"116\"><strong class=\"store\" data-reactid=\"117\">생어거스틴 (대전시청점)</strong><div class=\"ico_right\" data-reactid=\"118\"></div></div><ul data-reactid=\"119\"><li data-reactid=\"120\">둔산/시청</li></ul><p data-reactid=\"121\"><!-- react-text: 122 -->A세트<!-- /react-text --><!-- react-text: 123 -->, B세트<!-- /react-text --><!-- react-text: 124 -->, C세트<!-- /react-text --></p><ul class=\"state_ul\" data-reactid=\"125\"><li class=\"ico_st01\" data-reactid=\"126\"><p data-reactid=\"127\">6476</p></li><li class=\"ico_st02\" data-reactid=\"128\"><p data-reactid=\"129\">4</p></li><li class=\"ico_st03\" data-reactid=\"130\"><p data-reactid=\"131\">13</p></li></ul></div></a></div>"
      ]
     },
     "execution_count": 97,
     "metadata": {},
     "output_type": "execute_result"
    }
   ],
   "source": [
    "rest_list = soup.find(class_='cont')\n",
    "rest_list"
   ]
  },
  {
   "cell_type": "code",
   "execution_count": 118,
   "metadata": {},
   "outputs": [
    {
     "data": {
      "text/plain": [
       "'생어거스틴 (대전시청점)'"
      ]
     },
     "execution_count": 118,
     "metadata": {},
     "output_type": "execute_result"
    }
   ],
   "source": [
    "# 상호명\n",
    "name = rest_list.find(class_='store').get_text()\n",
    "name"
   ]
  },
  {
   "cell_type": "code",
   "execution_count": null,
   "metadata": {},
   "outputs": [],
   "source": [
    "# 주소\n",
    "url_2 = 'https://www.siksinhot.com/search?keywords=%EB%8C%80%EC%A0%84%20%EC%8B%9C%EC%B2%AD'\n",
    "\n",
    "html_2 = urlopen(url_2)\n",
    "soup_2 = BeautifulSoup(html_2,'html.parser')\n",
    "\n",
    "rest_list_2 = soup.find(class_='cont')\n",
    "rest_list_2"
   ]
  },
  {
   "cell_type": "code",
   "execution_count": 99,
   "metadata": {},
   "outputs": [
    {
     "data": {
      "text/plain": [
       "<em class=\"score2\" data-reactid=\"115\">평가중</em>"
      ]
     },
     "execution_count": 99,
     "metadata": {},
     "output_type": "execute_result"
    }
   ],
   "source": [
    "rest_list.find(class_='score2')"
   ]
  },
  {
   "cell_type": "code",
   "execution_count": 103,
   "metadata": {},
   "outputs": [
    {
     "data": {
      "text/plain": [
       "'평가중'"
      ]
     },
     "execution_count": 103,
     "metadata": {},
     "output_type": "execute_result"
    }
   ],
   "source": [
    "a=rest_list.find(class_='score2').get_text()\n",
    "a"
   ]
  },
  {
   "cell_type": "code",
   "execution_count": 104,
   "metadata": {},
   "outputs": [
    {
     "data": {
      "text/plain": [
       "<div class=\"cnt\" data-reactid=\"114\"><em class=\"score2\" data-reactid=\"115\">평가중</em><div class=\"box_tit\" data-reactid=\"116\"><strong class=\"store\" data-reactid=\"117\">생어거스틴 (대전시청점)</strong><div class=\"ico_right\" data-reactid=\"118\"></div></div><ul data-reactid=\"119\"><li data-reactid=\"120\">둔산/시청</li></ul><p data-reactid=\"121\"><!-- react-text: 122 -->A세트<!-- /react-text --><!-- react-text: 123 -->, B세트<!-- /react-text --><!-- react-text: 124 -->, C세트<!-- /react-text --></p><ul class=\"state_ul\" data-reactid=\"125\"><li class=\"ico_st01\" data-reactid=\"126\"><p data-reactid=\"127\">6476</p></li><li class=\"ico_st02\" data-reactid=\"128\"><p data-reactid=\"129\">4</p></li><li class=\"ico_st03\" data-reactid=\"130\"><p data-reactid=\"131\">13</p></li></ul></div>"
      ]
     },
     "execution_count": 104,
     "metadata": {},
     "output_type": "execute_result"
    }
   ],
   "source": []
  },
  {
   "cell_type": "code",
   "execution_count": 114,
   "metadata": {},
   "outputs": [
    {
     "data": {
      "text/plain": [
       "'평가중생어거스틴 (대전시청점)둔산/시청A세트, B세트, C세트6476413'"
      ]
     },
     "execution_count": 114,
     "metadata": {},
     "output_type": "execute_result"
    }
   ],
   "source": []
  },
  {
   "cell_type": "code",
   "execution_count": 112,
   "metadata": {},
   "outputs": [
    {
     "data": {
      "text/plain": [
       "'(대전시청점)둔산/시청A세트'"
      ]
     },
     "execution_count": 112,
     "metadata": {},
     "output_type": "execute_result"
    }
   ],
   "source": []
  },
  {
   "cell_type": "code",
   "execution_count": null,
   "metadata": {},
   "outputs": [],
   "source": []
  }
 ],
 "metadata": {
  "kernelspec": {
   "display_name": "Python 3",
   "language": "python",
   "name": "python3"
  },
  "language_info": {
   "codemirror_mode": {
    "name": "ipython",
    "version": 3
   },
   "file_extension": ".py",
   "mimetype": "text/x-python",
   "name": "python",
   "nbconvert_exporter": "python",
   "pygments_lexer": "ipython3",
   "version": "3.7.6"
  }
 },
 "nbformat": 4,
 "nbformat_minor": 4
}
