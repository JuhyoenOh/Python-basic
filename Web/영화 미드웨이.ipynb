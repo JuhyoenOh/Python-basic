{
 "cells": [
  {
   "cell_type": "markdown",
   "metadata": {},
   "source": [
    "# Naver 영화 네이티즌 평점 수집 - 미드웨이, 2019"
   ]
  },
  {
   "cell_type": "code",
   "execution_count": 37,
   "metadata": {},
   "outputs": [],
   "source": [
    "import requests\n",
    "from bs4 import BeautifulSoup\n",
    "from urllib.request import urlopen"
   ]
  },
  {
   "cell_type": "code",
   "execution_count": 38,
   "metadata": {},
   "outputs": [],
   "source": [
    "url_base = 'https://movie.naver.com'\n",
    "url_sub = '/movie/bi/mi/point.nhn?code=186615'\n",
    "html = urlopen(url)\n",
    "soup = BeautifulSoup(html,'html.parser')"
   ]
  },
  {
   "cell_type": "markdown",
   "metadata": {},
   "source": [
    "## iframe의 src 주소값을 얻어야 함"
   ]
  },
  {
   "cell_type": "code",
   "execution_count": 39,
   "metadata": {},
   "outputs": [
    {
     "data": {
      "text/plain": [
       "'/movie/bi/mi/pointWriteFormList.nhn?code=186615&type=after&isActualPointWriteExecute=false&isMileageSubscriptionAlready=false&isMileageSubscriptionReject=false'"
      ]
     },
     "execution_count": 39,
     "metadata": {},
     "output_type": "execute_result"
    }
   ],
   "source": [
    "ifr_url = soup.find('iframe')['src']\n",
    "ifr_url"
   ]
  },
  {
   "cell_type": "code",
   "execution_count": 40,
   "metadata": {},
   "outputs": [],
   "source": [
    "#url_base+ifr_url+\"&page\"+str(page)\n",
    "\n",
    "url = url_base + ifr_url\n",
    "html = urlopen(url)\n",
    "\n",
    "soup = BeautifulSoup(html,'html.parser')\n"
   ]
  },
  {
   "cell_type": "code",
   "execution_count": 41,
   "metadata": {},
   "outputs": [
    {
     "data": {
      "text/plain": [
       "<strong class=\"total\">관람객 평점 <em>4,813</em>건<button class=\"btn_review\" id=\"open-form-btn\">내 평점 등록</button></strong>"
      ]
     },
     "execution_count": 41,
     "metadata": {},
     "output_type": "execute_result"
    }
   ],
   "source": [
    "count = soup.find('strong', 'total')\n",
    "count"
   ]
  },
  {
   "cell_type": "code",
   "execution_count": 42,
   "metadata": {},
   "outputs": [
    {
     "data": {
      "text/plain": [
       "'4,813'"
      ]
     },
     "execution_count": 42,
     "metadata": {},
     "output_type": "execute_result"
    }
   ],
   "source": [
    "count =  count.find('em').string\n",
    "count"
   ]
  },
  {
   "cell_type": "code",
   "execution_count": 43,
   "metadata": {},
   "outputs": [
    {
     "data": {
      "text/plain": [
       "4813"
      ]
     },
     "execution_count": 43,
     "metadata": {},
     "output_type": "execute_result"
    }
   ],
   "source": [
    "count = int(count.replace(',',''))\n",
    "count"
   ]
  },
  {
   "cell_type": "code",
   "execution_count": 44,
   "metadata": {},
   "outputs": [
    {
     "data": {
      "text/plain": [
       "482"
      ]
     },
     "execution_count": 44,
     "metadata": {},
     "output_type": "execute_result"
    }
   ],
   "source": [
    "import math\n",
    "loop_count = math.ceil(count/10)\n",
    "loop_count"
   ]
  },
  {
   "cell_type": "markdown",
   "metadata": {},
   "source": [
    "## 첫번째 페이지에서 리뷰, 평점, 날짜 구해보기"
   ]
  },
  {
   "cell_type": "markdown",
   "metadata": {},
   "source": [
    "### - 한개의 리뷰에서 평점, 리뷰, 날짜 구하기"
   ]
  },
  {
   "cell_type": "code",
   "execution_count": 1,
   "metadata": {},
   "outputs": [
    {
     "ename": "NameError",
     "evalue": "name 'soup' is not defined",
     "output_type": "error",
     "traceback": [
      "\u001b[1;31m---------------------------------------------------------------------------\u001b[0m",
      "\u001b[1;31mNameError\u001b[0m                                 Traceback (most recent call last)",
      "\u001b[1;32m<ipython-input-1-4e9d0c47b1a5>\u001b[0m in \u001b[0;36m<module>\u001b[1;34m\u001b[0m\n\u001b[1;32m----> 1\u001b[1;33m \u001b[0mresult\u001b[0m \u001b[1;33m=\u001b[0m \u001b[0msoup\u001b[0m\u001b[1;33m.\u001b[0m\u001b[0mfind\u001b[0m\u001b[1;33m(\u001b[0m\u001b[0mclass_\u001b[0m\u001b[1;33m=\u001b[0m\u001b[1;34m'lst50'\u001b[0m\u001b[1;33m)\u001b[0m\u001b[1;33m\u001b[0m\u001b[1;33m\u001b[0m\u001b[0m\n\u001b[0m\u001b[0;32m      2\u001b[0m \u001b[0mresult\u001b[0m\u001b[1;33m\u001b[0m\u001b[1;33m\u001b[0m\u001b[0m\n",
      "\u001b[1;31mNameError\u001b[0m: name 'soup' is not defined"
     ]
    }
   ],
   "source": [
    "result = soup.find(class_='score_result')\n",
    "result"
   ]
  },
  {
   "cell_type": "code",
   "execution_count": 100,
   "metadata": {},
   "outputs": [
    {
     "data": {
      "text/plain": [
       "<li>\n",
       "<div class=\"star_score\">\n",
       "<span class=\"st_off\"><span class=\"st_on\" style=\"width:20.0%\"></span></span><em>2</em>\n",
       "</div>\n",
       "<div class=\"score_reple\">\n",
       "<p>\n",
       "<span class=\"ico_viewer\">관람객</span>\n",
       "<!-- 스포일러 컨텐츠로 처리되는지 여부 -->\n",
       "<span id=\"_filtered_ment_0\">\n",
       "\t\t\t\t\t\t\t\t\t\t\t\t\t\t\n",
       "\t\t\t\t\t\t\t\t\t\t\t\t\t\t\t\n",
       "\t\t\t\t\t\t\t\t\t\t\t\t\t\t\t\n",
       "\t\t\t\t\t\t\t\t\t\t\t\t\t\t\t\t시간이 아까워요. 엉성한 그래서 감동도 교훈도 없는...ㅉㅉ \n",
       "\t\t\t\t\t\t\t\t\t\t\t\t\t\t\t\n",
       "\t\t\t\t\t\t\t\t\t\t\t\t\t\t\n",
       "\t\t\t\t\t\t\t\t\t\t\t\t\t\t\n",
       "\t\t\t\t\t\t\t\t\t\t\t\t\t</span>\n",
       "</p>\n",
       "<dl>\n",
       "<dt>\n",
       "<em>\n",
       "<a href=\"#\" onclick=\"javascript:showPointListByNid(16572303, 'after');parent.clickcr(this, 'ara.uid', '', '', event); return false;\" target=\"_top\">\n",
       "<span>솔향(alej****)</span>\n",
       "</a>\n",
       "</em>\n",
       "<em>2020.01.01 23:40</em>\n",
       "</dt>\n",
       "<dd>\n",
       "<a class=\"go_report2\" href=\"#\" onclick=\"parent.clickcr(this, 'ara.report', '', '', event); common.report('false','alej****', 'z3aEexIafNFVBOOvSUO9hhLVCkk1Lnr/6/p8HHp7r7k=', '시간이 아까워요. 엉성한 그래서 감동도 교훈도 없는...ㅉㅉ ', '16572303', 'point_after', false);return false;\"><em>신고</em></a>\n",
       "</dd>\n",
       "</dl>\n",
       "</div>\n",
       "<div class=\"btn_area\">\n",
       "<a class=\"_sympathyButton\" href=\"#\" onclick=\"parent.clickcr(this, 'ara.sym', '', '', event);\">\n",
       "<span class=\"ico_up\"></span>\n",
       "<span class=\"blind\">공감</span>\n",
       "<strong class=\"sympathy_16572303\">5</strong>\n",
       "</a>\n",
       "<a class=\"_notSympathyButton\" href=\"#\" onclick=\"parent.clickcr(this, 'ara.opp', '', '', event);\">\n",
       "<span class=\"ico_down\"></span>\n",
       "<span class=\"blind\">비공감</span>\n",
       "<strong class=\"notSympathy_16572303\">43</strong>\n",
       "</a>\n",
       "</div>\n",
       "</li>"
      ]
     },
     "execution_count": 100,
     "metadata": {},
     "output_type": "execute_result"
    }
   ],
   "source": [
    "lis = result.find_all('li')\n",
    "li = lis[0]\n",
    "li"
   ]
  },
  {
   "cell_type": "code",
   "execution_count": 86,
   "metadata": {},
   "outputs": [
    {
     "data": {
      "text/plain": [
       "'\\n9\\n'"
      ]
     },
     "execution_count": 86,
     "metadata": {},
     "output_type": "execute_result"
    }
   ],
   "source": [
    "score = li.find(class_='star_score').get_text()\n",
    "score"
   ]
  },
  {
   "cell_type": "code",
   "execution_count": 87,
   "metadata": {},
   "outputs": [
    {
     "data": {
      "text/plain": [
       "9"
      ]
     },
     "execution_count": 87,
     "metadata": {},
     "output_type": "execute_result"
    }
   ],
   "source": [
    "# 별점\n",
    "\n",
    "score = int(li.find(class_='star_score').find('em').get_text())\n",
    "score = int(score)\n",
    "score"
   ]
  },
  {
   "cell_type": "code",
   "execution_count": 49,
   "metadata": {},
   "outputs": [
    {
     "data": {
      "text/plain": [
       "<div class=\"score_reple\">\n",
       "<p>\n",
       "<!-- 스포일러 컨텐츠로 처리되는지 여부 -->\n",
       "<span id=\"_filtered_ment_0\">\n",
       "\t\t\t\t\t\t\t\t\t\t\t\t\t\t\n",
       "\t\t\t\t\t\t\t\t\t\t\t\t\t\t\t\n",
       "\t\t\t\t\t\t\t\t\t\t\t\t\t\t\t\n",
       "\t\t\t\t\t\t\t\t\t\t\t\t\t\t\t\t미드웨이가 재밌으면 추천 백두산이 재밌으면 비추 \n",
       "\t\t\t\t\t\t\t\t\t\t\t\t\t\t\t\n",
       "\t\t\t\t\t\t\t\t\t\t\t\t\t\t\n",
       "\t\t\t\t\t\t\t\t\t\t\t\t\t\t\n",
       "\t\t\t\t\t\t\t\t\t\t\t\t\t</span>\n",
       "</p>\n",
       "<dl>\n",
       "<dt>\n",
       "<em>\n",
       "<a href=\"#\" onclick=\"javascript:showPointListByNid(16564107, 'after');parent.clickcr(this, 'ara.uid', '', '', event); return false;\" target=\"_top\">\n",
       "<span>낄낄쿨레(sunj****)</span>\n",
       "</a>\n",
       "</em>\n",
       "<em>2019.12.31 09:48</em>\n",
       "</dt>\n",
       "<dd>\n",
       "<a class=\"go_report2\" href=\"#\" onclick=\"parent.clickcr(this, 'ara.report', '', '', event); common.report('false','sunj****', 'QKkLC0sqDjDc+mhcT8GOEw0PBQVRCaG61eBeNEGWQnw=', '미드웨이가 재밌으면 추천 백두산이 재밌으면 비추 ', '16564107', 'point_after', false);return false;\"><em>신고</em></a>\n",
       "</dd>\n",
       "</dl>\n",
       "</div>"
      ]
     },
     "execution_count": 49,
     "metadata": {},
     "output_type": "execute_result"
    }
   ],
   "source": [
    "li.find(class_='score_reple')"
   ]
  },
  {
   "cell_type": "code",
   "execution_count": 50,
   "metadata": {},
   "outputs": [
    {
     "data": {
      "text/plain": [
       "<p>\n",
       "<!-- 스포일러 컨텐츠로 처리되는지 여부 -->\n",
       "<span id=\"_filtered_ment_0\">\n",
       "\t\t\t\t\t\t\t\t\t\t\t\t\t\t\n",
       "\t\t\t\t\t\t\t\t\t\t\t\t\t\t\t\n",
       "\t\t\t\t\t\t\t\t\t\t\t\t\t\t\t\n",
       "\t\t\t\t\t\t\t\t\t\t\t\t\t\t\t\t미드웨이가 재밌으면 추천 백두산이 재밌으면 비추 \n",
       "\t\t\t\t\t\t\t\t\t\t\t\t\t\t\t\n",
       "\t\t\t\t\t\t\t\t\t\t\t\t\t\t\n",
       "\t\t\t\t\t\t\t\t\t\t\t\t\t\t\n",
       "\t\t\t\t\t\t\t\t\t\t\t\t\t</span>\n",
       "</p>"
      ]
     },
     "execution_count": 50,
     "metadata": {},
     "output_type": "execute_result"
    }
   ],
   "source": [
    "li.find(class_='score_reple').find('p')"
   ]
  },
  {
   "cell_type": "code",
   "execution_count": 51,
   "metadata": {},
   "outputs": [
    {
     "data": {
      "text/plain": [
       "<span id=\"_filtered_ment_0\">\n",
       "\t\t\t\t\t\t\t\t\t\t\t\t\t\t\n",
       "\t\t\t\t\t\t\t\t\t\t\t\t\t\t\t\n",
       "\t\t\t\t\t\t\t\t\t\t\t\t\t\t\t\n",
       "\t\t\t\t\t\t\t\t\t\t\t\t\t\t\t\t미드웨이가 재밌으면 추천 백두산이 재밌으면 비추 \n",
       "\t\t\t\t\t\t\t\t\t\t\t\t\t\t\t\n",
       "\t\t\t\t\t\t\t\t\t\t\t\t\t\t\n",
       "\t\t\t\t\t\t\t\t\t\t\t\t\t\t\n",
       "\t\t\t\t\t\t\t\t\t\t\t\t\t</span>"
      ]
     },
     "execution_count": 51,
     "metadata": {},
     "output_type": "execute_result"
    }
   ],
   "source": [
    "li.find(class_='score_reple').find('p').find('span')"
   ]
  },
  {
   "cell_type": "code",
   "execution_count": 52,
   "metadata": {},
   "outputs": [
    {
     "data": {
      "text/plain": [
       "'미드웨이가 재밌으면 추천 백두산이 재밌으면 비추 '"
      ]
     },
     "execution_count": 52,
     "metadata": {},
     "output_type": "execute_result"
    }
   ],
   "source": [
    "review =li.find(class_='score_reple').find('p').find('span').get_text()\n",
    "review =  review.strip('\\t\\r\\n') # \n",
    "review"
   ]
  },
  {
   "cell_type": "code",
   "execution_count": 90,
   "metadata": {},
   "outputs": [
    {
     "data": {
      "text/plain": [
       "'미드웨이가 재밌으면 추천 백두산이 재밌으면 비추 '"
      ]
     },
     "execution_count": 90,
     "metadata": {},
     "output_type": "execute_result"
    }
   ],
   "source": [
    "# 리뷰\n",
    "\n",
    "review = li.find(class_='score_reple').find('p').find('span').string.strip('\\t\\r\\n')\n",
    "review"
   ]
  },
  {
   "cell_type": "code",
   "execution_count": 54,
   "metadata": {},
   "outputs": [
    {
     "data": {
      "text/plain": [
       "[<em>\n",
       " <a href=\"#\" onclick=\"javascript:showPointListByNid(16564107, 'after');parent.clickcr(this, 'ara.uid', '', '', event); return false;\" target=\"_top\">\n",
       " <span>낄낄쿨레(sunj****)</span>\n",
       " </a>\n",
       " </em>,\n",
       " <em>2019.12.31 09:48</em>,\n",
       " <em>신고</em>]"
      ]
     },
     "execution_count": 54,
     "metadata": {},
     "output_type": "execute_result"
    }
   ],
   "source": [
    "li.find(class_='score_reple').find_all('em')"
   ]
  },
  {
   "cell_type": "code",
   "execution_count": 85,
   "metadata": {},
   "outputs": [
    {
     "data": {
      "text/plain": [
       "'2019.12.31 09:48'"
      ]
     },
     "execution_count": 85,
     "metadata": {},
     "output_type": "execute_result"
    }
   ],
   "source": [
    "# 날짜\n",
    "\n",
    "date = li.find(class_='score_reple').find_all('em')[1].get_text()\n",
    "date"
   ]
  },
  {
   "cell_type": "code",
   "execution_count": 56,
   "metadata": {},
   "outputs": [
    {
     "name": "stdout",
     "output_type": "stream",
     "text": [
      "[9, 10, 10, 10, 10, 10, 10, 10, 10, 8]\n",
      "\n",
      "['미드웨이가 재밌으면 추천 백두산이 재밌으면 비추 ', '저 해전이 있었기에 우리나라 광복도 가능 했음 ', '백두산 상영관 대폭줄이고 미드웨이 상영관 대폭늘려라 ', '방금 개봉했는데 1점 준애는 뭐냐 ㅋㅋ 일본놈이냐? 이제 광고돌고 있을 시간이다. ', '관람객', '스케일 겁나커서 보는내내 입벌리고 봣네욬ㅋㅋ재밋습니다 ', '안보면후회함 백두산보다낫다 ', '재밌으면 추천 재미없으면 비추천 눌러주십쇼 형님들 ', '일본의 최대 실수는 미국을 건드린거다 그 대가로 원폭 처맞고 멸망함ㅋㅋㅋ지금 하는 짓거리보면 아직 더 맞아야 될듯 ', '아니 에머리히 감독이 스토리에 고증을 철저히 지키다니 안믿긴다..(진짜 실제인물에 장면 하나하나가 거의 다 사실인건 솔직히 놀랍네요)(영화에 대한 팩트들)1.제작비는 500억이 아니라 1100억이고 2.소니가 진짜로 20년전에 미드웨이 영화화 반대했고3.평론가 평가가 안좋다?..진주만 보다 20점 높은 44점입니다.(전쟁 영화로써 좋은 점수입니다)4.고증이 안좋다?..스토리 고증은 정말 철저하고 전투기 등등의 디테일은 비슷하지만 완전 정확하진 않음5.중국이 나온다?:나옵니다..하지만 역사적 사실이고 일본은 당시에 미군을 도와준 중국을 보복했죠.(영화는 소니의 반대로 뒤늦게 20년만에 독립영화로 만들어졌는데 1100억의 제작비로 이정도로 강렬한 운명의 5분 미드웨이 해전을 보여준건 놀랍네요) ']\n",
      "\n",
      "['2019.12.31 09:48', '2019.12.31 10:41', '2019.12.31 09:38', '2019.12.31 09:14', '2019.12.31 19:58', '2019.12.31 09:29', '2019.12.31 09:52', '2019.12.31 09:01', '2019.12.31 16:37', '2019.12.31 10:14']\n",
      "\n"
     ]
    }
   ],
   "source": [
    "# 데이터 프레임에 넣을 데이터 항목 정리하기.\n",
    "\n",
    "\n",
    "point = []\n",
    "review = []\n",
    "date = []\n",
    "\n",
    "\n",
    "for li1 in lis :\n",
    "        point.append(int(li1.find(class_='star_score').find('em').get_text()))\n",
    "        date.append(li1.find(class_='score_reple').find_all('em')[1].get_text())\n",
    "        count_span = len(li1.find(class_='score_reple').find_all('a'))\n",
    "        count_icon = len(li1.find_all(class_='ico_viwer'))\n",
    "        if count_span == 2 :\n",
    "            review.append(li1.find(class_='score_reple').\n",
    "                      find('p').find('span').string.strip('\\t\\r\\n'))\n",
    "        elif count_icon == 1:\n",
    "            review.append(li1.find(class_='score_reple').\n",
    "                      find('p').find('span').string.strip('\\t\\r\\n'))\n",
    "\n",
    "        else :\n",
    "            review.append(li1.find(class_='score_reple').\n",
    "                                find('a')['data-src'])\n",
    "\n",
    "print(point)\n",
    "print()\n",
    "print(review)\n",
    "print()\n",
    "print(date)\n",
    "print()"
   ]
  },
  {
   "cell_type": "code",
   "execution_count": 102,
   "metadata": {},
   "outputs": [
    {
     "data": {
      "text/plain": [
       "'아니 에머리히 감독이 스토리에 고증을 철저히 지키다니 안믿긴다..(진짜 실제인물에 장면 하나하나가 거의 다 사실인건 솔직히 놀랍네요)(영화에 대한 팩트들)1.제작비는 500억이 아니라 1100억이고 2.소니가 진짜로...'"
      ]
     },
     "execution_count": 102,
     "metadata": {},
     "output_type": "execute_result"
    }
   ],
   "source": [
    "# 문장이 긴 리뷰 대응\n",
    "\n",
    "li9.find(class_='score_reple').find('a').string.strip('\\t\\r\\n')"
   ]
  },
  {
   "cell_type": "code",
   "execution_count": 62,
   "metadata": {},
   "outputs": [
    {
     "data": {
      "text/plain": [
       "2"
      ]
     },
     "execution_count": 62,
     "metadata": {},
     "output_type": "execute_result"
    }
   ],
   "source": [
    "len(li.find(class_='score_reple').find_all('span'))"
   ]
  },
  {
   "cell_type": "code",
   "execution_count": 63,
   "metadata": {},
   "outputs": [
    {
     "data": {
      "text/plain": [
       "3"
      ]
     },
     "execution_count": 63,
     "metadata": {},
     "output_type": "execute_result"
    }
   ],
   "source": [
    "len(li9.find(class_='score_reple').find_all('span'))"
   ]
  },
  {
   "cell_type": "code",
   "execution_count": null,
   "metadata": {},
   "outputs": [],
   "source": []
  },
  {
   "cell_type": "code",
   "execution_count": null,
   "metadata": {},
   "outputs": [],
   "source": []
  },
  {
   "cell_type": "code",
   "execution_count": null,
   "metadata": {},
   "outputs": [],
   "source": []
  },
  {
   "cell_type": "code",
   "execution_count": 64,
   "metadata": {},
   "outputs": [
    {
     "data": {
      "text/html": [
       "<div>\n",
       "<style scoped>\n",
       "    .dataframe tbody tr th:only-of-type {\n",
       "        vertical-align: middle;\n",
       "    }\n",
       "\n",
       "    .dataframe tbody tr th {\n",
       "        vertical-align: top;\n",
       "    }\n",
       "\n",
       "    .dataframe thead th {\n",
       "        text-align: right;\n",
       "    }\n",
       "</style>\n",
       "<table border=\"1\" class=\"dataframe\">\n",
       "  <thead>\n",
       "    <tr style=\"text-align: right;\">\n",
       "      <th></th>\n",
       "      <th>평점</th>\n",
       "      <th>일시</th>\n",
       "      <th>감상평</th>\n",
       "    </tr>\n",
       "  </thead>\n",
       "  <tbody>\n",
       "    <tr>\n",
       "      <th>0</th>\n",
       "      <td>9</td>\n",
       "      <td>2019.12.31 09:48</td>\n",
       "      <td>미드웨이가 재밌으면 추천 백두산이 재밌으면 비추</td>\n",
       "    </tr>\n",
       "    <tr>\n",
       "      <th>1</th>\n",
       "      <td>10</td>\n",
       "      <td>2019.12.31 10:41</td>\n",
       "      <td>저 해전이 있었기에 우리나라 광복도 가능 했음</td>\n",
       "    </tr>\n",
       "    <tr>\n",
       "      <th>2</th>\n",
       "      <td>10</td>\n",
       "      <td>2019.12.31 09:38</td>\n",
       "      <td>백두산 상영관 대폭줄이고 미드웨이 상영관 대폭늘려라</td>\n",
       "    </tr>\n",
       "    <tr>\n",
       "      <th>3</th>\n",
       "      <td>10</td>\n",
       "      <td>2019.12.31 09:14</td>\n",
       "      <td>방금 개봉했는데 1점 준애는 뭐냐 ㅋㅋ 일본놈이냐? 이제 광고돌고 있을 시간이다.</td>\n",
       "    </tr>\n",
       "    <tr>\n",
       "      <th>4</th>\n",
       "      <td>10</td>\n",
       "      <td>2019.12.31 19:58</td>\n",
       "      <td>관람객</td>\n",
       "    </tr>\n",
       "    <tr>\n",
       "      <th>5</th>\n",
       "      <td>10</td>\n",
       "      <td>2019.12.31 09:29</td>\n",
       "      <td>스케일 겁나커서 보는내내 입벌리고 봣네욬ㅋㅋ재밋습니다</td>\n",
       "    </tr>\n",
       "    <tr>\n",
       "      <th>6</th>\n",
       "      <td>10</td>\n",
       "      <td>2019.12.31 09:52</td>\n",
       "      <td>안보면후회함 백두산보다낫다</td>\n",
       "    </tr>\n",
       "    <tr>\n",
       "      <th>7</th>\n",
       "      <td>10</td>\n",
       "      <td>2019.12.31 09:01</td>\n",
       "      <td>재밌으면 추천 재미없으면 비추천 눌러주십쇼 형님들</td>\n",
       "    </tr>\n",
       "    <tr>\n",
       "      <th>8</th>\n",
       "      <td>10</td>\n",
       "      <td>2019.12.31 16:37</td>\n",
       "      <td>일본의 최대 실수는 미국을 건드린거다 그 대가로 원폭 처맞고 멸망함ㅋㅋㅋ지금 하는 ...</td>\n",
       "    </tr>\n",
       "    <tr>\n",
       "      <th>9</th>\n",
       "      <td>8</td>\n",
       "      <td>2019.12.31 10:14</td>\n",
       "      <td>아니 에머리히 감독이 스토리에 고증을 철저히 지키다니 안믿긴다..(진짜 실제인물에 ...</td>\n",
       "    </tr>\n",
       "  </tbody>\n",
       "</table>\n",
       "</div>"
      ],
      "text/plain": [
       "   평점                일시                                                감상평\n",
       "0   9  2019.12.31 09:48                        미드웨이가 재밌으면 추천 백두산이 재밌으면 비추 \n",
       "1  10  2019.12.31 10:41                         저 해전이 있었기에 우리나라 광복도 가능 했음 \n",
       "2  10  2019.12.31 09:38                      백두산 상영관 대폭줄이고 미드웨이 상영관 대폭늘려라 \n",
       "3  10  2019.12.31 09:14     방금 개봉했는데 1점 준애는 뭐냐 ㅋㅋ 일본놈이냐? 이제 광고돌고 있을 시간이다. \n",
       "4  10  2019.12.31 19:58                                                관람객\n",
       "5  10  2019.12.31 09:29                     스케일 겁나커서 보는내내 입벌리고 봣네욬ㅋㅋ재밋습니다 \n",
       "6  10  2019.12.31 09:52                                    안보면후회함 백두산보다낫다 \n",
       "7  10  2019.12.31 09:01                       재밌으면 추천 재미없으면 비추천 눌러주십쇼 형님들 \n",
       "8  10  2019.12.31 16:37  일본의 최대 실수는 미국을 건드린거다 그 대가로 원폭 처맞고 멸망함ㅋㅋㅋ지금 하는 ...\n",
       "9   8  2019.12.31 10:14  아니 에머리히 감독이 스토리에 고증을 철저히 지키다니 안믿긴다..(진짜 실제인물에 ..."
      ]
     },
     "execution_count": 64,
     "metadata": {},
     "output_type": "execute_result"
    }
   ],
   "source": [
    "\n",
    "import pandas as pd\n",
    "\n",
    "df = pd.DataFrame({'평점':point, '일시': date, '감상평':review })\n",
    "df"
   ]
  },
  {
   "cell_type": "markdown",
   "metadata": {},
   "source": [
    "## 읽을 페이지 수 계산"
   ]
  },
  {
   "cell_type": "code",
   "execution_count": 65,
   "metadata": {},
   "outputs": [
    {
     "data": {
      "text/plain": [
       "<strong class=\"total\">관람객 평점 <em>4,813</em>건<button class=\"btn_review\" id=\"open-form-btn\">내 평점 등록</button></strong>"
      ]
     },
     "execution_count": 65,
     "metadata": {},
     "output_type": "execute_result"
    }
   ],
   "source": [
    "count = soup.find('strong','total')\n",
    "count"
   ]
  },
  {
   "cell_type": "code",
   "execution_count": 66,
   "metadata": {},
   "outputs": [
    {
     "data": {
      "text/plain": [
       "'4,813'"
      ]
     },
     "execution_count": 66,
     "metadata": {},
     "output_type": "execute_result"
    }
   ],
   "source": [
    "count = count.find('em').string\n",
    "count"
   ]
  },
  {
   "cell_type": "code",
   "execution_count": 83,
   "metadata": {},
   "outputs": [
    {
     "ename": "AttributeError",
     "evalue": "'int' object has no attribute 'replace'",
     "output_type": "error",
     "traceback": [
      "\u001b[1;31m---------------------------------------------------------------------------\u001b[0m",
      "\u001b[1;31mAttributeError\u001b[0m                            Traceback (most recent call last)",
      "\u001b[1;32m<ipython-input-83-3c5a1a57b1a0>\u001b[0m in \u001b[0;36m<module>\u001b[1;34m\u001b[0m\n\u001b[1;32m----> 1\u001b[1;33m \u001b[0mcount\u001b[0m \u001b[1;33m=\u001b[0m \u001b[0mint\u001b[0m\u001b[1;33m(\u001b[0m\u001b[0mcount\u001b[0m\u001b[1;33m.\u001b[0m\u001b[0mreplace\u001b[0m\u001b[1;33m(\u001b[0m\u001b[1;34m','\u001b[0m\u001b[1;33m,\u001b[0m\u001b[1;34m'  '\u001b[0m\u001b[1;33m)\u001b[0m\u001b[1;33m)\u001b[0m\u001b[1;33m\u001b[0m\u001b[1;33m\u001b[0m\u001b[0m\n\u001b[0m\u001b[0;32m      2\u001b[0m \u001b[0mcount\u001b[0m\u001b[1;33m\u001b[0m\u001b[1;33m\u001b[0m\u001b[0m\n",
      "\u001b[1;31mAttributeError\u001b[0m: 'int' object has no attribute 'replace'"
     ]
    }
   ],
   "source": [
    "count = int(count.replace(',',''))\n",
    "count"
   ]
  },
  {
   "cell_type": "code",
   "execution_count": 68,
   "metadata": {},
   "outputs": [
    {
     "data": {
      "text/plain": [
       "482"
      ]
     },
     "execution_count": 68,
     "metadata": {},
     "output_type": "execute_result"
    }
   ],
   "source": [
    "import math\n",
    "total_page = math.ceil(count/10)\n",
    "total_page\n",
    "\n"
   ]
  },
  {
   "cell_type": "code",
   "execution_count": 78,
   "metadata": {},
   "outputs": [
    {
     "ename": "AttributeError",
     "evalue": "ResultSet object has no attribute 'find'. You're probably treating a list of elements like a single element. Did you call find_all() when you meant to call find()?",
     "output_type": "error",
     "traceback": [
      "\u001b[1;31m---------------------------------------------------------------------------\u001b[0m",
      "\u001b[1;31mAttributeError\u001b[0m                            Traceback (most recent call last)",
      "\u001b[1;32m<ipython-input-78-8f98d21f6f47>\u001b[0m in \u001b[0;36m<module>\u001b[1;34m\u001b[0m\n\u001b[1;32m----> 1\u001b[1;33m \u001b[0mlis\u001b[0m\u001b[1;33m.\u001b[0m\u001b[0mfind\u001b[0m\u001b[1;33m(\u001b[0m\u001b[0mclass_\u001b[0m\u001b[1;33m=\u001b[0m\u001b[1;34m'score_reple'\u001b[0m\u001b[1;33m)\u001b[0m\u001b[1;33m.\u001b[0m\u001b[0mfind\u001b[0m\u001b[1;33m(\u001b[0m\u001b[1;34m'p'\u001b[0m\u001b[1;33m)\u001b[0m\u001b[1;33m.\u001b[0m\u001b[0mfind\u001b[0m\u001b[1;33m(\u001b[0m\u001b[1;34m'span'\u001b[0m\u001b[1;33m)\u001b[0m\u001b[1;33m.\u001b[0m\u001b[0mstring\u001b[0m\u001b[1;33m.\u001b[0m\u001b[0mstrip\u001b[0m\u001b[1;33m(\u001b[0m\u001b[1;34m'\\t\\r\\n'\u001b[0m\u001b[1;33m)\u001b[0m\u001b[1;33m\u001b[0m\u001b[1;33m\u001b[0m\u001b[0m\n\u001b[0m",
      "\u001b[1;32mC:\\ProgramData\\Anaconda3\\lib\\site-packages\\bs4\\element.py\u001b[0m in \u001b[0;36m__getattr__\u001b[1;34m(self, key)\u001b[0m\n\u001b[0;32m   2079\u001b[0m         \u001b[1;34m\"\"\"Raise a helpful exception to explain a common code fix.\"\"\"\u001b[0m\u001b[1;33m\u001b[0m\u001b[1;33m\u001b[0m\u001b[0m\n\u001b[0;32m   2080\u001b[0m         raise AttributeError(\n\u001b[1;32m-> 2081\u001b[1;33m             \u001b[1;34m\"ResultSet object has no attribute '%s'. You're probably treating a list of elements like a single element. Did you call find_all() when you meant to call find()?\"\u001b[0m \u001b[1;33m%\u001b[0m \u001b[0mkey\u001b[0m\u001b[1;33m\u001b[0m\u001b[1;33m\u001b[0m\u001b[0m\n\u001b[0m\u001b[0;32m   2082\u001b[0m         )\n",
      "\u001b[1;31mAttributeError\u001b[0m: ResultSet object has no attribute 'find'. You're probably treating a list of elements like a single element. Did you call find_all() when you meant to call find()?"
     ]
    }
   ],
   "source": [
    "lis.find(class_='score_reple').find('p').find('span').string.strip('\\t\\r\\n')"
   ]
  },
  {
   "cell_type": "code",
   "execution_count": 120,
   "metadata": {},
   "outputs": [
    {
     "ename": "SyntaxError",
     "evalue": "invalid syntax (<ipython-input-120-22bbfc4ddbdd>, line 24)",
     "output_type": "error",
     "traceback": [
      "\u001b[1;36m  File \u001b[1;32m\"<ipython-input-120-22bbfc4ddbdd>\"\u001b[1;36m, line \u001b[1;32m24\u001b[0m\n\u001b[1;33m    else:\u001b[0m\n\u001b[1;37m       ^\u001b[0m\n\u001b[1;31mSyntaxError\u001b[0m\u001b[1;31m:\u001b[0m invalid syntax\n"
     ]
    }
   ],
   "source": [
    "point = []\n",
    "review = []\n",
    "date = []\n",
    "\n",
    "\n",
    "for page in range(1,total_page+1):\n",
    "    print(page , end='')\n",
    "    url = url_base + ifr_url + '&page=' + str(page)\n",
    "    html = urlopen(url)\n",
    "    soup = BeautifulSoup(html,'html.parser')\n",
    "    result = soup.find(class_='score_result')\n",
    "    lis = result.find_all(\"li\")\n",
    "    \n",
    "    for li1 in lis :\n",
    "        point.append(int(li1.find(class_='star_score').find('em').get_text()))\n",
    "        date.append(li1.find(class_='score_reple').find_all('em')[1].get_text())\n",
    "        count_span = len(li1.find(class_='score_reple').find_all('span'))\n",
    "        count_icon = len(li1.find_all(class_='ico_viewer'))\n",
    "       \n",
    "        if count_span == 2 : # 단문\n",
    "            review.append(li1.find(class_='score_reple').find('p').find('span').string.strip('\\t\\r\\n'))\n",
    "        elif count_icon == 1: #관람객\n",
    "            review.append(li1.find(class_='score_reple').find('p').find_all('span')[1].string"
   ]
  },
  {
   "cell_type": "code",
   "execution_count": 70,
   "metadata": {},
   "outputs": [
    {
     "data": {
      "text/html": [
       "<div>\n",
       "<style scoped>\n",
       "    .dataframe tbody tr th:only-of-type {\n",
       "        vertical-align: middle;\n",
       "    }\n",
       "\n",
       "    .dataframe tbody tr th {\n",
       "        vertical-align: top;\n",
       "    }\n",
       "\n",
       "    .dataframe thead th {\n",
       "        text-align: right;\n",
       "    }\n",
       "</style>\n",
       "<table border=\"1\" class=\"dataframe\">\n",
       "  <thead>\n",
       "    <tr style=\"text-align: right;\">\n",
       "      <th></th>\n",
       "      <th>평점</th>\n",
       "      <th>일시</th>\n",
       "      <th>감상평</th>\n",
       "    </tr>\n",
       "  </thead>\n",
       "  <tbody>\n",
       "  </tbody>\n",
       "</table>\n",
       "</div>"
      ],
      "text/plain": [
       "Empty DataFrame\n",
       "Columns: [평점, 일시, 감상평]\n",
       "Index: []"
      ]
     },
     "execution_count": 70,
     "metadata": {},
     "output_type": "execute_result"
    }
   ],
   "source": [
    "import pandas as pd\n",
    "\n",
    "df = pd.DataFrame({'평점':point, '일시': date, '감상평':review })\n",
    "df"
   ]
  },
  {
   "cell_type": "code",
   "execution_count": 71,
   "metadata": {},
   "outputs": [
    {
     "ename": "IndexError",
     "evalue": "list index out of range",
     "output_type": "error",
     "traceback": [
      "\u001b[1;31m---------------------------------------------------------------------------\u001b[0m",
      "\u001b[1;31mIndexError\u001b[0m                                Traceback (most recent call last)",
      "\u001b[1;32m<ipython-input-71-d6d18b32d3e9>\u001b[0m in \u001b[0;36m<module>\u001b[1;34m\u001b[0m\n\u001b[1;32m----> 1\u001b[1;33m \u001b[0mli4\u001b[0m \u001b[1;33m=\u001b[0m \u001b[0mlis\u001b[0m\u001b[1;33m[\u001b[0m\u001b[1;36m4\u001b[0m\u001b[1;33m]\u001b[0m\u001b[1;33m\u001b[0m\u001b[1;33m\u001b[0m\u001b[0m\n\u001b[0m",
      "\u001b[1;31mIndexError\u001b[0m: list index out of range"
     ]
    }
   ],
   "source": [
    "li4 = lis[4]"
   ]
  },
  {
   "cell_type": "code",
   "execution_count": 72,
   "metadata": {},
   "outputs": [
    {
     "data": {
      "text/plain": [
       "[<a href=\"#\" onclick=\"javascript:showPointListByNid(16566092, 'after');parent.clickcr(this, 'ara.uid', '', '', event); return false;\" target=\"_top\">\n",
       " <span>꼬깔콘의마술사(topm****)</span>\n",
       " </a>,\n",
       " <a class=\"go_report2\" href=\"#\" onclick=\"parent.clickcr(this, 'ara.report', '', '', event); common.report('false','topm****', 'mYLfgyOEM2TeO3BzupUr4lA6Jz4ivIU2gnACMc+P+YE=', '교과서에는 미드웨이 해전에서 미국이 승리했다고 한 줄로 서술되어 있지만 단순히 한 줄로 설명할 수 없는 파란만장했던 전쟁. ', '16566092', 'point_after', false);return false;\"><em>신고</em></a>,\n",
       " <a class=\"_sympathyButton\" href=\"#\" onclick=\"parent.clickcr(this, 'ara.sym', '', '', event);\">\n",
       " <span class=\"ico_up\"></span>\n",
       " <span class=\"blind\">공감</span>\n",
       " <strong class=\"sympathy_16566092\">1046</strong>\n",
       " </a>,\n",
       " <a class=\"_notSympathyButton\" href=\"#\" onclick=\"parent.clickcr(this, 'ara.opp', '', '', event);\">\n",
       " <span class=\"ico_down\"></span>\n",
       " <span class=\"blind\">비공감</span>\n",
       " <strong class=\"notSympathy_16566092\">34</strong>\n",
       " </a>]"
      ]
     },
     "execution_count": 72,
     "metadata": {},
     "output_type": "execute_result"
    }
   ],
   "source": [
    "(li4.find_all('a'))"
   ]
  },
  {
   "cell_type": "code",
   "execution_count": 75,
   "metadata": {},
   "outputs": [
    {
     "ename": "KeyError",
     "evalue": "'data-scr'",
     "output_type": "error",
     "traceback": [
      "\u001b[1;31m---------------------------------------------------------------------------\u001b[0m",
      "\u001b[1;31mKeyError\u001b[0m                                  Traceback (most recent call last)",
      "\u001b[1;32m<ipython-input-75-e56f7a0759a1>\u001b[0m in \u001b[0;36m<module>\u001b[1;34m\u001b[0m\n\u001b[1;32m----> 1\u001b[1;33m \u001b[0mli4\u001b[0m\u001b[1;33m.\u001b[0m\u001b[0mfind\u001b[0m\u001b[1;33m(\u001b[0m\u001b[0mclass_\u001b[0m\u001b[1;33m=\u001b[0m \u001b[1;34m'score_reple'\u001b[0m\u001b[1;33m)\u001b[0m\u001b[1;33m.\u001b[0m\u001b[0mfind\u001b[0m\u001b[1;33m(\u001b[0m\u001b[1;34m'a'\u001b[0m\u001b[1;33m)\u001b[0m\u001b[1;33m[\u001b[0m\u001b[1;34m'data-scr'\u001b[0m\u001b[1;33m]\u001b[0m\u001b[1;33m\u001b[0m\u001b[1;33m\u001b[0m\u001b[0m\n\u001b[0m",
      "\u001b[1;32mC:\\ProgramData\\Anaconda3\\lib\\site-packages\\bs4\\element.py\u001b[0m in \u001b[0;36m__getitem__\u001b[1;34m(self, key)\u001b[0m\n\u001b[0;32m   1319\u001b[0m         \"\"\"tag[key] returns the value of the 'key' attribute for the Tag,\n\u001b[0;32m   1320\u001b[0m         and throws an exception if it's not there.\"\"\"\n\u001b[1;32m-> 1321\u001b[1;33m         \u001b[1;32mreturn\u001b[0m \u001b[0mself\u001b[0m\u001b[1;33m.\u001b[0m\u001b[0mattrs\u001b[0m\u001b[1;33m[\u001b[0m\u001b[0mkey\u001b[0m\u001b[1;33m]\u001b[0m\u001b[1;33m\u001b[0m\u001b[1;33m\u001b[0m\u001b[0m\n\u001b[0m\u001b[0;32m   1322\u001b[0m \u001b[1;33m\u001b[0m\u001b[0m\n\u001b[0;32m   1323\u001b[0m     \u001b[1;32mdef\u001b[0m \u001b[0m__iter__\u001b[0m\u001b[1;33m(\u001b[0m\u001b[0mself\u001b[0m\u001b[1;33m)\u001b[0m\u001b[1;33m:\u001b[0m\u001b[1;33m\u001b[0m\u001b[1;33m\u001b[0m\u001b[0m\n",
      "\u001b[1;31mKeyError\u001b[0m: 'data-scr'"
     ]
    }
   ],
   "source": [
    "li4.find(class_= 'score_reple').find('a')['data-src']\n"
   ]
  },
  {
   "cell_type": "code",
   "execution_count": 74,
   "metadata": {},
   "outputs": [
    {
     "data": {
      "text/plain": [
       "[]"
      ]
     },
     "execution_count": 74,
     "metadata": {},
     "output_type": "execute_result"
    }
   ],
   "source": [
    "review"
   ]
  },
  {
   "cell_type": "code",
   "execution_count": null,
   "metadata": {},
   "outputs": [],
   "source": [
    "# get_text()  : 현재 태크를 포함하여 \n",
    "# 모든 하위 태그를 제거하고 유니코드 텍스트만 들어있는 문자열 반환\n",
    "\n",
    "#string : 태그 내 문자열 반황/자식 태그가 둘 이상이면,\n",
    "#무엇을 반환해야 하는지 명확하지 않기 때문에 None 반환"
   ]
  },
  {
   "cell_type": "code",
   "execution_count": null,
   "metadata": {},
   "outputs": [],
   "source": [
    "import requests\n",
    "from bs4 import BeautifulSoup\n",
    "from urllib.request import urlopen"
   ]
  },
  {
   "cell_type": "code",
   "execution_count": null,
   "metadata": {},
   "outputs": [],
   "source": [
    "url_base = 'https://movie.naver.com'\n",
    "url_sub = '/movie/bi/mi/point.nhn?code=186615'\n",
    "html = urlopen(url_base+url_sub)\n",
    "soup = BeautifulSoup(html,'html.parser')"
   ]
  },
  {
   "cell_type": "code",
   "execution_count": null,
   "metadata": {},
   "outputs": [],
   "source": [
    "ifr_url = soup.find('iframe')['src']\n",
    "ifr_url"
   ]
  },
  {
   "cell_type": "code",
   "execution_count": null,
   "metadata": {},
   "outputs": [],
   "source": [
    "#url_base+ifr_url+\"&page\"+str(page)\n",
    "\n",
    "url = url_base + ifr_url\n",
    "html = urlopen(url)\n",
    "\n",
    "soup = BeautifulSoup(html,'html.parser')\n"
   ]
  },
  {
   "cell_type": "code",
   "execution_count": null,
   "metadata": {},
   "outputs": [],
   "source": []
  },
  {
   "cell_type": "code",
   "execution_count": null,
   "metadata": {},
   "outputs": [],
   "source": []
  },
  {
   "cell_type": "code",
   "execution_count": null,
   "metadata": {},
   "outputs": [],
   "source": []
  }
 ],
 "metadata": {
  "kernelspec": {
   "display_name": "Python 3",
   "language": "python",
   "name": "python3"
  },
  "language_info": {
   "codemirror_mode": {
    "name": "ipython",
    "version": 3
   },
   "file_extension": ".py",
   "mimetype": "text/x-python",
   "name": "python",
   "nbconvert_exporter": "python",
   "pygments_lexer": "ipython3",
   "version": "3.7.6"
  }
 },
 "nbformat": 4,
 "nbformat_minor": 4
}
