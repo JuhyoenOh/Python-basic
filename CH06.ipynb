{
 "cells": [
  {
   "cell_type": "markdown",
   "metadata": {},
   "source": [
    "# Tuple"
   ]
  },
  {
   "cell_type": "code",
   "execution_count": 1,
   "metadata": {},
   "outputs": [
    {
     "name": "stdout",
     "output_type": "stream",
     "text": [
      "(1, 3, 5, 7, 9)\n"
     ]
    }
   ],
   "source": [
    "# tuple 만들기\n",
    "# odds = (1,3,5,7,9)\n",
    "odds = tuple(range(1,10,2))\n",
    "print(odds)"
   ]
  },
  {
   "cell_type": "code",
   "execution_count": 5,
   "metadata": {},
   "outputs": [
    {
     "name": "stdout",
     "output_type": "stream",
     "text": [
      "(1, 4, 9, 16, 25)\n"
     ]
    }
   ],
   "source": [
    "#표현식(1, 4, 9, 16, 25)\n",
    "squares = tuple(i*i for i in range(1,6)) # 리스트 표현식\n",
    "print(squares)"
   ]
  },
  {
   "cell_type": "code",
   "execution_count": 6,
   "metadata": {},
   "outputs": [
    {
     "name": "stdout",
     "output_type": "stream",
     "text": [
      "(1, 9, 25, 49, 81)\n"
     ]
    }
   ],
   "source": [
    "#표현식(1, 9, 25, 49, 81)\n",
    "odd_squares = tuple(i*i for i in range(1,10) if i % 2 == 1)\n",
    "print(odd_squares)"
   ]
  },
  {
   "cell_type": "markdown",
   "metadata": {},
   "source": [
    "## Sequence 객체"
   ]
  },
  {
   "cell_type": "code",
   "execution_count": 9,
   "metadata": {},
   "outputs": [
    {
     "name": "stdout",
     "output_type": "stream",
     "text": [
      "True\n",
      "False\n"
     ]
    }
   ],
   "source": [
    "#특정 값이 있는지 확인하기\n",
    "a = [0, 10, 20, 30, 40, 50, 60, 70, 80, 90]\n",
    "print(30 in a)\n",
    "print(100 in a)"
   ]
  },
  {
   "cell_type": "code",
   "execution_count": 12,
   "metadata": {},
   "outputs": [
    {
     "name": "stdout",
     "output_type": "stream",
     "text": [
      "True\n",
      "False\n"
     ]
    }
   ],
   "source": [
    "print(100 not in a)\n",
    "print(30 not in a)"
   ]
  },
  {
   "cell_type": "code",
   "execution_count": 13,
   "metadata": {},
   "outputs": [
    {
     "data": {
      "text/plain": [
       "True"
      ]
     },
     "execution_count": 13,
     "metadata": {},
     "output_type": "execute_result"
    }
   ],
   "source": [
    "43 in (38, 76, 43, 62, 19)"
   ]
  },
  {
   "cell_type": "code",
   "execution_count": 14,
   "metadata": {},
   "outputs": [
    {
     "data": {
      "text/plain": [
       "True"
      ]
     },
     "execution_count": 14,
     "metadata": {},
     "output_type": "execute_result"
    }
   ],
   "source": [
    "1 in range(10)"
   ]
  },
  {
   "cell_type": "code",
   "execution_count": 17,
   "metadata": {},
   "outputs": [
    {
     "data": {
      "text/plain": [
       "True"
      ]
     },
     "execution_count": 17,
     "metadata": {},
     "output_type": "execute_result"
    }
   ],
   "source": [
    "'P' in 'Hello, Python'"
   ]
  },
  {
   "cell_type": "code",
   "execution_count": 18,
   "metadata": {},
   "outputs": [
    {
     "name": "stdout",
     "output_type": "stream",
     "text": [
      "[0, 10, 20, 30, 9, 8, 7, 6]\n"
     ]
    }
   ],
   "source": [
    "# 시퀀스 객체 연결한기\n",
    "a = [0, 10, 20, 30]\n",
    "b = [9, 8, 7, 6]\n",
    "print(a+b)"
   ]
  },
  {
   "cell_type": "code",
   "execution_count": 20,
   "metadata": {},
   "outputs": [
    {
     "name": "stdout",
     "output_type": "stream",
     "text": [
      "(1, 2, 3, 10, 20, 30)\n",
      "hello world!\n"
     ]
    }
   ],
   "source": [
    "print((1,2,3)+(10,20,30))\n",
    "print('hello'+ ' '+ 'world!')"
   ]
  },
  {
   "cell_type": "code",
   "execution_count": 21,
   "metadata": {},
   "outputs": [
    {
     "ename": "TypeError",
     "evalue": "unsupported operand type(s) for +: 'range' and 'range'",
     "output_type": "error",
     "traceback": [
      "\u001b[1;31m---------------------------------------------------------------------------\u001b[0m",
      "\u001b[1;31mTypeError\u001b[0m                                 Traceback (most recent call last)",
      "\u001b[1;32m<ipython-input-21-16ec1069c2a7>\u001b[0m in \u001b[0;36m<module>\u001b[1;34m\u001b[0m\n\u001b[1;32m----> 1\u001b[1;33m \u001b[0mrange\u001b[0m\u001b[1;33m(\u001b[0m\u001b[1;36m1\u001b[0m\u001b[1;33m,\u001b[0m\u001b[1;36m10\u001b[0m\u001b[1;33m)\u001b[0m \u001b[1;33m+\u001b[0m \u001b[0mrange\u001b[0m\u001b[1;33m(\u001b[0m\u001b[1;36m10\u001b[0m\u001b[1;33m,\u001b[0m\u001b[1;36m20\u001b[0m\u001b[1;33m)\u001b[0m\u001b[1;33m\u001b[0m\u001b[1;33m\u001b[0m\u001b[0m\n\u001b[0m",
      "\u001b[1;31mTypeError\u001b[0m: unsupported operand type(s) for +: 'range' and 'range'"
     ]
    }
   ],
   "source": [
    "range(1,10) + range(10,20)"
   ]
  },
  {
   "cell_type": "code",
   "execution_count": 22,
   "metadata": {},
   "outputs": [
    {
     "data": {
      "text/plain": [
       "(1, 2, 3, 4, 5, 6, 7, 8, 9, 10, 11, 12, 13, 14, 15, 16, 17, 18, 19)"
      ]
     },
     "execution_count": 22,
     "metadata": {},
     "output_type": "execute_result"
    }
   ],
   "source": [
    "tuple(range(1,10))+tuple(range(10,20))"
   ]
  },
  {
   "cell_type": "code",
   "execution_count": 24,
   "metadata": {},
   "outputs": [
    {
     "ename": "TypeError",
     "evalue": "can only concatenate str (not \"int\") to str",
     "output_type": "error",
     "traceback": [
      "\u001b[1;31m---------------------------------------------------------------------------\u001b[0m",
      "\u001b[1;31mTypeError\u001b[0m                                 Traceback (most recent call last)",
      "\u001b[1;32m<ipython-input-24-29f52f129635>\u001b[0m in \u001b[0;36m<module>\u001b[1;34m\u001b[0m\n\u001b[0;32m      1\u001b[0m \u001b[1;31m#문자열과 숫자 연결\u001b[0m\u001b[1;33m\u001b[0m\u001b[1;33m\u001b[0m\u001b[1;33m\u001b[0m\u001b[0m\n\u001b[0;32m      2\u001b[0m \u001b[1;33m\u001b[0m\u001b[0m\n\u001b[1;32m----> 3\u001b[1;33m \u001b[1;34m'python'\u001b[0m\u001b[1;33m+\u001b[0m\u001b[1;36m3\u001b[0m \u001b[1;31m#이렇게 안됨\u001b[0m\u001b[1;33m\u001b[0m\u001b[1;33m\u001b[0m\u001b[0m\n\u001b[0m",
      "\u001b[1;31mTypeError\u001b[0m: can only concatenate str (not \"int\") to str"
     ]
    }
   ],
   "source": [
    "#문자열과 숫자 연결\n",
    "\n",
    "'python'+3 #이렇게 안됨"
   ]
  },
  {
   "cell_type": "code",
   "execution_count": 26,
   "metadata": {},
   "outputs": [
    {
     "name": "stdout",
     "output_type": "stream",
     "text": [
      "Python3\n",
      "Python3.3\n"
     ]
    }
   ],
   "source": [
    "print('Python' + str(3))\n",
    "print('Python' + str(3.3))"
   ]
  },
  {
   "cell_type": "code",
   "execution_count": 28,
   "metadata": {},
   "outputs": [
    {
     "name": "stdout",
     "output_type": "stream",
     "text": [
      "[1, 2, 3, 1, 2, 3, 1, 2, 3]\n",
      "[1, 2, 3, 1, 2, 3, 1, 2, 3]\n"
     ]
    }
   ],
   "source": [
    "# 시퀀스 객체 반복하기\n",
    "print([1,2,3]*3)\n",
    "print(3*[1,2,3])"
   ]
  },
  {
   "cell_type": "code",
   "execution_count": 29,
   "metadata": {},
   "outputs": [
    {
     "name": "stdout",
     "output_type": "stream",
     "text": [
      "(1, 2, 3, 1, 2, 3, 1, 2, 3)\n",
      "PythonPythonPython\n"
     ]
    }
   ],
   "source": [
    "print((1,2,3)*3)\n",
    "print('Python'*3)"
   ]
  },
  {
   "cell_type": "code",
   "execution_count": 33,
   "metadata": {},
   "outputs": [
    {
     "data": {
      "text/plain": [
       "(1, 2, 3, 4, 1, 2, 3, 4, 1, 2, 3, 4)"
      ]
     },
     "execution_count": 33,
     "metadata": {},
     "output_type": "execute_result"
    }
   ],
   "source": [
    "tuple(range(1,5))*3"
   ]
  },
  {
   "cell_type": "code",
   "execution_count": 34,
   "metadata": {},
   "outputs": [
    {
     "data": {
      "text/plain": [
       "[1, 2, 3, 4, 1, 2, 3, 4, 1, 2, 3, 4]"
      ]
     },
     "execution_count": 34,
     "metadata": {},
     "output_type": "execute_result"
    }
   ],
   "source": [
    "list(range(1,5))*3"
   ]
  },
  {
   "cell_type": "code",
   "execution_count": 38,
   "metadata": {},
   "outputs": [
    {
     "name": "stdout",
     "output_type": "stream",
     "text": [
      "(11, 55, 99)\n",
      "(11, 55, 99)\n"
     ]
    }
   ],
   "source": [
    "##########################################\n",
    "a=(11, 22, 33, 44, 55, 66, 77, 88, 99)\n",
    "print(a[0:9:4])\n",
    "print(a[::4])"
   ]
  },
  {
   "cell_type": "code",
   "execution_count": 43,
   "metadata": {},
   "outputs": [
    {
     "name": "stdout",
     "output_type": "stream",
     "text": [
      "{'name': '안지영', 'age': 30, 'email': 'jiyoung@korea.com'}\n",
      "안지영\n",
      "30\n",
      "길이 : 3\n"
     ]
    }
   ],
   "source": [
    "members = {'name':'안지영', 'age':30, 'email':'jiyoung@korea.com'}\n",
    "\n",
    "print(members)\n",
    "print(members['name'])\n",
    "print(members['age'])\n",
    "\n",
    "print('길이 : %d'%len(members))"
   ]
  },
  {
   "cell_type": "code",
   "execution_count": 45,
   "metadata": {},
   "outputs": [
    {
     "name": "stdout",
     "output_type": "stream",
     "text": [
      "70\n",
      "{'kor': 70, 'eng': 85, 'math': 90, 'science': 80, 'music': 100}\n",
      "{'kor': 70, 'eng': 85, 'math': 90, 'music': 100}\n",
      "이름 : 안진영\n",
      "국어 : 70\n",
      "영어 : 85\n",
      "수학 : 90\n"
     ]
    }
   ],
   "source": [
    "name = '안진영'\n",
    "scores = {'kor': 95, 'eng': 85, 'math': 90, 'science': 80}\n",
    "\n",
    "scores['kor']=70\n",
    "print(scores['kor'])\n",
    "\n",
    "scores['music']=100\n",
    "print(scores)\n",
    "\n",
    "del scores['science']\n",
    "print(scores)\n",
    "\n",
    "print('이름 : %s'%name)\n",
    "print('국어 : %d'%scores['kor'])\n",
    "print('영어 : %d'%scores['eng'])\n",
    "print('수학 : %d'%scores['math'])"
   ]
  },
  {
   "cell_type": "code",
   "execution_count": 48,
   "metadata": {},
   "outputs": [
    {
     "name": "stdout",
     "output_type": "stream",
     "text": [
      "{'갤럭시 노트8': 2017, '갤럭시 S9': 2018, '갤럭시 노트10': 2019, '갤럭시 S20': 2020}\n",
      "갤럭시 노트8 => 2017\n",
      "2017\n",
      "갤럭시 S9 => 2018\n",
      "2018\n",
      "갤럭시 노트10 => 2019\n",
      "2019\n",
      "갤럭시 S20 => 2020\n",
      "2020\n",
      "4\n"
     ]
    }
   ],
   "source": [
    "phones = {'갤럭시 노트8': 2017, '갤럭시 S9': 2018,  '갤럭시 노트10':2019,'갤럭시 S20':2020}\n",
    "print(phones)\n",
    "\n",
    "for key in phones:\n",
    "    print('%s => %s'%(key, phones[key]))\n",
    "    \n",
    "    print(phones[key])\n",
    "    \n",
    "print(len(phones))"
   ]
  },
  {
   "cell_type": "code",
   "execution_count": 53,
   "metadata": {},
   "outputs": [
    {
     "name": "stdout",
     "output_type": "stream",
     "text": [
      "{'health': 490, 'mana': 334, 'melee': 550, 'armor': 18.72}\n",
      "health = 490\n",
      "mana = 334\n",
      "melee = 550\n",
      "armor = 18.72\n"
     ]
    }
   ],
   "source": [
    "lux1 = dict(health=490,mana=334,melee=550,armor=18.72)\n",
    "print(lux1)\n",
    "\n",
    "for key in lux1:\n",
    "    print('%s = %s'%(key,lux1[key]))\n"
   ]
  },
  {
   "cell_type": "code",
   "execution_count": 55,
   "metadata": {},
   "outputs": [
    {
     "data": {
      "text/plain": [
       "True"
      ]
     },
     "execution_count": 55,
     "metadata": {},
     "output_type": "execute_result"
    }
   ],
   "source": [
    "'health' in lux1"
   ]
  },
  {
   "cell_type": "code",
   "execution_count": 76,
   "metadata": {},
   "outputs": [
    {
     "name": "stdout",
     "output_type": "stream",
     "text": [
      "아이디 : kim99, 마일리지 : 12000 점\n",
      "아이디 : lee66, 마일리지 : 11000 점\n",
      "아이디 : han55, 마일리지 : 3000 점\n",
      "아이디 : hong77, 마일리지 : 5000 점\n",
      "아이디 : hwang33, 마일리지 : 18000 점\n"
     ]
    }
   ],
   "source": [
    "# 연습문제 1\n",
    "\n",
    "shopping = dict(kim99=12000, lee66=11000, han55=3000, hong77=5000, hwang33=18000)\n",
    "for i in shopping:\n",
    "    print('아이디 : %s, 마일리지 : %d 점'%(i,shopping[i]))"
   ]
  },
  {
   "cell_type": "code",
   "execution_count": 97,
   "metadata": {},
   "outputs": [
    {
     "name": "stdout",
     "output_type": "stream",
     "text": [
      "han55 님의 마일리지가 5000점으로 수정되었습니다.\n"
     ]
    }
   ],
   "source": [
    "# 연습문제 2\n",
    "shopping = dict(kim99=12000, lee66=11000, han55=3000, hong77=5000, hwang33=18000)\n",
    "\n",
    "\n",
    "shopping.update(han55=5000)\n",
    "\n",
    "\n",
    "for i in shopping :\n",
    "    if i == 'han55' :\n",
    "        print('%s 님의 마일리지가 %d점으로 수정되었습니다.'%(i,shopping[i]))   "
   ]
  },
  {
   "cell_type": "code",
   "execution_count": 100,
   "metadata": {},
   "outputs": [
    {
     "name": "stdout",
     "output_type": "stream",
     "text": [
      "{'kim99': 12000, 'lee66': 11000, 'han55': 3000, 'hong77': 5000, 'hwang33': 18000, 'jang88': 7000}\n",
      "jang88 님의 마일리지가 (7000점)가 추가되었습니다.\n"
     ]
    }
   ],
   "source": [
    "# 연습문제 3\n",
    "shopping = dict(kim99=12000, lee66=11000, han55=3000, hong77=5000, hwang33=18000)\n",
    "\n",
    "shopping['jang88']=7000\n",
    "#shopping.setdefault(jang88,7000)\n",
    "\n",
    "print(shopping)\n",
    "\n",
    "for i in shopping :\n",
    "    if i == 'jang88' :\n",
    "        print('%s 님의 마일리지가 (%d점)가 추가되었습니다.'%(i,shopping[i])) "
   ]
  },
  {
   "cell_type": "code",
   "execution_count": 106,
   "metadata": {},
   "outputs": [
    {
     "name": "stdout",
     "output_type": "stream",
     "text": [
      "hwang33 님의 18000점이 가장 높은 점수입니다.\n"
     ]
    }
   ],
   "source": [
    "# 연습문제 4\n",
    "shopping = dict(kim99=12000, lee66=11000, han55=3000, hong77=5000, hwang33=18000)\n",
    "\n",
    "b=shopping['hong77']#12000\n",
    "\n",
    "for i in shopping:\n",
    "    if shopping[i]>b :\n",
    "        b=shopping[i]\n",
    "print('%s 님의 %d점이 가장 높은 점수입니다.'%(i,shopping[i]))    "
   ]
  },
  {
   "cell_type": "code",
   "execution_count": 128,
   "metadata": {},
   "outputs": [
    {
     "name": "stdout",
     "output_type": "stream",
     "text": [
      "----------------------------------------\n",
      "월    화    수    목    금    토    일    \n",
      "----------------------------------------\n",
      "25.5  28.3  33.2  32.1  17.3  35.3  33.3  \n",
      "----------------------------------------\n"
     ]
    }
   ],
   "source": [
    "# 연습문제 5\n",
    "\n",
    "temp = dict(월=25.5 ,화=28.3 ,수=33.2 ,목=32.1 ,금=17.3 ,토=35.3 ,일=33.3)\n",
    "print('-'*40)\n",
    "\n",
    "for i in temp :\n",
    "    print(i,end='    ')\n",
    "print()\n",
    "print('-'*40)\n",
    "for i in temp :\n",
    "    print(temp[i],end='  ')\n",
    "print()\n",
    "print('-'*40)"
   ]
  },
  {
   "cell_type": "code",
   "execution_count": 130,
   "metadata": {},
   "outputs": [
    {
     "name": "stdout",
     "output_type": "stream",
     "text": [
      "가장 낮은 기온 : 17.3\n"
     ]
    }
   ],
   "source": [
    "# 연습문제 6\n",
    "l = temp['월'] # 25.5\n",
    "for i in temp :\n",
    "    if temp[i]<l:\n",
    "        print('가장 낮은 기온 : %.1f'%temp[i])"
   ]
  },
  {
   "cell_type": "code",
   "execution_count": 155,
   "metadata": {},
   "outputs": [
    {
     "name": "stdout",
     "output_type": "stream",
     "text": [
      "기온이 30도 이상인 요일 : 수 목 토 일 "
     ]
    }
   ],
   "source": [
    "# 연습문제 7\n",
    "F = 30\n",
    "G = []\n",
    "\n",
    "for i in temp:\n",
    "    if temp[i]>F:\n",
    "        G.append(i)\n",
    "print('기온이 30도 이상인 요일 : ', end = '')\n",
    "for i in range(len(G)):\n",
    "    print(G[i], end=' ')"
   ]
  },
  {
   "cell_type": "code",
   "execution_count": 158,
   "metadata": {},
   "outputs": [
    {
     "name": "stdout",
     "output_type": "stream",
     "text": [
      "일주일간 기온의 평균 : 29.3\n"
     ]
    }
   ],
   "source": [
    "# 연습문제 8\n",
    "sum=0\n",
    "\n",
    "for i in temp:\n",
    "    temp[i]\n",
    "    sum+=temp[i]\n",
    "\n",
    "avg= sum/len(temp)\n",
    "\n",
    "print('일주일간 기온의 평균 : %.1f'%avg)\n",
    "\n",
    "\n",
    "\n",
    "\n"
   ]
  },
  {
   "cell_type": "code",
   "execution_count": null,
   "metadata": {},
   "outputs": [],
   "source": []
  }
 ],
 "metadata": {
  "kernelspec": {
   "display_name": "Python 3",
   "language": "python",
   "name": "python3"
  },
  "language_info": {
   "codemirror_mode": {
    "name": "ipython",
    "version": 3
   },
   "file_extension": ".py",
   "mimetype": "text/x-python",
   "name": "python",
   "nbconvert_exporter": "python",
   "pygments_lexer": "ipython3",
   "version": "3.7.6"
  }
 },
 "nbformat": 4,
 "nbformat_minor": 4
}
