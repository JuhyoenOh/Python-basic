{
 "cells": [
  {
   "cell_type": "markdown",
   "metadata": {},
   "source": [
    "# Chapter 03 조건문"
   ]
  },
  {
   "cell_type": "code",
   "execution_count": null,
   "metadata": {
    "scrolled": true
   },
   "outputs": [],
   "source": [
    "# ex 3-1\n",
    "\n",
    "x = int(input('숫자를 입력하세요. :'))\n",
    "\n",
    "if x>0 :\n",
    "    print('양수!')\n",
    "else :\n",
    "    print('0 또는 음수!')"
   ]
  },
  {
   "cell_type": "code",
   "execution_count": null,
   "metadata": {},
   "outputs": [],
   "source": [
    "# ex 3-1-2\n",
    "\n",
    "x = int(input('숫자를 입력하세요. :'))\n",
    "\n",
    "if x>0 :\n",
    "    print('양수!')\n",
    "else :\n",
    "    if x<0:\n",
    "        print('음수')\n",
    "    else:\n",
    "        print('0')"
   ]
  },
  {
   "cell_type": "code",
   "execution_count": null,
   "metadata": {},
   "outputs": [],
   "source": [
    "# ex 3-1-2\n",
    "\n",
    "x = int(input('숫자를 입력하세요. :'))\n",
    "\n",
    "if x>0 :\n",
    "    print('양수!')\n",
    "else :\n",
    "    if x<0:\n",
    "        print('음수')\n",
    "    else:\n",
    "        print('0')"
   ]
  },
  {
   "cell_type": "code",
   "execution_count": 1,
   "metadata": {},
   "outputs": [
    {
     "name": "stdout",
     "output_type": "stream",
     "text": [
      "값 :52\n",
      "범위 내에 있다\n"
     ]
    }
   ],
   "source": [
    "x = int(input('값 :'))\n",
    "\n",
    "if 50<x and x<=70 :\n",
    "    print('범위 내에 있다')\n",
    "else :\n",
    "    print('범위 내에 없다')"
   ]
  },
  {
   "cell_type": "code",
   "execution_count": 2,
   "metadata": {},
   "outputs": [
    {
     "name": "stdout",
     "output_type": "stream",
     "text": [
      "숫자를 입력하세요30\n",
      "짝수이다\n"
     ]
    }
   ],
   "source": [
    "# ex 3-3\n",
    "num = int(input('숫자를 입력하세요'))\n",
    "\n",
    "if num%2==0:\n",
    "    print('짝수이다')\n",
    "else :\n",
    "    print('홀수이다')"
   ]
  },
  {
   "cell_type": "code",
   "execution_count": 3,
   "metadata": {},
   "outputs": [
    {
     "name": "stdout",
     "output_type": "stream",
     "text": [
      "필기성적을 입력하세요 :88\n",
      "실기성적을 입력하세요 :500\n",
      "합격!\n"
     ]
    }
   ],
   "source": [
    "# ex 3-4\n",
    "score1 = int(input('필기성적을 입력하세요 :'))\n",
    "score2 = int(input('실기성적을 입력하세요 :'))\n",
    "\n",
    "if score1>=80 and score2>=80:\n",
    "    print('합격!')\n",
    "else :\n",
    "    print('불합격!')"
   ]
  },
  {
   "cell_type": "code",
   "execution_count": null,
   "metadata": {},
   "outputs": [],
   "source": [
    "ㅋㅋ"
   ]
  },
  {
   "cell_type": "code",
   "execution_count": null,
   "metadata": {},
   "outputs": [],
   "source": []
  },
  {
   "cell_type": "code",
   "execution_count": 4,
   "metadata": {},
   "outputs": [
    {
     "name": "stdout",
     "output_type": "stream",
     "text": [
      "이름을 입력하세요.오주현\n",
      "이름 : 오주현\n"
     ]
    }
   ],
   "source": [
    "# ex 3-6\n",
    "name = input('이름을 입력하세요.')\n",
    "\n",
    "if not name :\n",
    "    print('이름이 입력되지 않았다.')\n",
    "else :\n",
    "    print('이름 : %s'%name)"
   ]
  },
  {
   "cell_type": "code",
   "execution_count": 9,
   "metadata": {},
   "outputs": [
    {
     "name": "stdout",
     "output_type": "stream",
     "text": [
      "True\n"
     ]
    }
   ],
   "source": [
    "t = 1   # 0, 0.0, None 은 False, 그 외는 True\n",
    "\n",
    "if t:\n",
    "    print('True')\n",
    "else :\n",
    "    print('False')"
   ]
  },
  {
   "cell_type": "code",
   "execution_count": 13,
   "metadata": {},
   "outputs": [
    {
     "name": "stdout",
     "output_type": "stream",
     "text": [
      "0\n"
     ]
    }
   ],
   "source": [
    "sum =0\n",
    "sum += False # True의 값은 1 False의 값은 0\n",
    "print(sum)"
   ]
  },
  {
   "cell_type": "code",
   "execution_count": 24,
   "metadata": {},
   "outputs": [
    {
     "name": "stdout",
     "output_type": "stream",
     "text": [
      "점수를 입력하세요.22\n",
      "성적 : 22\n",
      "낙제\n"
     ]
    }
   ],
   "source": [
    "x = int(input('점수를 입력하세요.'))\n",
    "성적 = x\n",
    "print('성적 : %s'%성적)\n",
    "if 90<=x :\n",
    "    print('A')\n",
    "elif 80<=x :\n",
    "    print('B')\n",
    "elif 70<=x :\n",
    "    print('C')\n",
    "else :\n",
    "    print('낙제')"
   ]
  },
  {
   "cell_type": "code",
   "execution_count": 20,
   "metadata": {},
   "outputs": [
    {
     "name": "stdout",
     "output_type": "stream",
     "text": [
      "나이를 입력하세요.50\n",
      "입장료 : 3000\n"
     ]
    }
   ],
   "source": [
    "# ex 3-8\n",
    "age = int(input('나이를 입력하세요.'))\n",
    "\n",
    "if age >= 65 or age < 7 :\n",
    "    pay = '무료'\n",
    "elif age <= 18 :\n",
    "    pay = 1500\n",
    "else:\n",
    "    pay = 3000\n",
    "    \n",
    "print('입장료 : %s'%pay)"
   ]
  },
  {
   "cell_type": "code",
   "execution_count": 28,
   "metadata": {
    "scrolled": true
   },
   "outputs": [
    {
     "name": "stdout",
     "output_type": "stream",
     "text": [
      "월을 입력하세요 :1\n",
      "1 월은 겨울입니다.\n"
     ]
    }
   ],
   "source": [
    "#Q 3-1\n",
    "month = int(input('월을 입력하세요 :'))\n",
    "\n",
    "if month >= 3 and month <=5 :\n",
    "    print('%s 월은 봄입니다.'%month)\n",
    "if month >= 6 and month <=8 :\n",
    "    print('%s 월은 여름입니다.'%month)\n",
    "if month >= 9 and month <=11 :\n",
    "    print('%s 월은 가을입니다.'%month)\n",
    "if month == 12 or month == 1 or month == 2 :\n",
    "    print('%s 월은 겨울입니다.'%month)"
   ]
  },
  {
   "cell_type": "code",
   "execution_count": 1,
   "metadata": {},
   "outputs": [
    {
     "name": "stdout",
     "output_type": "stream",
     "text": [
      "좌석 종류를 입력해 주세요(1:일반실, 2:특실):1\n",
      "일반실입니다.\n"
     ]
    }
   ],
   "source": [
    "#Q 3-2\n",
    "\n",
    "a = input('좌석 종류를 입력해 주세요(1:일반실, 2:특실):')\n",
    "\n",
    "seat1 = '일반실'\n",
    "seat2 = '특실'\n",
    "\n",
    "if a =='1' :\n",
    "    print('%s입니다.'%seat1)\n",
    "if a =='2' :\n",
    "    print('%s입니다.'%seat2)"
   ]
  },
  {
   "cell_type": "code",
   "execution_count": 2,
   "metadata": {},
   "outputs": [
    {
     "name": "stdout",
     "output_type": "stream",
     "text": [
      "월을 입력하세요.5\n",
      "숫자를 입력하세요.4\n",
      "4은(는) 4의 배수이다.\n"
     ]
    }
   ],
   "source": [
    "#Q 3-3\n",
    "month = int(input('월을 입력하세요.'))\n",
    "\n",
    "num = int(input('숫자를 입력하세요.'))\n",
    "result = '4의 배수도 5의 배수도 아니다.'\n",
    "\n",
    "if num%4==0 :\n",
    "    result = '4의 배수이다.'\n",
    "if num%5==0 :\n",
    "    result = '5의 배수이다.'\n",
    "if num%4==0 and num%5==0 :\n",
    "    result = '4의 배수이면서 5의 배수이다.'\n",
    "    \n",
    "print('%d은(는) %s'%(num, result)) #%d,%s의 값을 뒤에 %(num, result) 값을 차례대로 읽는다."
   ]
  },
  {
   "cell_type": "code",
   "execution_count": 2,
   "metadata": {},
   "outputs": [
    {
     "name": "stdout",
     "output_type": "stream",
     "text": [
      "영어 알파벳을 입력하세요. :A\n",
      "A은(는) 모음이다\n"
     ]
    }
   ],
   "source": [
    "#Q 3-4\n",
    "\n",
    "char = input('영어 알파벳을 입력하세요. :')\n",
    "\n",
    "char2 = char.upper()\n",
    "\n",
    "if char2=='A' or char2=='E' or char2=='I' or char2=='O' or char2=='U' :\n",
    "    print('%s은(는) 모음이다'%char)\n",
    "else :\n",
    "    print('%s은(는) 자음이다.'%char)\n"
   ]
  },
  {
   "cell_type": "code",
   "execution_count": null,
   "metadata": {},
   "outputs": [],
   "source": []
  }
 ],
 "metadata": {
  "kernelspec": {
   "display_name": "Python 3",
   "language": "python",
   "name": "python3"
  },
  "language_info": {
   "codemirror_mode": {
    "name": "ipython",
    "version": 3
   },
   "file_extension": ".py",
   "mimetype": "text/x-python",
   "name": "python",
   "nbconvert_exporter": "python",
   "pygments_lexer": "ipython3",
   "version": "3.7.6"
  }
 },
 "nbformat": 4,
 "nbformat_minor": 4
}
