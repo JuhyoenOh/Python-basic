{
 "cells": [
  {
   "cell_type": "markdown",
   "metadata": {},
   "source": [
    "# 객체지향 프로그래밍"
   ]
  },
  {
   "cell_type": "code",
   "execution_count": null,
   "metadata": {},
   "outputs": [],
   "source": [
    "#변수명 시작할때 소문자.\n",
    "#함수명 시작할때 소문자.\n",
    "#클래스명은 대문자로 시작한다."
   ]
  },
  {
   "cell_type": "markdown",
   "metadata": {},
   "source": [
    "# 상속(Inheritance)"
   ]
  },
  {
   "cell_type": "code",
   "execution_count": 21,
   "metadata": {},
   "outputs": [
    {
     "name": "stdout",
     "output_type": "stream",
     "text": [
      "공부하기\n",
      "안녕하세요.\n"
     ]
    }
   ],
   "source": [
    "class Person:\n",
    "    def greeting(self):\n",
    "        print('안녕하세요.')\n",
    "        \n",
    "class Student(Person):\n",
    "    def study(self):\n",
    "        print('공부하기')\n",
    "\n",
    "james = Student()\n",
    "james.study()\n",
    "james.greeting()"
   ]
  },
  {
   "cell_type": "code",
   "execution_count": 22,
   "metadata": {},
   "outputs": [
    {
     "data": {
      "text/plain": [
       "'maria'"
      ]
     },
     "execution_count": 22,
     "metadata": {},
     "output_type": "execute_result"
    }
   ],
   "source": [
    "class Person:\n",
    "    def __init__(self,name):\n",
    "        self.name = name\n",
    "    def greeting(self):\n",
    "        print('안녕하세요.')\n",
    "        \n",
    "class Student(Person):\n",
    "    def study(self):\n",
    "        print('공부하기')\n",
    "\n",
    "maria = Student('maria') #속성에 대한 상속\n",
    "maria.name"
   ]
  },
  {
   "cell_type": "markdown",
   "metadata": {},
   "source": [
    "# 다형성(Polymorphism)-Method Overriding"
   ]
  },
  {
   "cell_type": "code",
   "execution_count": 27,
   "metadata": {},
   "outputs": [
    {
     "data": {
      "text/plain": [
       "<bound method Student2.greeting of <__main__.Student2 object at 0x00000270EAEE2988>>"
      ]
     },
     "execution_count": 27,
     "metadata": {},
     "output_type": "execute_result"
    }
   ],
   "source": [
    "class Person:\n",
    "    def greeting(self):\n",
    "        print('안녕하세요.')\n",
    "        \n",
    "class Student2(Person):\n",
    "    def study(self):\n",
    "        print('공부하기')\n",
    "    def greeting(self):\n",
    "        print('안녕하세요. 파이썬 수업을 듣고 있는 학생입니다.')\n",
    "\n",
    "jason = Student2()\n",
    "jason.greeting"
   ]
  },
  {
   "cell_type": "code",
   "execution_count": 28,
   "metadata": {},
   "outputs": [
    {
     "name": "stdout",
     "output_type": "stream",
     "text": [
      "static Method hello()\n",
      "안녕하세요.\n"
     ]
    }
   ],
   "source": [
    "#static method\n",
    "\n",
    "class Person:\n",
    "    def greeting(self):\n",
    "        print('안녕하세요.')\n",
    "        \n",
    "    @staticmethod # 스태틱 메소드라는 것을 알려주는 메타 메소드???으잉??\n",
    "    def hello():\n",
    "        print('static Method hello()')\n",
    "\n",
    "Person.hello()\n",
    "\n",
    "p=Person()\n",
    "p.greeting()"
   ]
  },
  {
   "cell_type": "code",
   "execution_count": null,
   "metadata": {},
   "outputs": [],
   "source": [
    "class Student:\n",
    "    def __init__(self, name, age):\n",
    "        self.name = name\n",
    "        self.age = age\n",
    "        \n",
    "    def __eq__(self, other):\n",
    "        return self.name== other.name and self.age"
   ]
  },
  {
   "cell_type": "code",
   "execution_count": 3,
   "metadata": {},
   "outputs": [
    {
     "name": "stdout",
     "output_type": "stream",
     "text": [
      "10 + 20 = 30\n",
      "100 + 200 = 300\n"
     ]
    }
   ],
   "source": [
    "#ex 9-1\n",
    "\n",
    "class Calculator :\n",
    "    def set(self, x, y) :\n",
    "        self.first = x\n",
    "        self.second = y\n",
    "        \n",
    "    def add(self) :\n",
    "        result = self.first + self.second\n",
    "        return result\n",
    "    \n",
    "cal1 = Calculator()\n",
    "\n",
    "cal1.set(10,20)\n",
    "print('%d + %d = %d'%(cal1.first, cal1.second, cal1.add()))\n",
    "cal1.set(100,200)\n",
    "print('%d + %d = %d'%(cal1.first, cal1.second, cal1.add()))"
   ]
  },
  {
   "cell_type": "code",
   "execution_count": 14,
   "metadata": {},
   "outputs": [],
   "source": [
    "#ex 9-1\n",
    "\n",
    "class Calculator :\n",
    "    def __init__(self, x, y) :\n",
    "        self.first = x\n",
    "        self.second = y\n",
    "        \n",
    "    def add(self) :\n",
    "        result = self.first + self.second\n",
    "        return result\n",
    "    \n",
    "    def sub(self):\n",
    "        result = self.first - self.second\n",
    "        return result"
   ]
  },
  {
   "cell_type": "code",
   "execution_count": 15,
   "metadata": {},
   "outputs": [
    {
     "name": "stdout",
     "output_type": "stream",
     "text": [
      "300\n",
      "-100\n"
     ]
    }
   ],
   "source": [
    "calc1 = Calculator(100,200)\n",
    "print(calc1.add())\n",
    "print(calc1.sub())"
   ]
  },
  {
   "cell_type": "code",
   "execution_count": 16,
   "metadata": {},
   "outputs": [
    {
     "name": "stdout",
     "output_type": "stream",
     "text": [
      "400\n",
      "200\n"
     ]
    }
   ],
   "source": [
    "calc1 = Calculator(300,100)\n",
    "print(calc1.add())\n",
    "print(calc1.sub())"
   ]
  },
  {
   "cell_type": "code",
   "execution_count": 18,
   "metadata": {},
   "outputs": [
    {
     "name": "stdout",
     "output_type": "stream",
     "text": [
      "이름 : 홍지수\n",
      "나이 : 24\n",
      "이름 : 안지영\n",
      "나이 : 20\n"
     ]
    }
   ],
   "source": [
    "#ex 9-2\n",
    "# __init__ 생성자\n",
    "class Member :\n",
    "    def __init__(self,name,age):\n",
    "        self.name = name\n",
    "        self.age = age\n",
    "        \n",
    "    def showMember(self) :\n",
    "        print('이름 : %s'%self.name)\n",
    "        print('나이 : %d'%self.age)\n",
    "        \n",
    "mem1 = Member('홍지수',24)\n",
    "mem1.showMember()\n",
    "mem2 = Member('안지영',20)\n",
    "mem2.showMember()\n",
    "\n"
   ]
  },
  {
   "cell_type": "code",
   "execution_count": 25,
   "metadata": {},
   "outputs": [
    {
     "name": "stdout",
     "output_type": "stream",
     "text": [
      "110\n",
      "130\n"
     ]
    }
   ],
   "source": [
    "#ex 9-3\n",
    "class MyClass :\n",
    "    number = 100 #클래스 속성\n",
    "    \n",
    "    def inc_10(self):\n",
    "        MyClass.number+=10\n",
    "        \n",
    "    def inc_20(self):\n",
    "        MyClass.number+=20\n",
    "        \n",
    "        \n",
    "obj1 = MyClass()\n",
    "obj1.inc_10()\n",
    "print(obj1.number)\n",
    "\n",
    "obj2 = MyClass()\n",
    "obj2.inc_20()\n",
    "print(obj2.number)"
   ]
  },
  {
   "cell_type": "code",
   "execution_count": 29,
   "metadata": {},
   "outputs": [
    {
     "name": "stdout",
     "output_type": "stream",
     "text": [
      "130\n",
      "230\n"
     ]
    }
   ],
   "source": [
    "#ex 9-4\n",
    "\n",
    "class MyClass:\n",
    "    def __init__(self, number):\n",
    "        self.number = number \n",
    "        \n",
    "    def inc_10(self):\n",
    "        self.number +=10\n",
    "        \n",
    "    def inc_20(self):\n",
    "        self.number+=20\n",
    "        \n",
    "        \n",
    "obj1 = MyClass(100)\n",
    "obj1.inc_10()\n",
    "obj1.inc_20()\n",
    "print(obj1.number)\n",
    "\n",
    "obj2 = MyClass(200)\n",
    "obj2.inc_10()\n",
    "obj2.inc_20()\n",
    "print(obj2.number)\n",
    "\n",
    "\n"
   ]
  },
  {
   "cell_type": "markdown",
   "metadata": {},
   "source": [
    "# 9장 연습문제"
   ]
  },
  {
   "cell_type": "code",
   "execution_count": 7,
   "metadata": {},
   "outputs": [
    {
     "name": "stdout",
     "output_type": "stream",
     "text": [
      "abcde\n"
     ]
    }
   ],
   "source": [
    "# 연습문제 1\n",
    "\n",
    "class TestClass1 :\n",
    "    def __init__(self,eng):\n",
    "        self.eng = eng\n",
    "    def eng_list(self) :\n",
    "        print('%s'%self.eng)\n",
    "        \n",
    "        \n",
    "englist = TestClass1('abcde')\n",
    "englist.eng_list()\n",
    "        \n",
    "    "
   ]
  },
  {
   "cell_type": "code",
   "execution_count": 12,
   "metadata": {},
   "outputs": [
    {
     "name": "stdout",
     "output_type": "stream",
     "text": [
      "이름 : 홍길동\n",
      "이메일 : test@korea.com\n"
     ]
    }
   ],
   "source": [
    "# 연습문제 2\n",
    "\n",
    "class TestClass2 :\n",
    "    def __init__(self, name, email):\n",
    "        self.name=name\n",
    "        self.email=email        \n",
    "        \n",
    "mem1 = TestClass2('홍길동','test@korea.com')\n",
    "print('이름 : %s' %mem1.name)\n",
    "print('이메일 : %s'%mem1.email)\n",
    "\n",
    "        \n",
    "    "
   ]
  },
  {
   "cell_type": "code",
   "execution_count": null,
   "metadata": {},
   "outputs": [],
   "source": [
    "# 연습문제 3\n",
    "class TestClass2 :\n",
    "    def __init__(self, name, email):\n",
    "        self.name=name\n",
    "        self.email=email\n",
    "        \n",
    "    def show_list(self) :\n",
    "        print('이름 : %s' %self.name)\n",
    "        print('이메일 : %s'%self.email)\n",
    "\n",
    "        \n",
    "        \n",
    "mem1 = TestClass2('홍길동','test@korea.com')\n",
    "mem1.show_list()"
   ]
  },
  {
   "cell_type": "code",
   "execution_count": 13,
   "metadata": {},
   "outputs": [
    {
     "name": "stdout",
     "output_type": "stream",
     "text": [
      "이름 : 홍길동\n",
      "전화번호 : 010-1234-4567\n",
      "주소 : 성남시\n"
     ]
    }
   ],
   "source": [
    "# 연습문제 4\n",
    "\n",
    "class Member() :\n",
    "    def __init__(self, name, phone, address):\n",
    "        self.name= name\n",
    "        self.phone= phone\n",
    "        self.address= address\n",
    "    \n",
    "    def show(self):\n",
    "        print('이름 : %s'%self.name)\n",
    "        print('전화번호 : %s'%self.phone)\n",
    "        print('주소 : %s'%self.address)\n",
    "        \n",
    "mem2 = Member('홍길동','010-1234-4567','성남시')\n",
    "mem2.show()\n",
    "\n"
   ]
  },
  {
   "cell_type": "code",
   "execution_count": 22,
   "metadata": {},
   "outputs": [
    {
     "name": "stdout",
     "output_type": "stream",
     "text": [
      "이름 : 홍길동\n",
      "전화번호 : 010-1234-4567\n",
      "주소 : 성남시\n"
     ]
    }
   ],
   "source": [
    "# 연습문제 5\n",
    "class Member() :\n",
    "    def __init__(self,dict):\n",
    "        info1=[]\n",
    "        for i in dict :\n",
    "            info1.append(dict[i])\n",
    "        \n",
    "        self.name= info1[0]\n",
    "        self.phone= info1[1]\n",
    "        self.address= info1[2]\n",
    "    \n",
    "    def show(self):\n",
    "        print('이름 : %s'%self.name)\n",
    "        print('전화번호 : %s'%self.phone)\n",
    "        print('주소 : %s'%self.address)\n",
    "\n",
    "dict={'name':'홍길동','phone': '010-1234-4567', 'address':'성남시' } \n",
    "mem3 = Member(dict)\n",
    "mem3.show()"
   ]
  },
  {
   "cell_type": "code",
   "execution_count": 4,
   "metadata": {},
   "outputs": [
    {
     "name": "stdout",
     "output_type": "stream",
     "text": [
      "저자 : 홍길동\n",
      "출판사 : 지구출판사\n",
      "유형 : PDF \n"
     ]
    }
   ],
   "source": [
    "class Book :\n",
    "    def __init__(self, author, publish):\n",
    "        self.author = author\n",
    "        self.publish = publish\n",
    "        \n",
    "    def getAuthorinfo(self) :\n",
    "        string = '저자 : %s'%self.author\n",
    "        return string\n",
    "    def getPublishinfo(self) :\n",
    "        string = '출판사 : %s'%self.publish\n",
    "        return string\n",
    "class Ebook(Book) :\n",
    "    def __init__(self, author, publish, type ) :\n",
    "        super().__init__(author, publish)\n",
    "        self.type = type\n",
    "        \n",
    "    def getTypeinfo(self) :\n",
    "        string = '유형 : %s '%self.type\n",
    "        return string\n",
    "book1 = Ebook('홍길동','지구출판사','PDF')\n",
    "\n",
    "print(book1.getAuthorinfo())\n",
    "print(book1.getPublishinfo())\n",
    "print(book1.getTypeinfo())\n",
    "        "
   ]
  },
  {
   "cell_type": "code",
   "execution_count": null,
   "metadata": {},
   "outputs": [],
   "source": []
  },
  {
   "cell_type": "code",
   "execution_count": null,
   "metadata": {},
   "outputs": [],
   "source": []
  },
  {
   "cell_type": "code",
   "execution_count": null,
   "metadata": {},
   "outputs": [],
   "source": []
  },
  {
   "cell_type": "code",
   "execution_count": null,
   "metadata": {},
   "outputs": [],
   "source": []
  }
 ],
 "metadata": {
  "kernelspec": {
   "display_name": "Python 3",
   "language": "python",
   "name": "python3"
  },
  "language_info": {
   "codemirror_mode": {
    "name": "ipython",
    "version": 3
   },
   "file_extension": ".py",
   "mimetype": "text/x-python",
   "name": "python",
   "nbconvert_exporter": "python",
   "pygments_lexer": "ipython3",
   "version": "3.7.6"
  }
 },
 "nbformat": 4,
 "nbformat_minor": 4
}
