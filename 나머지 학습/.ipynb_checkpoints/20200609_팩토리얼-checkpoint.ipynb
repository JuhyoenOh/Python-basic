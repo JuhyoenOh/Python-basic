{
 "cells": [
  {
   "cell_type": "markdown",
   "metadata": {},
   "source": [
    "#  문자의 입력길이가 n 일 때 , n 이하의 수에 대해서 모든 순열의 경우의 수를 나열하시오.\n"
   ]
  },
  {
   "cell_type": "code",
   "execution_count": 1,
   "metadata": {},
   "outputs": [
    {
     "ename": "SyntaxError",
     "evalue": "unexpected EOF while parsing (<ipython-input-1-f0229ca19359>, line 4)",
     "output_type": "error",
     "traceback": [
      "\u001b[1;36m  File \u001b[1;32m\"<ipython-input-1-f0229ca19359>\"\u001b[1;36m, line \u001b[1;32m4\u001b[0m\n\u001b[1;33m    \u001b[0m\n\u001b[1;37m    ^\u001b[0m\n\u001b[1;31mSyntaxError\u001b[0m\u001b[1;31m:\u001b[0m unexpected EOF while parsing\n"
     ]
    }
   ],
   "source": [
    "group  = [a,b,c]\n",
    "\n",
    "    "
   ]
  },
  {
   "cell_type": "code",
   "execution_count": 2,
   "metadata": {},
   "outputs": [
    {
     "name": "stdout",
     "output_type": "stream",
     "text": [
      "0 a ['a']\n",
      "0 b ['b']\n",
      "0 b c ['b', 'bc']\n",
      "1 c ['b', 'bc', 'c']\n",
      "1 c b ['b', 'bc', 'c', 'cb']\n",
      "0 a b ['a', 'ab']\n",
      "0 a bc ['a', 'ab', 'abc']\n",
      "0 a c ['a', 'ab', 'abc', 'ac']\n",
      "0 a cb ['a', 'ab', 'abc', 'ac', 'acb']\n",
      "1 b ['a', 'ab', 'abc', 'ac', 'acb', 'b']\n",
      "0 a ['a']\n",
      "0 a c ['a', 'ac']\n",
      "1 c ['a', 'ac', 'c']\n",
      "1 c a ['a', 'ac', 'c', 'ca']\n",
      "1 b a ['a', 'ab', 'abc', 'ac', 'acb', 'b', 'ba']\n",
      "1 b ac ['a', 'ab', 'abc', 'ac', 'acb', 'b', 'ba', 'bac']\n",
      "1 b c ['a', 'ab', 'abc', 'ac', 'acb', 'b', 'ba', 'bac', 'bc']\n",
      "1 b ca ['a', 'ab', 'abc', 'ac', 'acb', 'b', 'ba', 'bac', 'bc', 'bca']\n",
      "2 c ['a', 'ab', 'abc', 'ac', 'acb', 'b', 'ba', 'bac', 'bc', 'bca', 'c']\n",
      "0 a ['a']\n",
      "0 a b ['a', 'ab']\n",
      "1 b ['a', 'ab', 'b']\n",
      "1 b a ['a', 'ab', 'b', 'ba']\n",
      "2 c a ['a', 'ab', 'abc', 'ac', 'acb', 'b', 'ba', 'bac', 'bc', 'bca', 'c', 'ca']\n",
      "2 c ab ['a', 'ab', 'abc', 'ac', 'acb', 'b', 'ba', 'bac', 'bc', 'bca', 'c', 'ca', 'cab']\n",
      "2 c b ['a', 'ab', 'abc', 'ac', 'acb', 'b', 'ba', 'bac', 'bc', 'bca', 'c', 'ca', 'cab', 'cb']\n",
      "2 c ba ['a', 'ab', 'abc', 'ac', 'acb', 'b', 'ba', 'bac', 'bc', 'bca', 'c', 'ca', 'cab', 'cb', 'cba']\n"
     ]
    }
   ],
   "source": [
    "## enumerate는 '열거하다'라는 뜻으로서\n",
    "## 리스트의 원소 순서와 원소 값, 2개를 동시에 돌려주는 기능을 가지고 있다.\n",
    "## 주로 for 문과 함께 사용한다.\n",
    "\n",
    "\n",
    "def combination(s):\n",
    "    if len(s) <2:\n",
    "          return s\n",
    "    \n",
    "    res = []\n",
    "    for i , c in enumerate(s):  ## 다 뜯어내기 좋은 함수\n",
    "        res.append(c)   #추가 부분\n",
    "        print(i, c, res)  # 지금 프로그램이 어떻게 돌아가는지 보고싶을 때 넣는다.\n",
    "        for j in combination(s[:i] + s[i+1:]):  ## 재귀 호출\n",
    "            res.append(c+j)\n",
    "            print(i,c, j,res)\n",
    "    return res\n",
    "\n",
    "if __name__ == \"__main__\":\n",
    "    result = combination(\"abc\")\n",
    "#    print(result)"
   ]
  },
  {
   "cell_type": "code",
   "execution_count": null,
   "metadata": {},
   "outputs": [],
   "source": [
    "##        print(i, c, res) 부분만 활성화\n",
    "0 a ['a']\n",
    "0 b ['b']\n",
    "1 c ['b', 'bc', 'c']\n",
    "1 b ['a', 'ab', 'abc', 'ac', 'acb', 'b']\n",
    "0 a ['a']\n",
    "1 c ['a', 'ac', 'c']\n",
    "2 c ['a', 'ab', 'abc', 'ac', 'acb', 'b', 'ba', 'bac', 'bc', 'bca', 'c']\n",
    "0 a ['a']\n",
    "1 b ['a', 'ab', 'b']"
   ]
  },
  {
   "cell_type": "code",
   "execution_count": null,
   "metadata": {},
   "outputs": [],
   "source": [
    "##                 print(j,res) 부분만 활성화\n",
    "c ['b', 'bc']\n",
    "b ['b', 'bc', 'c', 'cb']\n",
    "b ['a', 'ab']\n",
    "bc ['a', 'ab', 'abc']\n",
    "c ['a', 'ab', 'abc', 'ac']\n",
    "cb ['a', 'ab', 'abc', 'ac', 'acb']\n",
    "c ['a', 'ac']\n",
    "a ['a', 'ac', 'c', 'ca']\n",
    "a ['a', 'ab', 'abc', 'ac', 'acb', 'b', 'ba']\n",
    "ac ['a', 'ab', 'abc', 'ac', 'acb', 'b', 'ba', 'bac']\n",
    "c ['a', 'ab', 'abc', 'ac', 'acb', 'b', 'ba', 'bac', 'bc']\n",
    "ca ['a', 'ab', 'abc', 'ac', 'acb', 'b', 'ba', 'bac', 'bc', 'bca']\n",
    "b ['a', 'ab']\n",
    "a ['a', 'ab', 'b', 'ba']\n",
    "a ['a', 'ab', 'abc', 'ac', 'acb', 'b', 'ba', 'bac', 'bc', 'bca', 'c', 'ca']\n",
    "ab ['a', 'ab', 'abc', 'ac', 'acb', 'b', 'ba', 'bac', 'bc', 'bca', 'c', 'ca', 'cab']\n",
    "b ['a', 'ab', 'abc', 'ac', 'acb', 'b', 'ba', 'bac', 'bc', 'bca', 'c', 'ca', 'cab', 'cb']\n",
    "ba ['a', 'ab', 'abc', 'ac', 'acb', 'b', 'ba', 'bac', 'bc', 'bca', 'c', 'ca', 'cab', 'cb', 'cba']"
   ]
  },
  {
   "cell_type": "code",
   "execution_count": null,
   "metadata": {},
   "outputs": [],
   "source": [
    "##            print(i, c, res), print(j,res) 둘다 활성화\n",
    "\n",
    "0 a ['a']\n",
    "0 b ['b']\n",
    "c ['b', 'bc']\n",
    "1 c ['b', 'bc', 'c']\n",
    "b ['b', 'bc', 'c', 'cb']\n",
    "b ['a', 'ab']\n",
    "bc ['a', 'ab', 'abc']\n",
    "c ['a', 'ab', 'abc', 'ac']\n",
    "cb ['a', 'ab', 'abc', 'ac', 'acb']\n",
    "1 b ['a', 'ab', 'abc', 'ac', 'acb', 'b']\n",
    "0 a ['a']\n",
    "c ['a', 'ac']\n",
    "1 c ['a', 'ac', 'c']\n",
    "a ['a', 'ac', 'c', 'ca']\n",
    "a ['a', 'ab', 'abc', 'ac', 'acb', 'b', 'ba']\n",
    "ac ['a', 'ab', 'abc', 'ac', 'acb', 'b', 'ba', 'bac']\n",
    "c ['a', 'ab', 'abc', 'ac', 'acb', 'b', 'ba', 'bac', 'bc']\n",
    "ca ['a', 'ab', 'abc', 'ac', 'acb', 'b', 'ba', 'bac', 'bc', 'bca']\n",
    "2 c ['a', 'ab', 'abc', 'ac', 'acb', 'b', 'ba', 'bac', 'bc', 'bca', 'c']\n",
    "0 a ['a']\n",
    "b ['a', 'ab']\n",
    "1 b ['a', 'ab', 'b']\n",
    "a ['a', 'ab', 'b', 'ba']\n",
    "a ['a', 'ab', 'abc', 'ac', 'acb', 'b', 'ba', 'bac', 'bc', 'bca', 'c', 'ca']\n",
    "ab ['a', 'ab', 'abc', 'ac', 'acb', 'b', 'ba', 'bac', 'bc', 'bca', 'c', 'ca', 'cab']\n",
    "b ['a', 'ab', 'abc', 'ac', 'acb', 'b', 'ba', 'bac', 'bc', 'bca', 'c', 'ca', 'cab', 'cb']\n",
    "ba ['a', 'ab', 'abc', 'ac', 'acb', 'b', 'ba', 'bac', 'bc', 'bca', 'c', 'ca', 'cab', 'cb', 'cba']"
   ]
  }
 ],
 "metadata": {
  "kernelspec": {
   "display_name": "Python 3",
   "language": "python",
   "name": "python3"
  },
  "language_info": {
   "codemirror_mode": {
    "name": "ipython",
    "version": 3
   },
   "file_extension": ".py",
   "mimetype": "text/x-python",
   "name": "python",
   "nbconvert_exporter": "python",
   "pygments_lexer": "ipython3",
   "version": "3.7.6"
  }
 },
 "nbformat": 4,
 "nbformat_minor": 4
}
